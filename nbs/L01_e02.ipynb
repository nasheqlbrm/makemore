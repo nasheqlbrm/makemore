{
 "cells": [
  {
   "cell_type": "markdown",
   "id": "fda04321-9502-465a-a0d5-cf5c92efeac6",
   "metadata": {},
   "source": [
    "# L01_E02"
   ]
  },
  {
   "cell_type": "markdown",
   "id": "f49667b4-3dc8-423f-bcf3-417da333c0eb",
   "metadata": {},
   "source": [
    "Split up the dataset randomly into 80% train set, 10% dev set, 10% test set. Train the bigram and trigram models only on the training set. Evaluate them on dev and test splits. What can you see?"
   ]
  },
  {
   "cell_type": "markdown",
   "id": "a7022fa9-880a-422c-a685-1b38da2e7db4",
   "metadata": {},
   "source": [
    "Let's do this with the counting model."
   ]
  },
  {
   "cell_type": "code",
   "execution_count": null,
   "id": "080de5ae-b5fe-4a65-b632-2d23e553ac72",
   "metadata": {},
   "outputs": [],
   "source": [
    "import torch"
   ]
  },
  {
   "cell_type": "code",
   "execution_count": null,
   "id": "20f5be70-19bb-49e1-b68e-bbabd5c29857",
   "metadata": {},
   "outputs": [],
   "source": [
    "import random\n",
    "random.seed(42)\n",
    "\n",
    "words = open('../names.txt','r').read().splitlines()\n",
    "\n",
    "random.shuffle(words)\n",
    "n1 = int(0.8*len(words))\n",
    "n2 = int(0.9*len(words))\n",
    "\n",
    "words_tr = words[:n1]\n",
    "words_dev = words[n1:n2]\n",
    "words_te = words[n2:]"
   ]
  },
  {
   "cell_type": "code",
   "execution_count": null,
   "id": "0ecfebca-3df5-4b79-9a81-3b09c45701ef",
   "metadata": {},
   "outputs": [
    {
     "data": {
      "text/plain": [
       "26"
      ]
     },
     "execution_count": null,
     "metadata": {},
     "output_type": "execute_result"
    }
   ],
   "source": [
    "chars = sorted(list(set(''.join(words_tr))))\n",
    "len(chars)"
   ]
  },
  {
   "cell_type": "code",
   "execution_count": null,
   "id": "bad265e8-6af7-4fd6-8475-88cdd337d8af",
   "metadata": {},
   "outputs": [],
   "source": [
    "ctoi = {c : i+1 for i,c in enumerate(chars)}\n",
    "ctoi['.'] = 0"
   ]
  },
  {
   "cell_type": "code",
   "execution_count": null,
   "id": "9e86d497-3e87-4c5f-9a6d-f0f5f883a0ba",
   "metadata": {},
   "outputs": [],
   "source": [
    "itoc = {i:c for c,i in ctoi.items()}"
   ]
  },
  {
   "cell_type": "code",
   "execution_count": null,
   "id": "0d4c0317-0dd9-4627-a623-d30423fd1dd8",
   "metadata": {},
   "outputs": [
    {
     "data": {
      "text/plain": [
       "27"
      ]
     },
     "execution_count": null,
     "metadata": {},
     "output_type": "execute_result"
    }
   ],
   "source": [
    "num_chars = len(ctoi.keys())\n",
    "num_chars"
   ]
  },
  {
   "cell_type": "markdown",
   "id": "76b7f80b-c0cd-48a5-ab25-f4c9880ed8ec",
   "metadata": {},
   "source": [
    "# Bigram Model"
   ]
  },
  {
   "cell_type": "code",
   "execution_count": null,
   "id": "9bc2d519-de77-4b83-bc07-bfa79824252d",
   "metadata": {},
   "outputs": [],
   "source": [
    "def train_bigram(words):\n",
    "    N = torch.ones((num_chars,num_chars), dtype=torch.int32)\n",
    "    for word in words:\n",
    "        chs = '.' + word + '.'\n",
    "        for ch1,ch2 in zip(chs,chs[1:]):\n",
    "            N[ctoi[ch1],ctoi[ch2]] += 1\n",
    "    P = N.float()\n",
    "    P /= P.sum(1, keepdim=True)\n",
    "    return P"
   ]
  },
  {
   "cell_type": "code",
   "execution_count": null,
   "id": "9faff604-22a8-4f7f-9dda-960ea92079c0",
   "metadata": {},
   "outputs": [],
   "source": [
    "P = train_bigram(words_tr)"
   ]
  },
  {
   "cell_type": "markdown",
   "id": "fe322558-0a96-47d1-928b-3e9c376d9f05",
   "metadata": {},
   "source": [
    "## Model evaluation"
   ]
  },
  {
   "cell_type": "code",
   "execution_count": null,
   "id": "6b7bd494-5519-452f-929d-abe3c5f95b3f",
   "metadata": {},
   "outputs": [],
   "source": [
    "def evaluate_average_negloglikelihood_bigram(words):\n",
    "    log_likelihood = 0.\n",
    "    n = 0\n",
    "    for word in words:\n",
    "        chs = '.' + word + '.'\n",
    "        for ch1,ch2 in zip(chs,chs[1:]):\n",
    "            prob = P[ctoi[ch1],ctoi[ch2]]\n",
    "            logprob = torch.log(prob)\n",
    "            log_likelihood += logprob\n",
    "            n += 1\n",
    "    \n",
    "    print(f'{log_likelihood=:.4f}') \n",
    "    print(f'{n=}')\n",
    "    nll = -log_likelihood\n",
    "    print(f'{nll/n=:.4f}') "
   ]
  },
  {
   "cell_type": "code",
   "execution_count": null,
   "id": "7663224d-84b2-4702-b75c-56fec3ac45a9",
   "metadata": {},
   "outputs": [
    {
     "name": "stdout",
     "output_type": "stream",
     "text": [
      "log_likelihood=-448229.5938\n",
      "n=182625\n",
      "nll/n=2.4544\n"
     ]
    }
   ],
   "source": [
    "# performance on train\n",
    "evaluate_average_negloglikelihood_bigram(words_tr)"
   ]
  },
  {
   "cell_type": "code",
   "execution_count": null,
   "id": "3021bea1-3a54-4f46-b074-525424632ff3",
   "metadata": {},
   "outputs": [
    {
     "name": "stdout",
     "output_type": "stream",
     "text": [
      "log_likelihood=-55579.4883\n",
      "n=22655\n",
      "nll/n=2.4533\n"
     ]
    }
   ],
   "source": [
    "# performance on dev\n",
    "evaluate_average_negloglikelihood_bigram(words_dev)"
   ]
  },
  {
   "cell_type": "code",
   "execution_count": null,
   "id": "b1d21492-3415-4a46-a879-d74aba5e2b19",
   "metadata": {},
   "outputs": [
    {
     "name": "stdout",
     "output_type": "stream",
     "text": [
      "log_likelihood=-56214.3711\n",
      "n=22866\n",
      "nll/n=2.4584\n"
     ]
    }
   ],
   "source": [
    "# performance on test\n",
    "evaluate_average_negloglikelihood_bigram(words_te)"
   ]
  },
  {
   "cell_type": "markdown",
   "id": "911ea049-62b9-4433-bb16-283fa8c54de7",
   "metadata": {},
   "source": [
    "Performance on the dev and test sets don't show overfitting."
   ]
  },
  {
   "cell_type": "markdown",
   "id": "453ffe62-adb7-445a-ac0f-ccbe7f4035b0",
   "metadata": {},
   "source": [
    "# Trigram model"
   ]
  },
  {
   "cell_type": "code",
   "execution_count": null,
   "id": "ae5a5776-c3ae-42df-9592-4e52d6ab0e9d",
   "metadata": {},
   "outputs": [],
   "source": [
    "stoi = {}\n",
    "for i0,c0 in sorted(itoc.items(), key=lambda kv: kv[0]):\n",
    "    for i1,c1 in sorted(itoc.items(), key=lambda kv: kv[0]):\n",
    "        #print((i0*num_chars) + i1,c0,c1)\n",
    "        stoi[(c0,c1)] = (i0*num_chars) + i1"
   ]
  },
  {
   "cell_type": "code",
   "execution_count": null,
   "id": "a09afb3c-059f-413e-8753-30145f6f6b7f",
   "metadata": {},
   "outputs": [
    {
     "data": {
      "text/plain": [
       "(82, 41)"
      ]
     },
     "execution_count": null,
     "metadata": {},
     "output_type": "execute_result"
    }
   ],
   "source": [
    "stoi[('c','a')], stoi['a','n']"
   ]
  },
  {
   "cell_type": "code",
   "execution_count": null,
   "id": "f8ca67ba-699a-4347-a030-bcca8036ab30",
   "metadata": {},
   "outputs": [],
   "source": [
    "def train_trigram(words):\n",
    "    N = torch.ones((num_chars*num_chars, num_chars), \n",
    "                   dtype=torch.int32\n",
    "                  )\n",
    "    for word in words:\n",
    "        chs = '..'+word+'.'\n",
    "        for ch1,ch2,ch3 in zip(chs,chs[1:],chs[2:]):\n",
    "            row = stoi[(ch1,ch2)]\n",
    "            column = ctoi[ch3]\n",
    "            N[row,column] += 1\n",
    "    P = N.float()\n",
    "    P /= P.sum(1, keepdim=True)\n",
    "    return P"
   ]
  },
  {
   "cell_type": "code",
   "execution_count": null,
   "id": "3abb36b4-5fd7-470c-af06-bb95324f0530",
   "metadata": {},
   "outputs": [],
   "source": [
    "P = train_trigram(words_tr)"
   ]
  },
  {
   "cell_type": "markdown",
   "id": "ba0e2002-b024-468a-b12d-67a080f8f5ad",
   "metadata": {},
   "source": [
    "## Model evaluation"
   ]
  },
  {
   "cell_type": "code",
   "execution_count": null,
   "id": "e729e67a-0488-4a6c-8642-bcc33c362205",
   "metadata": {},
   "outputs": [],
   "source": [
    "def evaluate_average_negloglikelihood_trigram(words):\n",
    "    log_likelihood = 0.\n",
    "    n = 0\n",
    "    for word in words:\n",
    "        chs = '..' + word + '.'\n",
    "        for ch1,ch2,ch3 in zip(chs,chs[1:],chs[2:]):\n",
    "            #print(ch1,ch2,ch3)\n",
    "            prob = P[stoi[ch1,ch2],ctoi[ch3]]\n",
    "            logprob = torch.log(prob)\n",
    "            log_likelihood += logprob\n",
    "            n += 1\n",
    "    \n",
    "    print(f'{log_likelihood=:.4f}') \n",
    "    print(f'{n=}')\n",
    "    nll = -log_likelihood\n",
    "    print(f'{nll/n=:.4f}') "
   ]
  },
  {
   "cell_type": "code",
   "execution_count": null,
   "id": "48739b86-3441-49dc-9cd3-d72f66ac6bab",
   "metadata": {},
   "outputs": [
    {
     "name": "stdout",
     "output_type": "stream",
     "text": [
      "log_likelihood=-404643.9062\n",
      "n=182625\n",
      "nll/n=2.2157\n"
     ]
    }
   ],
   "source": [
    "evaluate_average_negloglikelihood_trigram(words_tr)"
   ]
  },
  {
   "cell_type": "code",
   "execution_count": null,
   "id": "dfe31fe0-e6a5-4fca-945f-48007489b6ad",
   "metadata": {},
   "outputs": [
    {
     "name": "stdout",
     "output_type": "stream",
     "text": [
      "log_likelihood=-50666.9961\n",
      "n=22655\n",
      "nll/n=2.2365\n"
     ]
    }
   ],
   "source": [
    "evaluate_average_negloglikelihood_trigram(words_dev)"
   ]
  },
  {
   "cell_type": "code",
   "execution_count": null,
   "id": "891fe878-b7a4-4a02-9c30-2117ffed9e68",
   "metadata": {},
   "outputs": [
    {
     "name": "stdout",
     "output_type": "stream",
     "text": [
      "log_likelihood=-51158.6094\n",
      "n=22866\n",
      "nll/n=2.2373\n"
     ]
    }
   ],
   "source": [
    "evaluate_average_negloglikelihood_trigram(words_te)"
   ]
  },
  {
   "cell_type": "markdown",
   "id": "9d357bb3-ca64-4cc0-904a-ac6e63dbd053",
   "metadata": {},
   "source": [
    "There seems to be overfitting on the training set. The performance on the dev and test sets are worse than on the training set."
   ]
  },
  {
   "cell_type": "code",
   "execution_count": null,
   "id": "6a675ce4-5279-4b9f-969f-60a690d5dda3",
   "metadata": {},
   "outputs": [],
   "source": []
  }
 ],
 "metadata": {
  "kernelspec": {
   "display_name": "python3",
   "language": "python",
   "name": "python3"
  }
 },
 "nbformat": 4,
 "nbformat_minor": 5
}
