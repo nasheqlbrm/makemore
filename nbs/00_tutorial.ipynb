{
 "cells": [
  {
   "cell_type": "markdown",
   "id": "b14f92c5",
   "metadata": {},
   "source": [
    "# Tutorial"
   ]
  },
  {
   "cell_type": "markdown",
   "id": "b56a92ba",
   "metadata": {},
   "source": [
    "We have a long list of names in the `names.txt` file. Some sample entries as below:"
   ]
  },
  {
   "cell_type": "code",
   "execution_count": null,
   "id": "ab4b01d5",
   "metadata": {},
   "outputs": [
    {
     "name": "stdout",
     "output_type": "stream",
     "text": [
      "emma\r\n",
      "olivia\r\n",
      "ava\r\n"
     ]
    }
   ],
   "source": [
    "!head -n 3 ../names.txt "
   ]
  },
  {
   "cell_type": "code",
   "execution_count": null,
   "id": "fb738dfc",
   "metadata": {},
   "outputs": [
    {
     "name": "stdout",
     "output_type": "stream",
     "text": [
      "   32032 ../names.txt\r\n"
     ]
    }
   ],
   "source": [
    "!wc -l ../names.txt"
   ]
  },
  {
   "cell_type": "code",
   "execution_count": null,
   "id": "ca193b2d",
   "metadata": {},
   "outputs": [],
   "source": []
  }
 ],
 "metadata": {
  "kernelspec": {
   "display_name": "python3",
   "language": "python",
   "name": "python3"
  }
 },
 "nbformat": 4,
 "nbformat_minor": 5
}
