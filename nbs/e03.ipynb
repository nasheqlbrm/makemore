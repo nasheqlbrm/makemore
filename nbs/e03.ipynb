{
 "cells": [
  {
   "cell_type": "markdown",
   "id": "17e7de16-537a-41df-ab2c-b6050c8ca08d",
   "metadata": {},
   "source": [
    "# E03"
   ]
  },
  {
   "cell_type": "markdown",
   "id": "4c3bece6-1697-41e2-91c7-856e3e9b77a8",
   "metadata": {},
   "source": [
    "Use the dev set to tune the strength of smoothing (or regularization) for the trigram model - i.e. try many possibilities and see which one works best based on the dev set loss. What patterns can you see in the train and dev set loss as you tune this strength? Take the best setting of the smoothing and evaluate on the test set once and at the end. How good of a loss do you achieve?"
   ]
  },
  {
   "cell_type": "code",
   "execution_count": 1,
   "id": "c8cab2e2-3933-4d5b-8e8f-2e3de418862c",
   "metadata": {},
   "outputs": [],
   "source": [
    "import torch"
   ]
  },
  {
   "cell_type": "code",
   "execution_count": 2,
   "id": "16811fba-1c56-45b7-a676-a37a2f94ffe6",
   "metadata": {},
   "outputs": [],
   "source": [
    "import random\n",
    "random.seed(42)\n",
    "\n",
    "words = open('../names.txt','r').read().splitlines()\n",
    "\n",
    "random.shuffle(words)\n",
    "n1 = int(0.8*len(words))\n",
    "n2 = int(0.9*len(words))\n",
    "\n",
    "words_tr = words[:n1]\n",
    "words_dev = words[n1:n2]\n",
    "words_te = words[n2:]"
   ]
  },
  {
   "cell_type": "code",
   "execution_count": 3,
   "id": "91b4a543-c9a0-44b3-be46-fa7fb5c30e89",
   "metadata": {},
   "outputs": [
    {
     "data": {
      "text/plain": [
       "26"
      ]
     },
     "execution_count": 3,
     "metadata": {},
     "output_type": "execute_result"
    }
   ],
   "source": [
    "chars = sorted(list(set(''.join(words_tr))))\n",
    "len(chars)"
   ]
  },
  {
   "cell_type": "code",
   "execution_count": 4,
   "id": "e4b6217d-e93d-49de-ab02-7513ad00f17a",
   "metadata": {},
   "outputs": [],
   "source": [
    "ctoi = {c : i+1 for i,c in enumerate(chars)}\n",
    "ctoi['.'] = 0"
   ]
  },
  {
   "cell_type": "code",
   "execution_count": 5,
   "id": "b72a7f53-1e28-411c-8368-77158b211881",
   "metadata": {},
   "outputs": [],
   "source": [
    "itoc = {i:c for c,i in ctoi.items()}"
   ]
  },
  {
   "cell_type": "code",
   "execution_count": 6,
   "id": "ee2f5d4b-b9de-4210-b067-be14339aef17",
   "metadata": {},
   "outputs": [
    {
     "data": {
      "text/plain": [
       "27"
      ]
     },
     "execution_count": 6,
     "metadata": {},
     "output_type": "execute_result"
    }
   ],
   "source": [
    "num_chars = len(ctoi.keys())\n",
    "num_chars"
   ]
  },
  {
   "cell_type": "code",
   "execution_count": 7,
   "id": "181bf069-91c9-4d76-ad46-2ef79281edf6",
   "metadata": {},
   "outputs": [],
   "source": [
    "stoi = {}\n",
    "for i0,c0 in sorted(itoc.items(), key=lambda kv: kv[0]):\n",
    "    for i1,c1 in sorted(itoc.items(), key=lambda kv: kv[0]):\n",
    "        #print((i0*num_chars) + i1,c0,c1)\n",
    "        stoi[(c0,c1)] = (i0*num_chars) + i1"
   ]
  },
  {
   "cell_type": "code",
   "execution_count": 8,
   "id": "64c10136-33e8-456d-9af9-d9ec45afe26a",
   "metadata": {},
   "outputs": [],
   "source": [
    "def build_dataset(words):\n",
    "    xs,ys = [],[]\n",
    "    \n",
    "    for word in words:\n",
    "        chs = '..' + word + '.'\n",
    "        for ch1,ch2,ch3 in zip(chs,chs[1:],chs[2:]):\n",
    "            ix1 = stoi[ch1,ch2]\n",
    "            ix2 = ctoi[ch3]\n",
    "            xs.append(ix1)\n",
    "            ys.append(ix2)\n",
    "    \n",
    "    # prefer to use torch.tensor instead of torch.Tensor\n",
    "    xs = torch.tensor(xs)\n",
    "    ys = torch.tensor(ys)\n",
    "    num = xs.nelement()\n",
    "    print(f'number of examples: {num}')   \n",
    "\n",
    "    return xs, ys"
   ]
  },
  {
   "cell_type": "code",
   "execution_count": 9,
   "id": "5d1d76cb-179f-4cce-b5d1-198bc8fb879f",
   "metadata": {},
   "outputs": [
    {
     "name": "stdout",
     "output_type": "stream",
     "text": [
      "number of examples: 182625\n",
      "number of examples: 22655\n",
      "number of examples: 22866\n"
     ]
    }
   ],
   "source": [
    "Xtr,Ytr=build_dataset(words_tr)\n",
    "Xdev,Ydev=build_dataset(words_dev)\n",
    "Xte,Yte=build_dataset(words_te)"
   ]
  },
  {
   "cell_type": "code",
   "execution_count": 10,
   "id": "65ed8971-8746-4a2c-9784-b30f7393f02e",
   "metadata": {},
   "outputs": [],
   "source": [
    "import torch.nn.functional as F"
   ]
  },
  {
   "cell_type": "code",
   "execution_count": 11,
   "id": "e51850a5-6950-427a-a925-97710e33d66f",
   "metadata": {},
   "outputs": [
    {
     "name": "stdout",
     "output_type": "stream",
     "text": [
      "Done!\n"
     ]
    }
   ],
   "source": [
    "rege = torch.linspace(-4,1,200)\n",
    "regs = 10**rege\n",
    "\n",
    "loss_tr = []\n",
    "loss_dev = []\n",
    "loss_reg = [] #keep track of the loss we are adding from the regularization\n",
    "for reg in regs:\n",
    "    g = torch.Generator().manual_seed(2147483647)\n",
    "    W = torch.randn((num_chars*num_chars,num_chars), generator=g, requires_grad=True) #single layer of 27 neurons each getting 27x27 inputs\n",
    "    for k in range(400):\n",
    "        xs, ys = Xtr, Ytr\n",
    "        xenc = F.one_hot(xs, num_classes = num_chars*num_chars).float()\n",
    "        logits = xenc@W #log-counts\n",
    "        counts = logits.exp() # exponentiate the logits to get fake counts\n",
    "        probs = counts/counts.sum(1,keepdims=True)\n",
    "        \n",
    "        loss_1 = (-(probs[torch.arange(xs.nelement()),ys]).log()).mean()\n",
    "        loss_2 = reg*(W**2).mean() #regularization loss\n",
    "        \n",
    "        loss = loss_1 + loss_2\n",
    "    \n",
    "        # if k%40==0: print(loss.item())\n",
    "        \n",
    "        #backward pass\n",
    "        W.grad = None #More efficient than setting to zero directly. Lack of gradient is interpreted as zero by PyTorch\n",
    "        loss.backward()\n",
    "        \n",
    "        #update\n",
    "        W.data += -4*50 * W.grad    \n",
    "\n",
    "    loss_tr.append(loss_1.item())\n",
    "    loss_reg.append(loss_2.item())\n",
    "    \n",
    "    xs, ys = Xdev, Ydev\n",
    "    xenc = F.one_hot(xs, num_classes = num_chars*num_chars).float()\n",
    "    logits = xenc@W #log-counts\n",
    "    counts = logits.exp() # exponentiate the logits to get fake counts\n",
    "    probs = counts/counts.sum(1,keepdims=True)\n",
    "    loss = (-(probs[torch.arange(xs.nelement()),ys]).log()).mean()\n",
    "    loss_dev.append(loss.item())\n",
    "\n",
    "    #print(reg.item(), loss_tr[-1], loss_dev[-1])\n",
    "print('Done!')"
   ]
  },
  {
   "cell_type": "code",
   "execution_count": 12,
   "id": "c767f278-98e7-470f-8cb5-7f26212543ef",
   "metadata": {},
   "outputs": [],
   "source": [
    "import pandas as pd\n",
    "import numpy as np"
   ]
  },
  {
   "cell_type": "code",
   "execution_count": 13,
   "id": "fc36b6e3-a076-4608-82a0-0b169db15e16",
   "metadata": {
    "scrolled": true
   },
   "outputs": [
    {
     "data": {
      "text/html": [
       "<div>\n",
       "<style scoped>\n",
       "    .dataframe tbody tr th:only-of-type {\n",
       "        vertical-align: middle;\n",
       "    }\n",
       "\n",
       "    .dataframe tbody tr th {\n",
       "        vertical-align: top;\n",
       "    }\n",
       "\n",
       "    .dataframe thead th {\n",
       "        text-align: right;\n",
       "    }\n",
       "</style>\n",
       "<table border=\"1\" class=\"dataframe\">\n",
       "  <thead>\n",
       "    <tr style=\"text-align: right;\">\n",
       "      <th></th>\n",
       "      <th>rege</th>\n",
       "      <th>reg</th>\n",
       "      <th>loss_tr</th>\n",
       "      <th>loss_dev</th>\n",
       "    </tr>\n",
       "  </thead>\n",
       "  <tbody>\n",
       "    <tr>\n",
       "      <th>0</th>\n",
       "      <td>-4.000000</td>\n",
       "      <td>0.000100</td>\n",
       "      <td>2.283918</td>\n",
       "      <td>2.248096</td>\n",
       "    </tr>\n",
       "    <tr>\n",
       "      <th>1</th>\n",
       "      <td>-3.974874</td>\n",
       "      <td>0.000106</td>\n",
       "      <td>2.224400</td>\n",
       "      <td>2.251100</td>\n",
       "    </tr>\n",
       "    <tr>\n",
       "      <th>2</th>\n",
       "      <td>-3.949749</td>\n",
       "      <td>0.000112</td>\n",
       "      <td>2.335932</td>\n",
       "      <td>2.280850</td>\n",
       "    </tr>\n",
       "    <tr>\n",
       "      <th>3</th>\n",
       "      <td>-3.924623</td>\n",
       "      <td>0.000119</td>\n",
       "      <td>2.228556</td>\n",
       "      <td>2.264807</td>\n",
       "    </tr>\n",
       "    <tr>\n",
       "      <th>4</th>\n",
       "      <td>-3.899498</td>\n",
       "      <td>0.000126</td>\n",
       "      <td>2.297669</td>\n",
       "      <td>2.255722</td>\n",
       "    </tr>\n",
       "  </tbody>\n",
       "</table>\n",
       "</div>"
      ],
      "text/plain": [
       "       rege       reg   loss_tr  loss_dev\n",
       "0 -4.000000  0.000100  2.283918  2.248096\n",
       "1 -3.974874  0.000106  2.224400  2.251100\n",
       "2 -3.949749  0.000112  2.335932  2.280850\n",
       "3 -3.924623  0.000119  2.228556  2.264807\n",
       "4 -3.899498  0.000126  2.297669  2.255722"
      ]
     },
     "execution_count": 13,
     "metadata": {},
     "output_type": "execute_result"
    }
   ],
   "source": [
    "df = pd.DataFrame({'rege': rege, 'reg': regs, 'loss_tr':loss_tr, 'loss_dev': loss_dev })\n",
    "df.head()"
   ]
  },
  {
   "cell_type": "code",
   "execution_count": 14,
   "id": "a6c59f2a-2081-49e5-8d65-0d364018eea0",
   "metadata": {},
   "outputs": [
    {
     "data": {
      "text/plain": [
       "<Axes: xlabel='rege'>"
      ]
     },
     "execution_count": 14,
     "metadata": {},
     "output_type": "execute_result"
    },
    {
     "data": {
      "image/png": "[encoded data removed]",
      "text/plain": [
       "<Figure size 640x480 with 1 Axes>"
      ]
     },
     "metadata": {},
     "output_type": "display_data"
    }
   ],
   "source": [
    "(df.set_index('rege')\n",
    " [['loss_tr','loss_dev']]\n",
    " .plot()\n",
    ")"
   ]
  },
  {
   "cell_type": "markdown",
   "id": "111b0edb-97b7-4e87-89f9-bd5b8d155bed",
   "metadata": {},
   "source": [
    "Let's identify the regularization that leads to the lowest loss on the dev set. "
   ]
  },
  {
   "cell_type": "code",
   "execution_count": 15,
   "id": "4248bbcd-ccc5-41a3-b1f3-343d5d1bb468",
   "metadata": {},
   "outputs": [
    {
     "data": {
      "text/plain": [
       "(66, 2.24414324760437)"
      ]
     },
     "execution_count": 15,
     "metadata": {},
     "output_type": "execute_result"
    }
   ],
   "source": [
    "df.loss_dev.idxmin(), df.loss_dev.min()"
   ]
  },
  {
   "cell_type": "code",
   "execution_count": 16,
   "id": "e1524d29-9009-4590-a9cc-39e1771959b7",
   "metadata": {},
   "outputs": [
    {
     "data": {
      "text/plain": [
       "rege       -2.341709\n",
       "reg         0.004553\n",
       "loss_tr     2.233218\n",
       "loss_dev    2.244143\n",
       "Name: 66, dtype: float64"
      ]
     },
     "execution_count": 16,
     "metadata": {},
     "output_type": "execute_result"
    }
   ],
   "source": [
    "df.iloc[df.loss_dev.idxmin(), :]"
   ]
  },
  {
   "cell_type": "markdown",
   "id": "6148eb44-3b6d-467e-bfdd-6cf20e4e8a3b",
   "metadata": {},
   "source": [
    "Retrain with this best value of regularization"
   ]
  },
  {
   "cell_type": "code",
   "execution_count": 17,
   "id": "5915732c-57fb-4a42-8216-c0e5cd69344c",
   "metadata": {},
   "outputs": [
    {
     "data": {
      "text/plain": [
       "0.004552933843974289"
      ]
     },
     "execution_count": 17,
     "metadata": {},
     "output_type": "execute_result"
    }
   ],
   "source": [
    "10**(rege[df.loss_dev.idxmin()].item())"
   ]
  },
  {
   "cell_type": "code",
   "execution_count": 18,
   "id": "6980c99b-2261-4660-b05f-29e83af66aa0",
   "metadata": {},
   "outputs": [
    {
     "name": "stdout",
     "output_type": "stream",
     "text": [
      "2.2332184314727783 0.006634071934968233 2.2398524284362793\n"
     ]
    }
   ],
   "source": [
    "g = torch.Generator().manual_seed(2147483647)\n",
    "W = torch.randn((num_chars*num_chars,num_chars), generator=g, requires_grad=True) #single layer of 27 neurons each getting 27x27 inputs\n",
    "reg = 10**(rege[df.loss_dev.idxmin()].item())\n",
    "for k in range(400):\n",
    "    xs, ys = Xtr, Ytr\n",
    "    xenc = F.one_hot(xs, num_classes = num_chars*num_chars).float()\n",
    "    logits = xenc@W #log-counts\n",
    "    counts = logits.exp() # exponentiate the logits to get fake counts\n",
    "    probs = counts/counts.sum(1,keepdims=True)\n",
    "    \n",
    "    loss_1 = (-(probs[torch.arange(xs.nelement()),ys]).log()).mean()\n",
    "    loss_2 = reg*(W**2).mean() #regularization loss\n",
    "    \n",
    "    loss = loss_1 + loss_2\n",
    "\n",
    "    # if k%40==0: print(loss.item())\n",
    "    \n",
    "    #backward pass\n",
    "    W.grad = None #More efficient than setting to zero directly. Lack of gradient is interpreted as zero by PyTorch\n",
    "    loss.backward()\n",
    "    \n",
    "    #update\n",
    "    W.data += -4*50 * W.grad\n",
    "print(loss_1.item(), loss_2.item(), loss.item())    "
   ]
  },
  {
   "cell_type": "markdown",
   "id": "4cc12040-8de4-4e0c-8a18-0f36e3d9b599",
   "metadata": {},
   "source": [
    "Finally let's evaluate the loss on the test set"
   ]
  },
  {
   "cell_type": "code",
   "execution_count": 19,
   "id": "ab46fc72-f6c3-48ba-8d95-972cb5ada582",
   "metadata": {},
   "outputs": [
    {
     "name": "stdout",
     "output_type": "stream",
     "text": [
      "2.2439746856689453\n"
     ]
    }
   ],
   "source": [
    "xs, ys = Xte, Yte\n",
    "xenc = F.one_hot(xs, num_classes = num_chars*num_chars).float()\n",
    "logits = xenc@W #log-counts\n",
    "counts = logits.exp() # exponentiate the logits to get fake counts\n",
    "probs = counts/counts.sum(1,keepdims=True)\n",
    "loss = (-(probs[torch.arange(xs.nelement()),ys]).log()).mean()\n",
    "print(loss.item())"
   ]
  },
  {
   "cell_type": "code",
   "execution_count": null,
   "id": "b8047b61-251d-47f8-95eb-1fd3cc50850f",
   "metadata": {},
   "outputs": [],
   "source": []
  }
 ],
 "metadata": {
  "kernelspec": {
   "display_name": "Python 3 (ipykernel)",
   "language": "python",
   "name": "python3"
  },
  "language_info": {
   "codemirror_mode": {
    "name": "ipython",
    "version": 3
   },
   "file_extension": ".py",
   "mimetype": "text/x-python",
   "name": "python",
   "nbconvert_exporter": "python",
   "pygments_lexer": "ipython3",
   "version": "3.10.10"
  }
 },
 "nbformat": 4,
 "nbformat_minor": 5
}
