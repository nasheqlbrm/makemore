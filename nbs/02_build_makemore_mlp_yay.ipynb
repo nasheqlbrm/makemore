{
 "cells": [
  {
   "cell_type": "markdown",
   "id": "b41be0e1",
   "metadata": {},
   "source": [
    "# Build makmore MLP"
   ]
  },
  {
   "cell_type": "code",
   "execution_count": null,
   "id": "e908661d",
   "metadata": {},
   "outputs": [],
   "source": [
    "import torch\n",
    "import torch.nn.functional as F\n",
    "import matplotlib.pyplot as plt\n",
    "%matplotlib inline"
   ]
  },
  {
   "cell_type": "code",
   "execution_count": null,
   "id": "3b3ec550",
   "metadata": {},
   "outputs": [
    {
     "data": {
      "text/plain": [
       "['emma', 'olivia', 'ava', 'isabella', 'sophia', 'charlotte', 'mia', 'amelia']"
      ]
     },
     "execution_count": null,
     "metadata": {},
     "output_type": "execute_result"
    }
   ],
   "source": [
    "words = open('../names.txt','r').read().splitlines()\n",
    "words[:8]"
   ]
  },
  {
   "cell_type": "code",
   "execution_count": null,
   "id": "982ee771",
   "metadata": {},
   "outputs": [
    {
     "data": {
      "text/plain": [
       "32033"
      ]
     },
     "execution_count": null,
     "metadata": {},
     "output_type": "execute_result"
    }
   ],
   "source": [
    "len(words)"
   ]
  },
  {
   "cell_type": "markdown",
   "id": "d16cc8eb",
   "metadata": {},
   "source": [
    "## Build the dataset"
   ]
  },
  {
   "cell_type": "code",
   "execution_count": null,
   "id": "66ad6019",
   "metadata": {},
   "outputs": [
    {
     "name": "stdout",
     "output_type": "stream",
     "text": [
      "{1: 'a', 2: 'b', 3: 'c', 4: 'd', 5: 'e', 6: 'f', 7: 'g', 8: 'h', 9: 'i', 10: 'j', 11: 'k', 12: 'l', 13: 'm', 14: 'n', 15: 'o', 16: 'p', 17: 'q', 18: 'r', 19: 's', 20: 't', 21: 'u', 22: 'v', 23: 'w', 24: 'x', 25: 'y', 26: 'z', 0: '.'}\n"
     ]
    }
   ],
   "source": [
    "chars = sorted(set(list(''.join(words))))\n",
    "stoi = {char:idx+1 for idx,char in enumerate(chars)}\n",
    "stoi['.'] = 0 \n",
    "itos = {idx:char for char, idx in stoi.items()}\n",
    "print(itos)"
   ]
  },
  {
   "cell_type": "markdown",
   "id": "230cd797",
   "metadata": {},
   "source": [
    "#|hide\n",
    "03/23/23 Stop at 10:22 / 1:15:39"
   ]
  },
  {
   "cell_type": "code",
   "execution_count": null,
   "id": "f1273e91",
   "metadata": {},
   "outputs": [
    {
     "name": "stdout",
     "output_type": "stream",
     "text": [
      "emma\n",
      "...\n",
      "..e\n",
      ".em\n",
      "emm\n",
      "mma\n",
      "olivia\n",
      "...\n",
      "..o\n",
      ".ol\n",
      "oli\n",
      "liv\n",
      "ivi\n",
      "via\n",
      "ava\n",
      "...\n",
      "..a\n",
      ".av\n",
      "ava\n",
      "isabella\n",
      "...\n",
      "..i\n",
      ".is\n",
      "isa\n",
      "sab\n",
      "abe\n",
      "bel\n",
      "ell\n",
      "lla\n",
      "sophia\n",
      "...\n",
      "..s\n",
      ".so\n",
      "sop\n",
      "oph\n",
      "phi\n",
      "hia\n"
     ]
    }
   ],
   "source": [
    "block_size = 3 #characters to take as context before predicting the next\n",
    "\n",
    "X,Y=[],[]\n",
    "for w in words[:5]:\n",
    "    print(w)\n",
    "    context = [0]*block_size\n",
    "    for ch in w + '.':\n",
    "        ix=stoi[ch]\n",
    "        X.append(context)\n",
    "        Y.append(ix)\n",
    "        print(''.join(itos[i] for i in context))\n",
    "        context = context[1:] + [ix]\n",
    "        \n",
    "X = torch.tensor(X)\n",
    "Y = torch.tensor(Y)"
   ]
  },
  {
   "cell_type": "code",
   "execution_count": null,
   "id": "479332d6",
   "metadata": {},
   "outputs": [
    {
     "data": {
      "text/plain": [
       "(torch.Size([32, 3]), torch.int64, torch.Size([32]), torch.int64)"
      ]
     },
     "execution_count": null,
     "metadata": {},
     "output_type": "execute_result"
    }
   ],
   "source": [
    "X.shape, X.dtype, Y.shape, Y.dtype"
   ]
  },
  {
   "cell_type": "code",
   "execution_count": null,
   "id": "97a662b7",
   "metadata": {},
   "outputs": [],
   "source": [
    "# We will embed the 27 characters into 2-d space\n",
    "C = torch.randn((27,2))"
   ]
  },
  {
   "cell_type": "code",
   "execution_count": null,
   "id": "ae1292b7",
   "metadata": {},
   "outputs": [
    {
     "data": {
      "text/plain": [
       "tensor([0.8425, 0.3145])"
      ]
     },
     "execution_count": null,
     "metadata": {},
     "output_type": "execute_result"
    }
   ],
   "source": [
    "C[5]"
   ]
  },
  {
   "cell_type": "code",
   "execution_count": null,
   "id": "bbe091fb",
   "metadata": {},
   "outputs": [
    {
     "data": {
      "text/plain": [
       "tensor([0.8425, 0.3145])"
      ]
     },
     "execution_count": null,
     "metadata": {},
     "output_type": "execute_result"
    }
   ],
   "source": [
    "#|hide\n",
    "# Identical to indexing into the embedding table\n",
    "# directly\n",
    "F.one_hot(torch.tensor(5), num_classes=27).float() @ C"
   ]
  },
  {
   "cell_type": "code",
   "execution_count": null,
   "id": "3cc58142",
   "metadata": {},
   "outputs": [
    {
     "data": {
      "text/plain": [
       "tensor([[ 0.8425,  0.3145],\n",
       "        [ 0.8930,  1.2062],\n",
       "        [-1.6647, -1.2650],\n",
       "        [-1.6647, -1.2650]])"
      ]
     },
     "execution_count": null,
     "metadata": {},
     "output_type": "execute_result"
    }
   ],
   "source": [
    "#|hide\n",
    "C[[5,6,7,7]]"
   ]
  },
  {
   "cell_type": "code",
   "execution_count": null,
   "id": "798bbc04",
   "metadata": {},
   "outputs": [
    {
     "data": {
      "text/plain": [
       "tensor([[ 0.8425,  0.3145],\n",
       "        [ 0.8930,  1.2062],\n",
       "        [-1.6647, -1.2650],\n",
       "        [-1.6647, -1.2650]])"
      ]
     },
     "execution_count": null,
     "metadata": {},
     "output_type": "execute_result"
    }
   ],
   "source": [
    "#|hide\n",
    "C[torch.tensor([5,6,7,7])]"
   ]
  },
  {
   "cell_type": "code",
   "execution_count": null,
   "id": "c96672e2",
   "metadata": {},
   "outputs": [
    {
     "data": {
      "text/plain": [
       "torch.Size([32, 3])"
      ]
     },
     "execution_count": null,
     "metadata": {},
     "output_type": "execute_result"
    }
   ],
   "source": [
    "#|hide\n",
    "X.shape"
   ]
  },
  {
   "cell_type": "code",
   "execution_count": null,
   "id": "fb9eac9b",
   "metadata": {},
   "outputs": [
    {
     "data": {
      "text/plain": [
       "torch.Size([32, 3, 2])"
      ]
     },
     "execution_count": null,
     "metadata": {},
     "output_type": "execute_result"
    }
   ],
   "source": [
    "#|hide\n",
    "C[X].shape"
   ]
  },
  {
   "cell_type": "code",
   "execution_count": null,
   "id": "0069132f",
   "metadata": {},
   "outputs": [
    {
     "data": {
      "text/plain": [
       "torch.Size([32, 3, 2])"
      ]
     },
     "execution_count": null,
     "metadata": {},
     "output_type": "execute_result"
    }
   ],
   "source": [
    "emb = C[X]\n",
    "emb.shape"
   ]
  },
  {
   "cell_type": "code",
   "execution_count": null,
   "id": "21ca8ac6",
   "metadata": {},
   "outputs": [],
   "source": [
    "W1 = torch.randn((6,100)) # 100 neurons each taking 6 inputs\n",
    "b1 = torch.randn((100)) # the bias for each of the 100 neurons"
   ]
  },
  {
   "cell_type": "code",
   "execution_count": null,
   "id": "215606e8",
   "metadata": {},
   "outputs": [
    {
     "data": {
      "text/plain": [
       "torch.Size([32, 2])"
      ]
     },
     "execution_count": null,
     "metadata": {},
     "output_type": "execute_result"
    }
   ],
   "source": [
    "#|hide\n",
    "# pluck out the embeddings for the first character\n",
    "# in the context\n",
    "emb[:,0,:].shape"
   ]
  },
  {
   "cell_type": "code",
   "execution_count": null,
   "id": "dea40db3",
   "metadata": {},
   "outputs": [
    {
     "data": {
      "text/plain": [
       "torch.Size([32, 6])"
      ]
     },
     "execution_count": null,
     "metadata": {},
     "output_type": "execute_result"
    }
   ],
   "source": [
    "#|hide\n",
    "# pluck out the embeddings for the first, second and \n",
    "# third character in the context and concatenate them\n",
    "torch.cat([emb[:,0,:],emb[:,1,:],emb[:,2,:]], dim=1).shape"
   ]
  },
  {
   "cell_type": "code",
   "execution_count": null,
   "id": "fb7fd6a2",
   "metadata": {},
   "outputs": [
    {
     "data": {
      "text/plain": [
       "(3, 32, tensor([ 0.1410, -0.9693]))"
      ]
     },
     "execution_count": null,
     "metadata": {},
     "output_type": "execute_result"
    }
   ],
   "source": [
    "#|hide\n",
    "# unbind allows us to get a list of tensors\n",
    "# equivalent to our manual plucking of embeddings in the\n",
    "# previous line\n",
    "len(torch.unbind(emb,1)), len(torch.unbind(emb,1)[0]), torch.unbind(emb,1)[0][0]"
   ]
  },
  {
   "cell_type": "code",
   "execution_count": null,
   "id": "1a1a33a2",
   "metadata": {},
   "outputs": [
    {
     "data": {
      "text/plain": [
       "torch.Size([32, 6])"
      ]
     },
     "execution_count": null,
     "metadata": {},
     "output_type": "execute_result"
    }
   ],
   "source": [
    "#|hide\n",
    "torch.cat(torch.unbind(emb,dim=1), dim=1).shape"
   ]
  },
  {
   "cell_type": "code",
   "execution_count": null,
   "id": "e78a4524",
   "metadata": {},
   "outputs": [
    {
     "data": {
      "text/plain": [
       "tensor([ 0,  1,  2,  3,  4,  5,  6,  7,  8,  9, 10, 11, 12, 13, 14, 15, 16, 17])"
      ]
     },
     "execution_count": null,
     "metadata": {},
     "output_type": "execute_result"
    }
   ],
   "source": [
    "#|hide\n",
    "a = torch.arange(18)\n",
    "a"
   ]
  },
  {
   "cell_type": "code",
   "execution_count": null,
   "id": "79c6c480",
   "metadata": {},
   "outputs": [
    {
     "data": {
      "text/plain": [
       "torch.Size([18])"
      ]
     },
     "execution_count": null,
     "metadata": {},
     "output_type": "execute_result"
    }
   ],
   "source": [
    "#|hide\n",
    "a.shape"
   ]
  },
  {
   "cell_type": "code",
   "execution_count": null,
   "id": "10f5d548",
   "metadata": {},
   "outputs": [
    {
     "data": {
      "text/plain": [
       "tensor([[ 0,  1,  2,  3,  4,  5,  6,  7,  8],\n",
       "        [ 9, 10, 11, 12, 13, 14, 15, 16, 17]])"
      ]
     },
     "execution_count": null,
     "metadata": {},
     "output_type": "execute_result"
    }
   ],
   "source": [
    "#|hide\n",
    "# .view is extremely efficient\n",
    "a.view(2,9)"
   ]
  },
  {
   "cell_type": "code",
   "execution_count": null,
   "id": "5c5c9fb5",
   "metadata": {},
   "outputs": [
    {
     "data": {
      "text/plain": [
       "tensor([[[ 0,  1,  2],\n",
       "         [ 3,  4,  5],\n",
       "         [ 6,  7,  8]],\n",
       "\n",
       "        [[ 9, 10, 11],\n",
       "         [12, 13, 14],\n",
       "         [15, 16, 17]]])"
      ]
     },
     "execution_count": null,
     "metadata": {},
     "output_type": "execute_result"
    }
   ],
   "source": [
    "#|hide\n",
    "a.view(2,3,3)"
   ]
  },
  {
   "cell_type": "code",
   "execution_count": null,
   "id": "b7f9538d",
   "metadata": {},
   "outputs": [
    {
     "data": {
      "text/plain": [
       " 0\n",
       " 1\n",
       " 2\n",
       " 3\n",
       " 4\n",
       " 5\n",
       " 6\n",
       " 7\n",
       " 8\n",
       " 9\n",
       " 10\n",
       " 11\n",
       " 12\n",
       " 13\n",
       " 14\n",
       " 15\n",
       " 16\n",
       " 17\n",
       "[torch.storage.TypedStorage(dtype=torch.int64, device=cpu) of size 18]"
      ]
     },
     "execution_count": null,
     "metadata": {},
     "output_type": "execute_result"
    }
   ],
   "source": [
    "#|hide\n",
    "a.storage()"
   ]
  },
  {
   "cell_type": "code",
   "execution_count": null,
   "id": "9d4d6405",
   "metadata": {},
   "outputs": [
    {
     "data": {
      "text/plain": [
       "tensor([[True, True, True, True, True, True],\n",
       "        [True, True, True, True, True, True],\n",
       "        [True, True, True, True, True, True],\n",
       "        [True, True, True, True, True, True],\n",
       "        [True, True, True, True, True, True],\n",
       "        [True, True, True, True, True, True],\n",
       "        [True, True, True, True, True, True],\n",
       "        [True, True, True, True, True, True],\n",
       "        [True, True, True, True, True, True],\n",
       "        [True, True, True, True, True, True],\n",
       "        [True, True, True, True, True, True],\n",
       "        [True, True, True, True, True, True],\n",
       "        [True, True, True, True, True, True],\n",
       "        [True, True, True, True, True, True],\n",
       "        [True, True, True, True, True, True],\n",
       "        [True, True, True, True, True, True],\n",
       "        [True, True, True, True, True, True],\n",
       "        [True, True, True, True, True, True],\n",
       "        [True, True, True, True, True, True],\n",
       "        [True, True, True, True, True, True],\n",
       "        [True, True, True, True, True, True],\n",
       "        [True, True, True, True, True, True],\n",
       "        [True, True, True, True, True, True],\n",
       "        [True, True, True, True, True, True],\n",
       "        [True, True, True, True, True, True],\n",
       "        [True, True, True, True, True, True],\n",
       "        [True, True, True, True, True, True],\n",
       "        [True, True, True, True, True, True],\n",
       "        [True, True, True, True, True, True],\n",
       "        [True, True, True, True, True, True],\n",
       "        [True, True, True, True, True, True],\n",
       "        [True, True, True, True, True, True]])"
      ]
     },
     "execution_count": null,
     "metadata": {},
     "output_type": "execute_result"
    }
   ],
   "source": [
    "#|hide\n",
    "emb.view((32,6)) == torch.cat(torch.unbind(emb,dim=1), dim=1)"
   ]
  },
  {
   "cell_type": "code",
   "execution_count": null,
   "id": "5d7983a3",
   "metadata": {},
   "outputs": [
    {
     "data": {
      "text/plain": [
       "tensor([[ 0.2321,  0.8842, -0.3949,  ..., -0.9303,  0.9055,  0.9973],\n",
       "        [ 0.8935,  0.9244,  0.4600,  ..., -0.9758,  0.6007,  0.3516],\n",
       "        [-0.1606, -0.2722,  0.9683,  ..., -0.9979,  0.9871,  0.5120],\n",
       "        ...,\n",
       "        [ 0.5043, -0.9989,  0.3366,  ..., -0.9225, -0.9290, -0.8909],\n",
       "        [-0.1081, -0.7365,  0.2289,  ...,  0.7690, -0.9949, -1.0000],\n",
       "        [-0.9999, -0.9561,  0.9999,  ..., -0.9973,  1.0000, -0.9909]])"
      ]
     },
     "execution_count": null,
     "metadata": {},
     "output_type": "execute_result"
    }
   ],
   "source": [
    "#|hide \n",
    "h = torch.tanh(emb.view((-1,6)) @ W1 + b1)\n",
    "h"
   ]
  },
  {
   "cell_type": "code",
   "execution_count": null,
   "id": "feb2a7dc",
   "metadata": {},
   "outputs": [
    {
     "data": {
      "text/plain": [
       "torch.Size([32, 100])"
      ]
     },
     "execution_count": null,
     "metadata": {},
     "output_type": "execute_result"
    }
   ],
   "source": [
    "#|hide\n",
    "h.shape"
   ]
  },
  {
   "cell_type": "markdown",
   "id": "16ca88a8",
   "metadata": {},
   "source": [
    "#|hide\n",
    "03/27/23 Stop at 28:33 / 1:15:39"
   ]
  },
  {
   "cell_type": "code",
   "execution_count": null,
   "id": "705bca9b",
   "metadata": {},
   "outputs": [],
   "source": [
    "W2 = torch.randn((100,27)) # 27 neurons each taking 100 inputs\n",
    "b2 = torch.randn(27) # the biases for these neurons"
   ]
  },
  {
   "cell_type": "code",
   "execution_count": null,
   "id": "dfa401cf",
   "metadata": {},
   "outputs": [],
   "source": [
    "logits = h @ W2 + b2"
   ]
  },
  {
   "cell_type": "code",
   "execution_count": null,
   "id": "8b0a0513",
   "metadata": {},
   "outputs": [
    {
     "data": {
      "text/plain": [
       "torch.Size([32, 27])"
      ]
     },
     "execution_count": null,
     "metadata": {},
     "output_type": "execute_result"
    }
   ],
   "source": [
    "#|hide\n",
    "logits.shape"
   ]
  },
  {
   "cell_type": "code",
   "execution_count": null,
   "id": "817a7713",
   "metadata": {},
   "outputs": [
    {
     "data": {
      "text/plain": [
       "tensor([[ 4.0534e+00,  2.8155e+00,  8.3932e+00, -8.5655e+00, -1.0642e+01,\n",
       "         -3.7789e+00,  1.1983e+01,  1.4416e+01, -1.7913e+00,  1.0491e+01,\n",
       "         -3.8777e+00,  6.2393e+00,  1.4216e+01, -6.1704e+00, -1.2285e+00,\n",
       "          1.7222e+01,  1.3303e+01,  6.6962e+00, -2.1041e+00, -5.3312e+00,\n",
       "         -2.5310e+00,  1.5954e+01,  7.9101e+00,  2.1804e+01, -9.4494e+00,\n",
       "         -5.1376e+00, -3.0385e+00],\n",
       "        [-3.9419e+00, -2.0030e+00,  9.6213e+00, -1.3761e+01, -1.8332e+00,\n",
       "         -4.9217e+00,  1.1379e+01,  8.4836e+00, -1.1214e+01,  9.1936e+00,\n",
       "          1.1317e+00,  1.3088e+00,  1.0536e+01, -2.4659e-01,  2.4150e+00,\n",
       "          3.3822e+00,  2.2016e+00,  7.7727e+00,  9.0946e-01, -4.3787e+00,\n",
       "         -7.3824e+00,  6.2250e+00,  1.2186e+01,  1.4452e+01, -2.0017e+00,\n",
       "         -3.0360e+00, -6.6501e+00],\n",
       "        [-8.2188e-01, -1.7039e+00, -2.0108e+00, -1.1875e+01, -6.8269e+00,\n",
       "          3.0404e+00,  8.1591e-01,  5.7254e+00,  1.3021e+00,  5.8640e+00,\n",
       "          6.3562e+00, -4.3840e+00,  8.0817e+00,  2.5327e+00,  6.9441e+00,\n",
       "         -7.8111e+00,  1.2065e+01, -6.3950e+00,  3.7475e-01,  3.7048e-01,\n",
       "         -9.6707e-01,  1.1837e+00,  1.0680e+01,  1.5605e+01, -5.2727e+00,\n",
       "         -4.6666e+00, -4.2912e+00],\n",
       "        [ 2.8325e-02,  3.5202e+00, -1.0179e+01, -1.5647e+01, -3.3886e+00,\n",
       "          1.7179e+00,  4.2791e+00,  1.1353e+01, -1.1436e+01, -2.3710e-01,\n",
       "          5.4432e+00, -3.3500e+00,  2.8970e+00, -6.5388e-02,  1.1896e+01,\n",
       "         -9.9854e-01,  1.7491e+01, -9.9092e+00, -5.9300e+00,  5.8226e+00,\n",
       "         -1.3586e+01,  5.6399e+00,  1.1274e+01,  1.6478e+01, -3.3186e+00,\n",
       "          1.5310e+01,  5.8771e+00],\n",
       "        [ 1.1692e+00,  3.9163e+00, -6.2414e+00, -6.3646e+00, -1.0250e+00,\n",
       "         -1.9334e+00,  1.7030e+00,  1.2695e+01, -8.1302e+00,  1.1486e+01,\n",
       "          6.6047e+00, -2.7328e+00,  4.3608e+00,  5.3677e+00,  1.1529e+01,\n",
       "         -3.8465e+00,  2.1829e+01, -5.7984e+00, -3.4282e+00, -1.7090e+00,\n",
       "         -6.6479e-01, -1.0941e+00,  9.9409e+00,  1.6152e+01,  3.7762e+00,\n",
       "          1.0995e+01,  5.4551e+00],\n",
       "        [ 4.0534e+00,  2.8155e+00,  8.3932e+00, -8.5655e+00, -1.0642e+01,\n",
       "         -3.7789e+00,  1.1983e+01,  1.4416e+01, -1.7913e+00,  1.0491e+01,\n",
       "         -3.8777e+00,  6.2393e+00,  1.4216e+01, -6.1704e+00, -1.2285e+00,\n",
       "          1.7222e+01,  1.3303e+01,  6.6962e+00, -2.1041e+00, -5.3312e+00,\n",
       "         -2.5310e+00,  1.5954e+01,  7.9101e+00,  2.1804e+01, -9.4494e+00,\n",
       "         -5.1376e+00, -3.0385e+00],\n",
       "        [-5.2070e+00, -2.3115e+00,  1.2558e+01, -1.3518e+01, -5.1697e-01,\n",
       "         -2.8395e+00,  1.2853e+01,  6.2655e+00, -1.8157e+01,  8.5869e-01,\n",
       "         -2.3676e+00, -1.2601e+00,  6.5641e+00, -1.1285e+00,  2.3596e+00,\n",
       "          2.1403e+00,  5.3644e-01,  3.8374e+00,  3.7606e+00, -2.9388e+00,\n",
       "         -9.1523e+00,  7.3074e+00,  1.6628e+01,  1.1271e+01, -8.5792e-02,\n",
       "         -1.2590e+00, -6.0212e+00],\n",
       "        [-7.1282e+00, -7.5433e+00,  7.6913e+00, -2.2512e+01, -1.2856e+01,\n",
       "          1.1550e+01,  1.1719e+01,  1.3647e+00,  8.4247e+00, -1.9699e+01,\n",
       "          8.7730e+00, -8.8626e+00, -2.7021e+00, -7.5495e+00, -6.7097e+00,\n",
       "         -8.2361e+00, -2.1728e+00, -4.1205e+00, -7.7600e+00,  6.0404e+00,\n",
       "         -7.7395e+00,  2.7961e+00,  9.4772e+00,  3.7113e+00, -2.7512e+00,\n",
       "         -1.2138e+01, -1.0625e+01],\n",
       "        [-1.1890e+01,  9.3846e+00,  7.1771e-01, -4.0297e+00, -4.3675e+00,\n",
       "          8.2071e+00,  5.4814e-01, -5.3667e+00, -1.0312e+01, -1.3333e+01,\n",
       "          2.4975e-01,  4.6629e+00, -1.5053e+01, -8.1619e+00,  1.1167e+01,\n",
       "         -8.0779e+00,  1.1699e+00, -1.2363e+01,  2.7098e+00, -1.6375e-01,\n",
       "         -2.0007e+01, -1.0639e+01,  4.2081e+00, -3.4056e+00,  5.9449e+00,\n",
       "          4.6378e+00,  7.6102e+00],\n",
       "        [-2.7467e+00,  5.6768e+00, -6.9148e+00, -1.4234e+01, -1.4100e+00,\n",
       "         -1.6468e-01, -8.0370e+00, -7.6449e+00, -1.3167e+01, -2.0884e+01,\n",
       "          1.3768e+01, -5.5722e+00, -9.1005e+00,  4.4234e+00,  6.7580e+00,\n",
       "         -1.2956e+01,  2.5891e+00, -1.2407e+01,  3.9029e+00,  7.2133e+00,\n",
       "         -1.8108e+01, -1.2120e+01,  4.6032e-01, -9.9358e+00, -3.0745e+00,\n",
       "          7.5113e+00,  6.0514e-01],\n",
       "        [-7.3760e+00,  5.3870e+00, -7.3480e+00, -1.2264e+01, -2.6503e+00,\n",
       "          6.9554e+00,  3.9706e-01, -2.3064e+00, -5.5262e-01, -2.4034e+01,\n",
       "          1.0263e+01, -3.6336e+00, -9.4073e+00,  9.2652e-01,  6.3365e+00,\n",
       "         -1.5798e+01,  1.0672e+01, -1.6686e+01,  4.4959e+00,  1.0528e+01,\n",
       "         -1.4063e+01, -9.6024e+00,  3.6418e+00,  9.6387e-01,  4.4031e+00,\n",
       "          1.0208e+01,  6.2682e+00],\n",
       "        [-3.9431e+00,  6.5622e+00, -1.0706e+01, -3.4974e+00, -6.5005e+00,\n",
       "         -7.6722e-01, -9.6818e+00,  8.2579e+00, -8.1765e+00,  3.3513e+00,\n",
       "          9.3849e+00, -3.6321e+00, -7.9695e+00,  2.3228e+00,  1.7362e+01,\n",
       "         -1.1923e+01,  1.8298e+01, -1.2886e+01, -6.2503e+00,  1.2846e+00,\n",
       "         -9.7367e+00, -8.2501e+00,  7.2665e+00,  4.4992e-01,  9.6002e+00,\n",
       "          1.7910e+01,  9.0986e+00],\n",
       "        [ 4.0534e+00,  2.8155e+00,  8.3932e+00, -8.5655e+00, -1.0642e+01,\n",
       "         -3.7789e+00,  1.1983e+01,  1.4416e+01, -1.7913e+00,  1.0491e+01,\n",
       "         -3.8777e+00,  6.2393e+00,  1.4216e+01, -6.1704e+00, -1.2285e+00,\n",
       "          1.7222e+01,  1.3303e+01,  6.6962e+00, -2.1041e+00, -5.3312e+00,\n",
       "         -2.5310e+00,  1.5954e+01,  7.9101e+00,  2.1804e+01, -9.4494e+00,\n",
       "         -5.1376e+00, -3.0385e+00],\n",
       "        [ 2.6794e+00,  4.5371e+00,  3.5392e+00, -9.9955e+00, -1.0902e+01,\n",
       "         -9.5735e+00,  1.8393e+00,  1.3716e+01,  8.2495e-02,  1.9229e+01,\n",
       "          7.0860e+00, -9.5912e-01,  5.7205e+00, -1.5384e+00,  8.5205e+00,\n",
       "          1.9613e+00,  1.6276e+01,  5.9226e+00,  2.3530e+00,  1.2036e+00,\n",
       "          1.2666e+00, -5.1719e+00,  2.5458e+00,  1.5736e+01, -1.5409e+00,\n",
       "         -2.1005e+00,  4.3426e-01],\n",
       "        [ 3.5115e+00, -7.8380e+00,  1.4427e+00, -2.7322e+01, -1.7524e+00,\n",
       "         -7.6765e+00,  5.2678e+00,  1.1591e+01, -1.9301e+01, -1.6364e+01,\n",
       "          1.7561e+01, -5.4553e+00,  1.1751e+01, -5.5811e+00,  1.5650e+01,\n",
       "         -3.1169e+00,  3.3760e+00, -1.7171e+01,  5.0169e+00,  6.9325e+00,\n",
       "         -1.7591e+01,  1.2665e+01,  2.2902e+01,  1.1739e+01, -5.9900e+00,\n",
       "          1.7254e+01, -3.4324e+00],\n",
       "        [-4.1603e+00,  1.5023e+00,  1.8242e+00, -5.4993e+00, -2.1994e+00,\n",
       "          5.8275e+00, -8.3762e+00,  4.1615e+00,  4.6214e+00,  8.6587e+00,\n",
       "          8.4233e+00, -3.7109e+00, -6.9275e+00,  1.0805e+01,  1.2683e+01,\n",
       "         -2.1133e+01,  1.3972e+01, -1.2902e+01,  7.8609e+00, -3.1904e+00,\n",
       "         -1.2956e+00, -1.0560e+01,  1.0681e+01,  1.4649e+01,  9.5157e+00,\n",
       "          5.1044e+00,  5.4541e+00],\n",
       "        [ 4.0534e+00,  2.8155e+00,  8.3932e+00, -8.5655e+00, -1.0642e+01,\n",
       "         -3.7789e+00,  1.1983e+01,  1.4416e+01, -1.7913e+00,  1.0491e+01,\n",
       "         -3.8777e+00,  6.2393e+00,  1.4216e+01, -6.1704e+00, -1.2285e+00,\n",
       "          1.7222e+01,  1.3303e+01,  6.6962e+00, -2.1041e+00, -5.3312e+00,\n",
       "         -2.5310e+00,  1.5954e+01,  7.9101e+00,  2.1804e+01, -9.4494e+00,\n",
       "         -5.1376e+00, -3.0385e+00],\n",
       "        [-3.8279e+00, -1.6426e+00,  1.0983e+01, -1.3776e+01, -2.2654e-01,\n",
       "         -4.3716e+00,  1.5845e+01,  6.5284e+00, -1.7632e+01, -8.4480e-01,\n",
       "         -3.6534e+00,  1.2372e+00,  7.6076e+00, -6.9260e-01,  9.4538e-01,\n",
       "          6.3241e+00, -3.3670e-01,  5.3600e+00,  8.9794e-01, -2.8708e+00,\n",
       "         -9.4255e+00,  9.3760e+00,  1.4906e+01,  1.3141e+01, -3.0262e+00,\n",
       "         -2.1986e+00, -6.2475e+00],\n",
       "        [-5.2792e+00, -2.9580e+00,  2.9852e+00, -9.2196e+00, -4.8557e+00,\n",
       "          1.4186e+01,  9.5593e+00,  5.2689e+00,  1.2504e+01, -3.7776e+00,\n",
       "         -3.0136e+00,  1.9471e+00,  1.8503e+00, -2.4117e+00, -1.3599e+01,\n",
       "          1.4926e+01,  1.1836e+01,  7.5178e+00, -5.0684e+00,  1.8740e+00,\n",
       "          8.2459e+00,  1.4812e+01,  3.2534e+00,  1.1697e+01, -3.7870e-01,\n",
       "         -1.2000e+01, -8.1786e-01],\n",
       "        [ 2.1617e+00,  5.7180e-01,  4.3135e+00,  6.5818e-01, -1.1192e+01,\n",
       "         -1.4163e+01,  7.1235e+00,  1.9453e+01, -1.2141e+01,  2.4555e+01,\n",
       "          1.9243e+00,  8.0992e+00, -6.0003e+00, -1.8044e-01,  1.3179e+01,\n",
       "         -1.9669e+00,  1.3558e+01,  4.3270e+00,  7.3341e+00, -9.4176e+00,\n",
       "         -1.2114e+01, -4.9867e+00, -2.2402e+00,  1.5772e+00,  6.4901e+00,\n",
       "          3.1357e+00,  4.5293e+00],\n",
       "        [ 6.4372e+00, -3.6708e+00,  3.9565e+00, -1.3804e+01, -5.6838e+00,\n",
       "          1.0185e+00,  1.3651e+01, -5.0049e+00, -1.1782e+01, -2.9323e+01,\n",
       "          7.8792e+00, -9.4418e+00,  6.5221e+00, -7.9663e+00, -7.9162e+00,\n",
       "          6.3724e+00, -1.3792e+01, -5.9369e-01, -7.7877e+00,  4.0527e+00,\n",
       "         -1.2529e+01,  9.5156e+00,  4.8737e+00,  3.4640e+00, -4.7745e+00,\n",
       "         -7.1507e+00, -6.8985e+00],\n",
       "        [-1.2699e+01,  9.3646e+00,  1.0197e+01,  7.0829e+00, -5.1007e+00,\n",
       "          7.8858e+00, -9.6863e+00, -2.6682e+00,  1.2825e+01, -6.3354e+00,\n",
       "         -3.3394e+00,  6.9771e+00, -2.3014e+01,  1.8040e+00,  2.2524e+00,\n",
       "         -1.8204e+01,  9.9749e+00, -9.9945e+00,  1.6022e+01, -6.1108e+00,\n",
       "          2.0617e+00, -1.8582e+01, -2.7736e+00,  3.6458e+00,  1.6245e+01,\n",
       "         -2.2692e+00,  2.6360e+00],\n",
       "        [-1.2202e+00,  1.4708e+00, -1.4568e+01, -8.6527e+00, -1.9046e+00,\n",
       "          5.9147e+00,  4.2186e+00, -4.4984e+00, -1.3643e+01, -1.3622e+01,\n",
       "          9.1015e+00, -4.5665e+00, -3.3401e+00,  8.1188e+00,  1.5133e+00,\n",
       "         -1.1602e+00, -5.6438e+00, -8.4369e+00, -2.8634e+01,  2.1617e-01,\n",
       "         -2.0449e+01, -4.0867e+00, -9.6092e+00, -1.8183e+01, -5.0066e+00,\n",
       "          1.1694e+00,  5.3637e+00],\n",
       "        [-1.3764e+01,  9.4344e-01,  3.8927e+00, -4.4473e+00, -8.9874e+00,\n",
       "          8.6917e+00,  1.4244e+01,  7.3558e-01, -2.8888e+00, -2.0852e+01,\n",
       "         -6.6760e+00,  2.2719e+00, -8.5969e+00, -7.3837e+00,  1.3547e-02,\n",
       "          8.6973e-01,  2.4411e-01, -1.2233e+01, -1.8552e+00, -2.7816e+00,\n",
       "         -9.4266e+00, -1.5913e+00,  4.4237e+00, -3.0193e+00,  5.4916e+00,\n",
       "         -9.0071e+00,  3.1785e+00],\n",
       "        [ 2.8265e-02, -4.1494e+00,  2.7065e-01,  2.6260e+00, -1.5279e+01,\n",
       "         -4.9378e+00, -1.0198e+01,  1.3095e+01, -4.8907e+00,  9.1158e+00,\n",
       "          3.6156e+00,  7.5386e-01, -7.8405e+00, -2.9504e+00,  1.5605e+01,\n",
       "         -1.4383e+01,  1.5424e+01, -5.4321e+00,  4.5570e+00, -8.8819e+00,\n",
       "         -1.0921e+01, -6.9004e+00, -4.5844e+00,  1.3124e+00,  4.3843e+00,\n",
       "         -3.4601e-01,  1.9603e+00],\n",
       "        [ 4.0534e+00,  2.8155e+00,  8.3932e+00, -8.5655e+00, -1.0642e+01,\n",
       "         -3.7789e+00,  1.1983e+01,  1.4416e+01, -1.7913e+00,  1.0491e+01,\n",
       "         -3.8777e+00,  6.2393e+00,  1.4216e+01, -6.1704e+00, -1.2285e+00,\n",
       "          1.7222e+01,  1.3303e+01,  6.6962e+00, -2.1041e+00, -5.3312e+00,\n",
       "         -2.5310e+00,  1.5954e+01,  7.9101e+00,  2.1804e+01, -9.4494e+00,\n",
       "         -5.1376e+00, -3.0385e+00],\n",
       "        [ 3.8683e+00,  2.2657e+00,  8.3098e+00, -5.1211e+00, -1.0635e+01,\n",
       "          5.7956e+00,  1.6645e+01,  1.4740e+01,  4.5864e+00,  6.7276e+00,\n",
       "         -9.0498e+00,  5.1054e+00,  1.5713e+01, -6.5240e+00, -1.1341e+01,\n",
       "          2.0249e+01,  8.9186e+00,  1.0196e+01, -6.8071e+00, -6.1944e+00,\n",
       "          1.2211e+00,  2.0958e+01,  9.0253e+00,  1.8022e+01, -3.7657e+00,\n",
       "         -8.7460e+00, -5.0604e+00],\n",
       "        [-6.1064e+00, -5.8484e-01,  1.7786e+01, -4.0921e+00, -1.3266e+00,\n",
       "         -1.0509e+01,  3.9591e+00,  1.0612e+01, -1.7978e+01,  1.0237e+01,\n",
       "         -4.5348e+00,  1.1506e+01,  8.9455e-01, -8.1947e+00,  5.1029e-01,\n",
       "          1.3822e+01, -4.0817e+00,  7.7509e+00,  5.9888e+00, -7.4349e+00,\n",
       "         -1.2383e+01,  3.7311e+00,  5.8558e+00,  6.0070e+00,  3.1569e+00,\n",
       "         -8.5044e+00, -8.1225e+00],\n",
       "        [-6.0005e+00, -7.1759e+00,  9.1053e+00, -2.0584e+01, -1.0672e+01,\n",
       "          2.5421e+00, -2.3208e+00, -2.0002e+00, -4.3663e+00, -1.7292e+01,\n",
       "          1.1064e+01, -1.3854e+01,  8.0812e+00, -2.1602e+00,  2.5174e+00,\n",
       "         -1.6798e+01, -9.4843e+00, -1.3316e+01,  6.9861e+00,  1.7316e+00,\n",
       "         -1.1953e+01, -4.8748e+00, -3.8207e+00, -2.3328e+00, -3.2607e+00,\n",
       "         -1.4837e+01, -1.5358e+01],\n",
       "        [-6.9660e+00,  3.2172e+00, -8.3115e+00, -6.8034e+00, -7.5459e+00,\n",
       "          7.5412e+00,  2.9363e+00,  5.4304e+00,  1.8683e+00, -2.4166e+01,\n",
       "          1.0186e+01, -5.2210e+00, -1.1646e+01,  9.5065e-01,  4.2200e-01,\n",
       "         -9.7097e+00,  1.0318e+01, -1.4687e+01, -1.1299e+01,  5.5260e+00,\n",
       "         -1.5211e+01,  1.0019e+00, -5.4862e-01,  5.1795e-01,  4.7743e+00,\n",
       "          3.3832e+00,  3.7294e+00],\n",
       "        [-8.8933e+00,  1.2764e+01, -1.9340e+00, -4.1951e+00, -2.8150e-01,\n",
       "          8.2855e+00,  2.5342e+00, -1.3039e+01, -1.6510e+01, -9.0417e+00,\n",
       "          1.0879e+00,  6.3522e+00, -1.5500e+01, -1.9179e+00,  2.3530e+00,\n",
       "          2.2918e+00, -1.9198e+00, -8.7235e+00, -6.1158e+00,  3.6524e+00,\n",
       "         -2.0224e+01, -8.8964e+00, -3.5581e+00, -1.1972e+01,  2.4521e+00,\n",
       "          5.4827e+00,  1.3553e+01],\n",
       "        [ 1.0879e+00,  1.8846e+00, -3.7481e+00, -4.9216e+00, -1.2713e+01,\n",
       "         -3.9464e+00, -9.6263e+00,  8.7186e+00, -1.4786e+00,  7.6607e+00,\n",
       "          6.4145e+00, -7.5876e+00, -2.7671e-01, -2.2041e+00,  8.7403e+00,\n",
       "         -1.6824e+01,  1.5490e+01, -9.9899e+00,  3.0146e+00, -5.0977e+00,\n",
       "         -3.9052e+00, -7.6622e+00, -1.1166e+00,  8.3352e+00, -9.8313e-01,\n",
       "         -3.3495e+00, -3.4701e-01]])"
      ]
     },
     "execution_count": null,
     "metadata": {},
     "output_type": "execute_result"
    }
   ],
   "source": [
    "#hide\n",
    "logits"
   ]
  },
  {
   "cell_type": "code",
   "execution_count": null,
   "id": "25272ca1",
   "metadata": {},
   "outputs": [],
   "source": [
    "counts = logits.exp()"
   ]
  },
  {
   "cell_type": "code",
   "execution_count": null,
   "id": "d7309176",
   "metadata": {},
   "outputs": [],
   "source": [
    "prob = counts/counts.sum(dim=1,keepdim=True)"
   ]
  },
  {
   "cell_type": "code",
   "execution_count": null,
   "id": "b653edbc",
   "metadata": {},
   "outputs": [
    {
     "data": {
      "text/plain": [
       "torch.Size([32, 27])"
      ]
     },
     "execution_count": null,
     "metadata": {},
     "output_type": "execute_result"
    }
   ],
   "source": [
    "#|hide\n",
    "prob.shape"
   ]
  },
  {
   "cell_type": "code",
   "execution_count": null,
   "id": "2da5999b",
   "metadata": {},
   "outputs": [
    {
     "data": {
      "text/plain": [
       "tensor([1.0000, 1.0000, 1.0000, 1.0000, 1.0000, 1.0000, 1.0000, 1.0000, 1.0000,\n",
       "        1.0000, 1.0000, 1.0000, 1.0000, 1.0000, 1.0000, 1.0000, 1.0000, 1.0000,\n",
       "        1.0000, 1.0000, 1.0000, 1.0000, 1.0000, 1.0000, 1.0000, 1.0000, 1.0000,\n",
       "        1.0000, 1.0000, 1.0000, 1.0000, 1.0000])"
      ]
     },
     "execution_count": null,
     "metadata": {},
     "output_type": "execute_result"
    }
   ],
   "source": [
    "#|hide\n",
    "prob.sum(dim=1)"
   ]
  },
  {
   "cell_type": "code",
   "execution_count": null,
   "id": "df84e631",
   "metadata": {},
   "outputs": [
    {
     "data": {
      "text/plain": [
       "tensor([ 0,  1,  2,  3,  4,  5,  6,  7,  8,  9, 10, 11, 12, 13, 14, 15, 16, 17,\n",
       "        18, 19, 20, 21, 22, 23, 24, 25, 26, 27, 28, 29, 30, 31])"
      ]
     },
     "execution_count": null,
     "metadata": {},
     "output_type": "execute_result"
    }
   ],
   "source": [
    "#|hide\n",
    "torch.arange(32)"
   ]
  },
  {
   "cell_type": "code",
   "execution_count": null,
   "id": "04e2fee6",
   "metadata": {},
   "outputs": [
    {
     "data": {
      "text/plain": [
       "tensor([ 5, 13, 13,  1,  0, 15, 12,  9, 22,  9,  1,  0,  1, 22,  1,  0,  9, 19,\n",
       "         1,  2,  5, 12, 12,  1,  0, 19, 15, 16,  8,  9,  1,  0])"
      ]
     },
     "execution_count": null,
     "metadata": {},
     "output_type": "execute_result"
    }
   ],
   "source": [
    "#|hide\n",
    "Y"
   ]
  },
  {
   "cell_type": "code",
   "execution_count": null,
   "id": "c0fc6502",
   "metadata": {},
   "outputs": [
    {
     "data": {
      "text/plain": [
       "tensor(17.9215)"
      ]
     },
     "execution_count": null,
     "metadata": {},
     "output_type": "execute_result"
    }
   ],
   "source": [
    "loss = -prob[torch.arange(32),Y].log().mean()\n",
    "loss"
   ]
  },
  {
   "cell_type": "code",
   "execution_count": null,
   "id": "b2715e86",
   "metadata": {},
   "outputs": [],
   "source": [
    "#|hide\n",
    "g = torch.Generator().manual_seed(2147483647)\n",
    "C = torch.randn((27,2), generator=g)\n",
    "\n",
    "W1 = torch.randn((6,100), generator=g) # 100 neurons each taking 6 inputs\n",
    "b1 = torch.randn((100), generator=g) # the bias for each of the 100 neurons\n",
    "\n",
    "W2 = torch.randn((100,27), generator=g) # 27 neurons each taking 100 inputs\n",
    "b2 = torch.randn(27, generator=g) # the biases for these neurons\n",
    "\n",
    "parameters = [C, W1, b1, W2, b2]"
   ]
  },
  {
   "cell_type": "code",
   "execution_count": null,
   "id": "69c90adf",
   "metadata": {},
   "outputs": [
    {
     "data": {
      "text/plain": [
       "3481"
      ]
     },
     "execution_count": null,
     "metadata": {},
     "output_type": "execute_result"
    }
   ],
   "source": [
    "#|hide\n",
    "sum([p.nelement() for p in parameters])"
   ]
  },
  {
   "cell_type": "code",
   "execution_count": null,
   "id": "84d8edfa",
   "metadata": {},
   "outputs": [
    {
     "data": {
      "text/plain": [
       "tensor(17.7697)"
      ]
     },
     "execution_count": null,
     "metadata": {},
     "output_type": "execute_result"
    }
   ],
   "source": [
    "#|hide\n",
    "emb = C[X] #(32,3,2)\n",
    "h = torch.tanh(emb.view((-1,6)) @ W1 + b1)\n",
    "logits = h @ W2 + b2\n",
    "counts = logits.exp()\n",
    "prob = counts/counts.sum(1,keepdims=True)\n",
    "loss = -prob[torch.arange(32),Y].log().mean()\n",
    "loss"
   ]
  },
  {
   "cell_type": "code",
   "execution_count": null,
   "id": "0c44a003",
   "metadata": {},
   "outputs": [
    {
     "data": {
      "text/plain": [
       "tensor(17.7697)"
      ]
     },
     "execution_count": null,
     "metadata": {},
     "output_type": "execute_result"
    }
   ],
   "source": [
    "#|hide\n",
    "# This is to be preferred as it is\n",
    "# numerically more well behaved (uses logsumexp) \n",
    "# and\n",
    "# the forward and backward passes are more efficient\n",
    "# (uses fused kernels)\n",
    "F.cross_entropy(logits, Y)"
   ]
  },
  {
   "cell_type": "code",
   "execution_count": null,
   "id": "b29b0624",
   "metadata": {},
   "outputs": [
    {
     "data": {
      "text/plain": [
       "tensor([3.7835e-44, 4.9787e-02, 1.0000e+00,        inf])"
      ]
     },
     "execution_count": null,
     "metadata": {},
     "output_type": "execute_result"
    }
   ],
   "source": [
    "#|hide\n",
    "# large positive logits will get us into\n",
    "# trouble\n",
    "logits = torch.tensor([-100,-3,0,100])\n",
    "counts = logits.exp()\n",
    "counts"
   ]
  },
  {
   "cell_type": "code",
   "execution_count": null,
   "id": "dfacb562",
   "metadata": {},
   "outputs": [
    {
     "data": {
      "text/plain": [
       "tensor([0., 0., 0., nan])"
      ]
     },
     "execution_count": null,
     "metadata": {},
     "output_type": "execute_result"
    }
   ],
   "source": [
    "#hide\n",
    "probs = counts/counts.sum()\n",
    "probs"
   ]
  },
  {
   "cell_type": "markdown",
   "id": "d421a7dd",
   "metadata": {},
   "source": [
    "#|hide\n",
    "\n",
    "Adding or subtracting a constant in these calculations\n",
    "don't change the result. Hence we can subtract the maximum\n",
    "of the logits and get an outcome that is numerically stable"
   ]
  },
  {
   "cell_type": "code",
   "execution_count": null,
   "id": "952b7007",
   "metadata": {},
   "outputs": [
    {
     "data": {
      "text/plain": [
       "tensor([0.0000e+00, 1.4013e-45, 3.7835e-44, 1.0000e+00])"
      ]
     },
     "execution_count": null,
     "metadata": {},
     "output_type": "execute_result"
    }
   ],
   "source": [
    "#|hide\n",
    "logits = torch.tensor([-100,-3,0,100])-100\n",
    "counts = logits.exp()\n",
    "probs = counts/counts.sum()\n",
    "probs"
   ]
  },
  {
   "cell_type": "markdown",
   "id": "160f0052",
   "metadata": {},
   "source": [
    "# Fit the entire dataset "
   ]
  },
  {
   "cell_type": "code",
   "execution_count": null,
   "id": "a4de2922",
   "metadata": {},
   "outputs": [],
   "source": [
    "block_size = 3 #characters to take as context before predicting the next\n",
    "\n",
    "X,Y=[],[]\n",
    "for w in words:\n",
    "#     print(w)\n",
    "    context = [0]*block_size\n",
    "    for ch in w + '.':\n",
    "        ix=stoi[ch]\n",
    "        X.append(context)\n",
    "        Y.append(ix)\n",
    "#         print(''.join(itos[i] for i in context))\n",
    "        context = context[1:] + [ix]\n",
    "        \n",
    "X = torch.tensor(X)\n",
    "Y = torch.tensor(Y)"
   ]
  },
  {
   "cell_type": "code",
   "execution_count": null,
   "id": "19c04b58",
   "metadata": {},
   "outputs": [
    {
     "data": {
      "text/plain": [
       "(torch.Size([228146, 3]), torch.Size([228146]))"
      ]
     },
     "execution_count": null,
     "metadata": {},
     "output_type": "execute_result"
    }
   ],
   "source": [
    "X.shape, Y.shape"
   ]
  },
  {
   "cell_type": "code",
   "execution_count": null,
   "id": "f6829450",
   "metadata": {},
   "outputs": [],
   "source": [
    "g = torch.Generator().manual_seed(2147483647)\n",
    "C = torch.randn((27,2), generator=g)\n",
    "\n",
    "W1 = torch.randn((6,100), generator=g) # 100 neurons each taking 6 inputs\n",
    "b1 = torch.randn((100), generator=g) # the bias for each of the 100 neurons\n",
    "\n",
    "W2 = torch.randn((100,27), generator=g) # 27 neurons each taking 100 inputs\n",
    "b2 = torch.randn(27, generator=g)\n",
    "\n",
    "parameters = [C, W1, b1, W2, b2]\n",
    "\n",
    "for p in parameters:\n",
    "    p.requires_grad = True"
   ]
  },
  {
   "cell_type": "code",
   "execution_count": null,
   "id": "28f2bacb",
   "metadata": {},
   "outputs": [
    {
     "data": {
      "text/plain": [
       "3481"
      ]
     },
     "execution_count": null,
     "metadata": {},
     "output_type": "execute_result"
    }
   ],
   "source": [
    "sum([p.nelement() for p in parameters])"
   ]
  },
  {
   "cell_type": "code",
   "execution_count": null,
   "id": "42e731ca",
   "metadata": {},
   "outputs": [
    {
     "data": {
      "text/plain": [
       "tensor([3, 1, 1, 2, 0, 2, 2, 3, 4, 4, 4, 1, 3, 2, 1, 0, 2, 3, 3, 3, 1, 4, 4, 1,\n",
       "        0, 3, 2, 2, 3, 2, 3, 4])"
      ]
     },
     "execution_count": null,
     "metadata": {},
     "output_type": "execute_result"
    }
   ],
   "source": [
    "#|hide\n",
    "torch.randint(0,5,(32,))"
   ]
  },
  {
   "cell_type": "code",
   "execution_count": null,
   "id": "9a5ad64c",
   "metadata": {},
   "outputs": [
    {
     "data": {
      "text/plain": [
       "tensor([1.0000e-03, 1.0093e-03, 1.0186e-03, 1.0280e-03, 1.0376e-03, 1.0472e-03,\n",
       "        1.0569e-03, 1.0667e-03, 1.0765e-03, 1.0865e-03, 1.0966e-03, 1.1067e-03,\n",
       "        1.1170e-03, 1.1273e-03, 1.1378e-03, 1.1483e-03, 1.1589e-03, 1.1697e-03,\n",
       "        1.1805e-03, 1.1915e-03, 1.2025e-03, 1.2136e-03, 1.2249e-03, 1.2362e-03,\n",
       "        1.2477e-03, 1.2592e-03, 1.2709e-03, 1.2826e-03, 1.2945e-03, 1.3065e-03,\n",
       "        1.3186e-03, 1.3308e-03, 1.3432e-03, 1.3556e-03, 1.3682e-03, 1.3808e-03,\n",
       "        1.3936e-03, 1.4065e-03, 1.4196e-03, 1.4327e-03, 1.4460e-03, 1.4594e-03,\n",
       "        1.4729e-03, 1.4865e-03, 1.5003e-03, 1.5142e-03, 1.5282e-03, 1.5424e-03,\n",
       "        1.5567e-03, 1.5711e-03, 1.5856e-03, 1.6003e-03, 1.6151e-03, 1.6301e-03,\n",
       "        1.6452e-03, 1.6604e-03, 1.6758e-03, 1.6913e-03, 1.7070e-03, 1.7228e-03,\n",
       "        1.7388e-03, 1.7549e-03, 1.7711e-03, 1.7875e-03, 1.8041e-03, 1.8208e-03,\n",
       "        1.8377e-03, 1.8547e-03, 1.8719e-03, 1.8892e-03, 1.9067e-03, 1.9244e-03,\n",
       "        1.9422e-03, 1.9602e-03, 1.9783e-03, 1.9966e-03, 2.0151e-03, 2.0338e-03,\n",
       "        2.0526e-03, 2.0717e-03, 2.0908e-03, 2.1102e-03, 2.1297e-03, 2.1495e-03,\n",
       "        2.1694e-03, 2.1895e-03, 2.2098e-03, 2.2302e-03, 2.2509e-03, 2.2717e-03,\n",
       "        2.2928e-03, 2.3140e-03, 2.3354e-03, 2.3571e-03, 2.3789e-03, 2.4009e-03,\n",
       "        2.4232e-03, 2.4456e-03, 2.4683e-03, 2.4911e-03, 2.5142e-03, 2.5375e-03,\n",
       "        2.5610e-03, 2.5847e-03, 2.6087e-03, 2.6328e-03, 2.6572e-03, 2.6818e-03,\n",
       "        2.7067e-03, 2.7317e-03, 2.7570e-03, 2.7826e-03, 2.8083e-03, 2.8343e-03,\n",
       "        2.8606e-03, 2.8871e-03, 2.9138e-03, 2.9408e-03, 2.9681e-03, 2.9955e-03,\n",
       "        3.0233e-03, 3.0513e-03, 3.0796e-03, 3.1081e-03, 3.1369e-03, 3.1659e-03,\n",
       "        3.1952e-03, 3.2248e-03, 3.2547e-03, 3.2849e-03, 3.3153e-03, 3.3460e-03,\n",
       "        3.3770e-03, 3.4083e-03, 3.4398e-03, 3.4717e-03, 3.5038e-03, 3.5363e-03,\n",
       "        3.5690e-03, 3.6021e-03, 3.6355e-03, 3.6691e-03, 3.7031e-03, 3.7374e-03,\n",
       "        3.7720e-03, 3.8070e-03, 3.8422e-03, 3.8778e-03, 3.9137e-03, 3.9500e-03,\n",
       "        3.9866e-03, 4.0235e-03, 4.0608e-03, 4.0984e-03, 4.1363e-03, 4.1747e-03,\n",
       "        4.2133e-03, 4.2523e-03, 4.2917e-03, 4.3315e-03, 4.3716e-03, 4.4121e-03,\n",
       "        4.4530e-03, 4.4942e-03, 4.5358e-03, 4.5778e-03, 4.6202e-03, 4.6630e-03,\n",
       "        4.7062e-03, 4.7498e-03, 4.7938e-03, 4.8382e-03, 4.8830e-03, 4.9283e-03,\n",
       "        4.9739e-03, 5.0200e-03, 5.0665e-03, 5.1134e-03, 5.1607e-03, 5.2085e-03,\n",
       "        5.2568e-03, 5.3055e-03, 5.3546e-03, 5.4042e-03, 5.4543e-03, 5.5048e-03,\n",
       "        5.5558e-03, 5.6072e-03, 5.6592e-03, 5.7116e-03, 5.7645e-03, 5.8179e-03,\n",
       "        5.8718e-03, 5.9262e-03, 5.9810e-03, 6.0364e-03, 6.0923e-03, 6.1488e-03,\n",
       "        6.2057e-03, 6.2632e-03, 6.3212e-03, 6.3798e-03, 6.4389e-03, 6.4985e-03,\n",
       "        6.5587e-03, 6.6194e-03, 6.6807e-03, 6.7426e-03, 6.8051e-03, 6.8681e-03,\n",
       "        6.9317e-03, 6.9959e-03, 7.0607e-03, 7.1261e-03, 7.1921e-03, 7.2587e-03,\n",
       "        7.3260e-03, 7.3938e-03, 7.4623e-03, 7.5314e-03, 7.6012e-03, 7.6716e-03,\n",
       "        7.7426e-03, 7.8143e-03, 7.8867e-03, 7.9598e-03, 8.0335e-03, 8.1079e-03,\n",
       "        8.1830e-03, 8.2588e-03, 8.3353e-03, 8.4125e-03, 8.4904e-03, 8.5691e-03,\n",
       "        8.6484e-03, 8.7285e-03, 8.8094e-03, 8.8910e-03, 8.9733e-03, 9.0564e-03,\n",
       "        9.1403e-03, 9.2250e-03, 9.3104e-03, 9.3966e-03, 9.4837e-03, 9.5715e-03,\n",
       "        9.6602e-03, 9.7496e-03, 9.8400e-03, 9.9311e-03, 1.0023e-02, 1.0116e-02,\n",
       "        1.0210e-02, 1.0304e-02, 1.0400e-02, 1.0496e-02, 1.0593e-02, 1.0691e-02,\n",
       "        1.0790e-02, 1.0890e-02, 1.0991e-02, 1.1093e-02, 1.1196e-02, 1.1299e-02,\n",
       "        1.1404e-02, 1.1510e-02, 1.1616e-02, 1.1724e-02, 1.1832e-02, 1.1942e-02,\n",
       "        1.2053e-02, 1.2164e-02, 1.2277e-02, 1.2391e-02, 1.2505e-02, 1.2621e-02,\n",
       "        1.2738e-02, 1.2856e-02, 1.2975e-02, 1.3095e-02, 1.3217e-02, 1.3339e-02,\n",
       "        1.3463e-02, 1.3587e-02, 1.3713e-02, 1.3840e-02, 1.3968e-02, 1.4098e-02,\n",
       "        1.4228e-02, 1.4360e-02, 1.4493e-02, 1.4627e-02, 1.4763e-02, 1.4900e-02,\n",
       "        1.5038e-02, 1.5177e-02, 1.5317e-02, 1.5459e-02, 1.5602e-02, 1.5747e-02,\n",
       "        1.5893e-02, 1.6040e-02, 1.6189e-02, 1.6339e-02, 1.6490e-02, 1.6643e-02,\n",
       "        1.6797e-02, 1.6952e-02, 1.7109e-02, 1.7268e-02, 1.7428e-02, 1.7589e-02,\n",
       "        1.7752e-02, 1.7917e-02, 1.8082e-02, 1.8250e-02, 1.8419e-02, 1.8590e-02,\n",
       "        1.8762e-02, 1.8936e-02, 1.9111e-02, 1.9288e-02, 1.9467e-02, 1.9647e-02,\n",
       "        1.9829e-02, 2.0012e-02, 2.0198e-02, 2.0385e-02, 2.0574e-02, 2.0764e-02,\n",
       "        2.0957e-02, 2.1151e-02, 2.1347e-02, 2.1544e-02, 2.1744e-02, 2.1945e-02,\n",
       "        2.2149e-02, 2.2354e-02, 2.2561e-02, 2.2770e-02, 2.2981e-02, 2.3193e-02,\n",
       "        2.3408e-02, 2.3625e-02, 2.3844e-02, 2.4065e-02, 2.4288e-02, 2.4513e-02,\n",
       "        2.4740e-02, 2.4969e-02, 2.5200e-02, 2.5433e-02, 2.5669e-02, 2.5907e-02,\n",
       "        2.6147e-02, 2.6389e-02, 2.6633e-02, 2.6880e-02, 2.7129e-02, 2.7380e-02,\n",
       "        2.7634e-02, 2.7890e-02, 2.8148e-02, 2.8409e-02, 2.8672e-02, 2.8938e-02,\n",
       "        2.9206e-02, 2.9476e-02, 2.9749e-02, 3.0025e-02, 3.0303e-02, 3.0583e-02,\n",
       "        3.0867e-02, 3.1153e-02, 3.1441e-02, 3.1732e-02, 3.2026e-02, 3.2323e-02,\n",
       "        3.2622e-02, 3.2924e-02, 3.3229e-02, 3.3537e-02, 3.3848e-02, 3.4161e-02,\n",
       "        3.4478e-02, 3.4797e-02, 3.5119e-02, 3.5445e-02, 3.5773e-02, 3.6104e-02,\n",
       "        3.6439e-02, 3.6776e-02, 3.7117e-02, 3.7461e-02, 3.7807e-02, 3.8158e-02,\n",
       "        3.8511e-02, 3.8868e-02, 3.9228e-02, 3.9591e-02, 3.9958e-02, 4.0328e-02,\n",
       "        4.0701e-02, 4.1078e-02, 4.1459e-02, 4.1843e-02, 4.2230e-02, 4.2622e-02,\n",
       "        4.3016e-02, 4.3415e-02, 4.3817e-02, 4.4223e-02, 4.4632e-02, 4.5046e-02,\n",
       "        4.5463e-02, 4.5884e-02, 4.6309e-02, 4.6738e-02, 4.7171e-02, 4.7608e-02,\n",
       "        4.8049e-02, 4.8494e-02, 4.8943e-02, 4.9396e-02, 4.9854e-02, 5.0315e-02,\n",
       "        5.0782e-02, 5.1252e-02, 5.1727e-02, 5.2206e-02, 5.2689e-02, 5.3177e-02,\n",
       "        5.3670e-02, 5.4167e-02, 5.4669e-02, 5.5175e-02, 5.5686e-02, 5.6202e-02,\n",
       "        5.6722e-02, 5.7248e-02, 5.7778e-02, 5.8313e-02, 5.8853e-02, 5.9398e-02,\n",
       "        5.9948e-02, 6.0504e-02, 6.1064e-02, 6.1630e-02, 6.2200e-02, 6.2777e-02,\n",
       "        6.3358e-02, 6.3945e-02, 6.4537e-02, 6.5135e-02, 6.5738e-02, 6.6347e-02,\n",
       "        6.6962e-02, 6.7582e-02, 6.8208e-02, 6.8840e-02, 6.9477e-02, 7.0121e-02,\n",
       "        7.0770e-02, 7.1426e-02, 7.2087e-02, 7.2755e-02, 7.3429e-02, 7.4109e-02,\n",
       "        7.4795e-02, 7.5488e-02, 7.6187e-02, 7.6893e-02, 7.7605e-02, 7.8324e-02,\n",
       "        7.9049e-02, 7.9781e-02, 8.0520e-02, 8.1266e-02, 8.2019e-02, 8.2779e-02,\n",
       "        8.3545e-02, 8.4319e-02, 8.5100e-02, 8.5888e-02, 8.6684e-02, 8.7487e-02,\n",
       "        8.8297e-02, 8.9115e-02, 8.9940e-02, 9.0773e-02, 9.1614e-02, 9.2463e-02,\n",
       "        9.3319e-02, 9.4183e-02, 9.5056e-02, 9.5936e-02, 9.6825e-02, 9.7721e-02,\n",
       "        9.8627e-02, 9.9540e-02, 1.0046e-01, 1.0139e-01, 1.0233e-01, 1.0328e-01,\n",
       "        1.0424e-01, 1.0520e-01, 1.0618e-01, 1.0716e-01, 1.0815e-01, 1.0915e-01,\n",
       "        1.1016e-01, 1.1118e-01, 1.1221e-01, 1.1325e-01, 1.1430e-01, 1.1536e-01,\n",
       "        1.1643e-01, 1.1751e-01, 1.1860e-01, 1.1970e-01, 1.2080e-01, 1.2192e-01,\n",
       "        1.2305e-01, 1.2419e-01, 1.2534e-01, 1.2650e-01, 1.2768e-01, 1.2886e-01,\n",
       "        1.3005e-01, 1.3126e-01, 1.3247e-01, 1.3370e-01, 1.3494e-01, 1.3619e-01,\n",
       "        1.3745e-01, 1.3872e-01, 1.4001e-01, 1.4130e-01, 1.4261e-01, 1.4393e-01,\n",
       "        1.4527e-01, 1.4661e-01, 1.4797e-01, 1.4934e-01, 1.5072e-01, 1.5212e-01,\n",
       "        1.5353e-01, 1.5495e-01, 1.5638e-01, 1.5783e-01, 1.5930e-01, 1.6077e-01,\n",
       "        1.6226e-01, 1.6376e-01, 1.6528e-01, 1.6681e-01, 1.6836e-01, 1.6991e-01,\n",
       "        1.7149e-01, 1.7308e-01, 1.7468e-01, 1.7630e-01, 1.7793e-01, 1.7958e-01,\n",
       "        1.8124e-01, 1.8292e-01, 1.8461e-01, 1.8632e-01, 1.8805e-01, 1.8979e-01,\n",
       "        1.9155e-01, 1.9332e-01, 1.9511e-01, 1.9692e-01, 1.9875e-01, 2.0059e-01,\n",
       "        2.0244e-01, 2.0432e-01, 2.0621e-01, 2.0812e-01, 2.1005e-01, 2.1200e-01,\n",
       "        2.1396e-01, 2.1594e-01, 2.1794e-01, 2.1996e-01, 2.2200e-01, 2.2405e-01,\n",
       "        2.2613e-01, 2.2822e-01, 2.3034e-01, 2.3247e-01, 2.3462e-01, 2.3680e-01,\n",
       "        2.3899e-01, 2.4120e-01, 2.4344e-01, 2.4569e-01, 2.4797e-01, 2.5026e-01,\n",
       "        2.5258e-01, 2.5492e-01, 2.5728e-01, 2.5967e-01, 2.6207e-01, 2.6450e-01,\n",
       "        2.6695e-01, 2.6942e-01, 2.7192e-01, 2.7443e-01, 2.7698e-01, 2.7954e-01,\n",
       "        2.8213e-01, 2.8474e-01, 2.8738e-01, 2.9004e-01, 2.9273e-01, 2.9544e-01,\n",
       "        2.9818e-01, 3.0094e-01, 3.0373e-01, 3.0654e-01, 3.0938e-01, 3.1224e-01,\n",
       "        3.1514e-01, 3.1806e-01, 3.2100e-01, 3.2397e-01, 3.2698e-01, 3.3000e-01,\n",
       "        3.3306e-01, 3.3614e-01, 3.3926e-01, 3.4240e-01, 3.4557e-01, 3.4877e-01,\n",
       "        3.5200e-01, 3.5526e-01, 3.5855e-01, 3.6188e-01, 3.6523e-01, 3.6861e-01,\n",
       "        3.7202e-01, 3.7547e-01, 3.7895e-01, 3.8246e-01, 3.8600e-01, 3.8957e-01,\n",
       "        3.9318e-01, 3.9682e-01, 4.0050e-01, 4.0421e-01, 4.0795e-01, 4.1173e-01,\n",
       "        4.1555e-01, 4.1939e-01, 4.2328e-01, 4.2720e-01, 4.3116e-01, 4.3515e-01,\n",
       "        4.3918e-01, 4.4325e-01, 4.4735e-01, 4.5150e-01, 4.5568e-01, 4.5990e-01,\n",
       "        4.6416e-01, 4.6846e-01, 4.7280e-01, 4.7718e-01, 4.8160e-01, 4.8606e-01,\n",
       "        4.9056e-01, 4.9510e-01, 4.9969e-01, 5.0432e-01, 5.0899e-01, 5.1370e-01,\n",
       "        5.1846e-01, 5.2326e-01, 5.2811e-01, 5.3300e-01, 5.3794e-01, 5.4292e-01,\n",
       "        5.4795e-01, 5.5302e-01, 5.5814e-01, 5.6331e-01, 5.6853e-01, 5.7380e-01,\n",
       "        5.7911e-01, 5.8448e-01, 5.8989e-01, 5.9535e-01, 6.0087e-01, 6.0643e-01,\n",
       "        6.1205e-01, 6.1772e-01, 6.2344e-01, 6.2921e-01, 6.3504e-01, 6.4092e-01,\n",
       "        6.4686e-01, 6.5285e-01, 6.5890e-01, 6.6500e-01, 6.7116e-01, 6.7738e-01,\n",
       "        6.8365e-01, 6.8998e-01, 6.9637e-01, 7.0282e-01, 7.0933e-01, 7.1590e-01,\n",
       "        7.2253e-01, 7.2923e-01, 7.3598e-01, 7.4280e-01, 7.4968e-01, 7.5662e-01,\n",
       "        7.6363e-01, 7.7070e-01, 7.7784e-01, 7.8505e-01, 7.9232e-01, 7.9966e-01,\n",
       "        8.0706e-01, 8.1454e-01, 8.2208e-01, 8.2970e-01, 8.3738e-01, 8.4514e-01,\n",
       "        8.5296e-01, 8.6086e-01, 8.6884e-01, 8.7689e-01, 8.8501e-01, 8.9320e-01,\n",
       "        9.0148e-01, 9.0983e-01, 9.1825e-01, 9.2676e-01, 9.3534e-01, 9.4401e-01,\n",
       "        9.5275e-01, 9.6157e-01, 9.7048e-01, 9.7947e-01, 9.8854e-01, 9.9770e-01,\n",
       "        1.0069e+00, 1.0163e+00, 1.0257e+00, 1.0352e+00, 1.0448e+00, 1.0544e+00,\n",
       "        1.0642e+00, 1.0741e+00, 1.0840e+00, 1.0941e+00, 1.1042e+00, 1.1144e+00,\n",
       "        1.1247e+00, 1.1352e+00, 1.1457e+00, 1.1563e+00, 1.1670e+00, 1.1778e+00,\n",
       "        1.1887e+00, 1.1997e+00, 1.2108e+00, 1.2220e+00, 1.2334e+00, 1.2448e+00,\n",
       "        1.2563e+00, 1.2680e+00, 1.2797e+00, 1.2915e+00, 1.3035e+00, 1.3156e+00,\n",
       "        1.3278e+00, 1.3401e+00, 1.3525e+00, 1.3650e+00, 1.3777e+00, 1.3904e+00,\n",
       "        1.4033e+00, 1.4163e+00, 1.4294e+00, 1.4426e+00, 1.4560e+00, 1.4695e+00,\n",
       "        1.4831e+00, 1.4968e+00, 1.5107e+00, 1.5247e+00, 1.5388e+00, 1.5531e+00,\n",
       "        1.5675e+00, 1.5820e+00, 1.5966e+00, 1.6114e+00, 1.6263e+00, 1.6414e+00,\n",
       "        1.6566e+00, 1.6719e+00, 1.6874e+00, 1.7031e+00, 1.7188e+00, 1.7348e+00,\n",
       "        1.7508e+00, 1.7670e+00, 1.7834e+00, 1.7999e+00, 1.8166e+00, 1.8334e+00,\n",
       "        1.8504e+00, 1.8675e+00, 1.8848e+00, 1.9023e+00, 1.9199e+00, 1.9377e+00,\n",
       "        1.9557e+00, 1.9738e+00, 1.9920e+00, 2.0105e+00, 2.0291e+00, 2.0479e+00,\n",
       "        2.0669e+00, 2.0860e+00, 2.1053e+00, 2.1248e+00, 2.1445e+00, 2.1644e+00,\n",
       "        2.1844e+00, 2.2047e+00, 2.2251e+00, 2.2457e+00, 2.2665e+00, 2.2875e+00,\n",
       "        2.3087e+00, 2.3301e+00, 2.3516e+00, 2.3734e+00, 2.3954e+00, 2.4176e+00,\n",
       "        2.4400e+00, 2.4626e+00, 2.4854e+00, 2.5084e+00, 2.5316e+00, 2.5551e+00,\n",
       "        2.5788e+00, 2.6026e+00, 2.6268e+00, 2.6511e+00, 2.6756e+00, 2.7004e+00,\n",
       "        2.7254e+00, 2.7507e+00, 2.7762e+00, 2.8019e+00, 2.8278e+00, 2.8540e+00,\n",
       "        2.8804e+00, 2.9071e+00, 2.9340e+00, 2.9612e+00, 2.9887e+00, 3.0163e+00,\n",
       "        3.0443e+00, 3.0725e+00, 3.1009e+00, 3.1296e+00, 3.1586e+00, 3.1879e+00,\n",
       "        3.2174e+00, 3.2472e+00, 3.2773e+00, 3.3076e+00, 3.3383e+00, 3.3692e+00,\n",
       "        3.4004e+00, 3.4319e+00, 3.4637e+00, 3.4958e+00, 3.5282e+00, 3.5608e+00,\n",
       "        3.5938e+00, 3.6271e+00, 3.6607e+00, 3.6946e+00, 3.7288e+00, 3.7634e+00,\n",
       "        3.7982e+00, 3.8334e+00, 3.8689e+00, 3.9047e+00, 3.9409e+00, 3.9774e+00,\n",
       "        4.0142e+00, 4.0514e+00, 4.0889e+00, 4.1268e+00, 4.1650e+00, 4.2036e+00,\n",
       "        4.2426e+00, 4.2819e+00, 4.3215e+00, 4.3615e+00, 4.4019e+00, 4.4427e+00,\n",
       "        4.4839e+00, 4.5254e+00, 4.5673e+00, 4.6096e+00, 4.6523e+00, 4.6954e+00,\n",
       "        4.7389e+00, 4.7828e+00, 4.8271e+00, 4.8718e+00, 4.9169e+00, 4.9624e+00,\n",
       "        5.0084e+00, 5.0548e+00, 5.1016e+00, 5.1489e+00, 5.1966e+00, 5.2447e+00,\n",
       "        5.2933e+00, 5.3423e+00, 5.3918e+00, 5.4417e+00, 5.4921e+00, 5.5430e+00,\n",
       "        5.5943e+00, 5.6461e+00, 5.6984e+00, 5.7512e+00, 5.8045e+00, 5.8582e+00,\n",
       "        5.9125e+00, 5.9673e+00, 6.0225e+00, 6.0783e+00, 6.1346e+00, 6.1914e+00,\n",
       "        6.2488e+00, 6.3067e+00, 6.3651e+00, 6.4240e+00, 6.4835e+00, 6.5436e+00,\n",
       "        6.6042e+00, 6.6654e+00, 6.7271e+00, 6.7894e+00, 6.8523e+00, 6.9158e+00,\n",
       "        6.9798e+00, 7.0445e+00, 7.1097e+00, 7.1756e+00, 7.2420e+00, 7.3091e+00,\n",
       "        7.3768e+00, 7.4451e+00, 7.5141e+00, 7.5837e+00, 7.6539e+00, 7.7248e+00,\n",
       "        7.7964e+00, 7.8686e+00, 7.9415e+00, 8.0150e+00, 8.0892e+00, 8.1642e+00,\n",
       "        8.2398e+00, 8.3161e+00, 8.3931e+00, 8.4709e+00, 8.5493e+00, 8.6285e+00,\n",
       "        8.7084e+00, 8.7891e+00, 8.8705e+00, 8.9527e+00, 9.0356e+00, 9.1193e+00,\n",
       "        9.2037e+00, 9.2890e+00, 9.3750e+00, 9.4618e+00, 9.5495e+00, 9.6379e+00,\n",
       "        9.7272e+00, 9.8173e+00, 9.9082e+00, 1.0000e+01])"
      ]
     },
     "execution_count": null,
     "metadata": {},
     "output_type": "execute_result"
    }
   ],
   "source": [
    "#|hide\n",
    "lre = torch.linspace(-3,1,1000)\n",
    "lrs = 10**lre\n",
    "lrs"
   ]
  },
  {
   "cell_type": "markdown",
   "id": "bfe79a8c",
   "metadata": {},
   "source": [
    "## How to determine a reasonable learning rate"
   ]
  },
  {
   "cell_type": "code",
   "execution_count": null,
   "id": "0b52764e",
   "metadata": {},
   "outputs": [
    {
     "name": "stdout",
     "output_type": "stream",
     "text": [
      "14.843084335327148\n",
      "18.17194938659668\n",
      "19.761276245117188\n",
      "16.947872161865234\n",
      "20.661365509033203\n",
      "21.214704513549805\n",
      "20.575489044189453\n",
      "19.512109756469727\n",
      "23.11766815185547\n",
      "19.289947509765625\n",
      "21.353015899658203\n",
      "21.374975204467773\n",
      "18.729637145996094\n",
      "19.664918899536133\n",
      "19.31208610534668\n",
      "18.400964736938477\n",
      "17.705799102783203\n",
      "20.642879486083984\n",
      "19.287778854370117\n",
      "19.309385299682617\n",
      "20.415990829467773\n",
      "19.241313934326172\n",
      "18.72353172302246\n",
      "20.520008087158203\n",
      "17.13202476501465\n",
      "20.809337615966797\n",
      "16.720359802246094\n",
      "16.511960983276367\n",
      "21.289209365844727\n",
      "17.818912506103516\n",
      "18.372953414916992\n",
      "17.23056411743164\n",
      "17.98614501953125\n",
      "16.521238327026367\n",
      "16.15406036376953\n",
      "20.636716842651367\n",
      "18.75302505493164\n",
      "18.87563705444336\n",
      "15.322574615478516\n",
      "20.308273315429688\n",
      "15.709681510925293\n",
      "18.213708877563477\n",
      "17.871227264404297\n",
      "20.920488357543945\n",
      "18.704132080078125\n",
      "18.186887741088867\n",
      "19.4748592376709\n",
      "19.954336166381836\n",
      "20.858747482299805\n",
      "18.145658493041992\n",
      "18.45526695251465\n",
      "17.123214721679688\n",
      "18.752119064331055\n",
      "15.127236366271973\n",
      "15.370631217956543\n",
      "16.94182586669922\n",
      "18.546085357666016\n",
      "17.362266540527344\n",
      "15.634811401367188\n",
      "15.851079940795898\n",
      "15.310832023620605\n",
      "16.7418155670166\n",
      "17.792930603027344\n",
      "17.84504508972168\n",
      "17.154333114624023\n",
      "18.098054885864258\n",
      "18.437463760375977\n",
      "19.976215362548828\n",
      "16.184558868408203\n",
      "18.6805477142334\n",
      "16.571142196655273\n",
      "19.835601806640625\n",
      "16.614904403686523\n",
      "13.81139087677002\n",
      "16.788955688476562\n",
      "15.017208099365234\n",
      "15.643707275390625\n",
      "15.098937034606934\n",
      "14.105703353881836\n",
      "16.591955184936523\n",
      "17.89310646057129\n",
      "16.363916397094727\n",
      "17.859233856201172\n",
      "19.270355224609375\n",
      "16.77180290222168\n",
      "16.38389015197754\n",
      "16.873634338378906\n",
      "18.654550552368164\n",
      "16.563352584838867\n",
      "14.359448432922363\n",
      "16.09009552001953\n",
      "16.26772689819336\n",
      "15.529369354248047\n",
      "14.34201431274414\n",
      "19.67050552368164\n",
      "16.339038848876953\n",
      "14.585451126098633\n",
      "13.607500076293945\n",
      "20.17458724975586\n",
      "22.3696346282959\n",
      "16.444896697998047\n",
      "15.745038986206055\n",
      "16.786121368408203\n",
      "15.440576553344727\n",
      "15.997089385986328\n",
      "16.443805694580078\n",
      "14.851641654968262\n",
      "12.329773902893066\n",
      "14.280978202819824\n",
      "14.264261245727539\n",
      "13.654020309448242\n",
      "16.028337478637695\n",
      "16.206518173217773\n",
      "14.925193786621094\n",
      "13.668509483337402\n",
      "13.219740867614746\n",
      "15.439698219299316\n",
      "14.403606414794922\n",
      "19.416181564331055\n",
      "14.681412696838379\n",
      "15.321881294250488\n",
      "15.141489028930664\n",
      "16.46207618713379\n",
      "15.403489112854004\n",
      "16.726959228515625\n",
      "15.716147422790527\n",
      "16.122989654541016\n",
      "16.289613723754883\n",
      "16.64693260192871\n",
      "14.278779029846191\n",
      "14.762210845947266\n",
      "15.228493690490723\n",
      "14.788283348083496\n",
      "15.195038795471191\n",
      "13.522727012634277\n",
      "14.01761245727539\n",
      "12.80534553527832\n",
      "13.580201148986816\n",
      "15.688982963562012\n",
      "14.6669282913208\n",
      "15.452919960021973\n",
      "15.451178550720215\n",
      "16.99658966064453\n",
      "11.64006519317627\n",
      "13.904589653015137\n",
      "15.11625862121582\n",
      "15.806832313537598\n",
      "16.463516235351562\n",
      "14.192593574523926\n",
      "15.31742000579834\n",
      "15.387418746948242\n",
      "12.836851119995117\n",
      "12.62244987487793\n",
      "13.766156196594238\n",
      "14.687518119812012\n",
      "16.045793533325195\n",
      "14.174616813659668\n",
      "13.75892162322998\n",
      "15.424493789672852\n",
      "14.927645683288574\n",
      "16.707969665527344\n",
      "17.571094512939453\n",
      "14.33582878112793\n",
      "16.529340744018555\n",
      "16.856874465942383\n",
      "13.4910306930542\n",
      "14.95987319946289\n",
      "14.344914436340332\n",
      "11.882723808288574\n",
      "14.294355392456055\n",
      "13.668829917907715\n",
      "14.490436553955078\n",
      "15.31535530090332\n",
      "13.161345481872559\n",
      "11.742471694946289\n",
      "13.501237869262695\n",
      "12.162383079528809\n",
      "14.186823844909668\n",
      "9.879720687866211\n",
      "10.59953784942627\n",
      "13.290785789489746\n",
      "14.770390510559082\n",
      "12.294944763183594\n",
      "14.495481491088867\n",
      "15.716109275817871\n",
      "12.9618501663208\n",
      "12.803508758544922\n",
      "15.197879791259766\n",
      "14.514116287231445\n",
      "16.377830505371094\n",
      "12.94507122039795\n",
      "12.573615074157715\n",
      "13.383687019348145\n",
      "14.730392456054688\n",
      "13.586326599121094\n",
      "13.724428176879883\n",
      "13.476541519165039\n",
      "14.770933151245117\n",
      "10.385327339172363\n",
      "14.781229972839355\n",
      "13.555476188659668\n",
      "12.998738288879395\n",
      "12.279508590698242\n",
      "12.946589469909668\n",
      "13.20820140838623\n",
      "12.795788764953613\n",
      "12.311687469482422\n",
      "11.499785423278809\n",
      "13.838150024414062\n",
      "11.066385269165039\n",
      "10.754935264587402\n",
      "10.167019844055176\n",
      "9.159332275390625\n",
      "13.411348342895508\n",
      "12.245658874511719\n",
      "14.030293464660645\n",
      "11.092698097229004\n",
      "12.856195449829102\n",
      "12.186396598815918\n",
      "12.280282020568848\n",
      "10.929520606994629\n",
      "12.689393997192383\n",
      "11.930900573730469\n",
      "12.47826862335205\n",
      "10.720316886901855\n",
      "10.866232872009277\n",
      "11.343706130981445\n",
      "13.435569763183594\n",
      "12.17116928100586\n",
      "7.683267593383789\n",
      "12.536883354187012\n",
      "11.088909149169922\n",
      "8.48773193359375\n",
      "11.289900779724121\n",
      "10.954937934875488\n",
      "10.44909381866455\n",
      "12.54575252532959\n",
      "11.98153018951416\n",
      "10.279939651489258\n",
      "8.250924110412598\n",
      "12.634960174560547\n",
      "11.626923561096191\n",
      "9.558167457580566\n",
      "8.197576522827148\n",
      "13.177092552185059\n",
      "13.345989227294922\n",
      "8.457222938537598\n",
      "11.305474281311035\n",
      "9.578035354614258\n",
      "11.627147674560547\n",
      "10.372659683227539\n",
      "10.267293930053711\n",
      "9.993370056152344\n",
      "8.660600662231445\n",
      "9.584933280944824\n",
      "11.3679780960083\n",
      "10.16175651550293\n",
      "11.896230697631836\n",
      "9.416815757751465\n",
      "9.09968090057373\n",
      "9.427589416503906\n",
      "10.36147689819336\n",
      "10.341594696044922\n",
      "9.394110679626465\n",
      "10.81621265411377\n",
      "10.252662658691406\n",
      "10.122416496276855\n",
      "11.831355094909668\n",
      "9.278060913085938\n",
      "11.458808898925781\n",
      "11.15447998046875\n",
      "10.975299835205078\n",
      "9.614265441894531\n",
      "11.251335144042969\n",
      "10.377154350280762\n",
      "9.352006912231445\n",
      "9.107460021972656\n",
      "9.311952590942383\n",
      "8.609944343566895\n",
      "10.909218788146973\n",
      "9.252466201782227\n",
      "8.686277389526367\n",
      "10.2567138671875\n",
      "9.529481887817383\n",
      "10.843742370605469\n",
      "6.891786575317383\n",
      "10.337645530700684\n",
      "11.682793617248535\n",
      "7.944538593292236\n",
      "8.743963241577148\n",
      "10.02181625366211\n",
      "11.647638320922852\n",
      "11.258079528808594\n",
      "12.751319885253906\n",
      "11.985058784484863\n",
      "11.49194622039795\n",
      "9.404258728027344\n",
      "9.45744800567627\n",
      "10.548627853393555\n",
      "7.3706183433532715\n",
      "9.062295913696289\n",
      "9.755782127380371\n",
      "9.187768936157227\n",
      "8.886754989624023\n",
      "7.369149208068848\n",
      "7.900997161865234\n",
      "11.523201942443848\n",
      "7.803178787231445\n",
      "8.467245101928711\n",
      "8.706523895263672\n",
      "9.6446533203125\n",
      "7.96861457824707\n",
      "9.028254508972168\n",
      "7.921942234039307\n",
      "11.102893829345703\n",
      "8.686591148376465\n",
      "8.655632972717285\n",
      "8.931681632995605\n",
      "8.212342262268066\n",
      "10.286469459533691\n",
      "8.137861251831055\n",
      "8.401613235473633\n",
      "7.571945667266846\n",
      "10.761838912963867\n",
      "8.756453514099121\n",
      "8.266595840454102\n",
      "9.154909133911133\n",
      "8.225035667419434\n",
      "6.102346897125244\n",
      "11.54184627532959\n",
      "6.188020706176758\n",
      "7.545078754425049\n",
      "7.875728130340576\n",
      "7.83156681060791\n",
      "9.444659233093262\n",
      "7.166370391845703\n",
      "9.16521167755127\n",
      "7.41351842880249\n",
      "5.823760509490967\n",
      "9.663494110107422\n",
      "5.83088493347168\n",
      "8.821576118469238\n",
      "8.058502197265625\n",
      "8.188486099243164\n",
      "6.360616683959961\n",
      "7.2460808753967285\n",
      "7.706437110900879\n",
      "8.390275955200195\n",
      "7.159963607788086\n",
      "8.651691436767578\n",
      "8.25119686126709\n",
      "7.0592241287231445\n",
      "6.400797367095947\n",
      "7.538444519042969\n",
      "8.505157470703125\n",
      "6.526281833648682\n",
      "6.123440265655518\n",
      "7.366059303283691\n",
      "7.1728620529174805\n",
      "7.536693572998047\n",
      "5.864405155181885\n",
      "7.350798606872559\n",
      "7.242471218109131\n",
      "5.333792686462402\n",
      "6.158762454986572\n",
      "6.690995216369629\n",
      "6.253784656524658\n",
      "6.483032703399658\n",
      "6.067378520965576\n",
      "6.084102153778076\n",
      "7.8287200927734375\n",
      "7.609673023223877\n",
      "6.063674449920654\n",
      "7.859106540679932\n",
      "4.964850902557373\n",
      "6.402385234832764\n",
      "6.57244348526001\n",
      "7.1245551109313965\n",
      "6.54595947265625\n",
      "7.030878067016602\n",
      "5.191754341125488\n",
      "7.27850341796875\n",
      "6.7393951416015625\n",
      "7.5965657234191895\n",
      "6.825085639953613\n",
      "6.542552947998047\n",
      "5.737734317779541\n",
      "5.7190375328063965\n",
      "6.697483062744141\n",
      "6.703072547912598\n",
      "6.153246879577637\n",
      "6.325186729431152\n",
      "4.630480766296387\n",
      "6.071509838104248\n",
      "4.567691802978516\n",
      "4.559256553649902\n",
      "7.201862335205078\n",
      "5.906551837921143\n",
      "5.17379903793335\n",
      "5.667571067810059\n",
      "5.431270599365234\n",
      "6.12714147567749\n",
      "6.820420265197754\n",
      "5.4163031578063965\n",
      "5.699474334716797\n",
      "6.318572521209717\n",
      "5.739269733428955\n",
      "4.791386127471924\n",
      "4.919292449951172\n",
      "6.238950729370117\n",
      "7.273791790008545\n",
      "5.848517894744873\n",
      "5.049344539642334\n",
      "6.856051445007324\n",
      "4.590546131134033\n",
      "5.952441692352295\n",
      "5.501735210418701\n",
      "4.734874725341797\n",
      "5.404849529266357\n",
      "4.437201976776123\n",
      "5.616433620452881\n",
      "5.96237850189209\n",
      "6.088895320892334\n",
      "4.604914665222168\n",
      "4.561626434326172\n",
      "4.845067024230957\n",
      "5.905205249786377\n",
      "4.947257041931152\n",
      "4.472994327545166\n",
      "6.084161758422852\n",
      "5.891110897064209\n",
      "4.357982158660889\n",
      "4.151214122772217\n",
      "5.869189262390137\n",
      "4.560888767242432\n",
      "3.5471837520599365\n",
      "5.010406970977783\n",
      "5.492737293243408\n",
      "4.066895961761475\n",
      "3.2225537300109863\n",
      "5.32485818862915\n",
      "4.96831750869751\n",
      "4.529619216918945\n",
      "4.329014778137207\n",
      "5.320854663848877\n",
      "5.696869850158691\n",
      "4.480088233947754\n",
      "4.997777462005615\n",
      "4.114605903625488\n",
      "4.390524864196777\n",
      "5.005996227264404\n",
      "3.851740598678589\n",
      "5.046175003051758\n",
      "4.080307483673096\n",
      "3.7907867431640625\n",
      "3.3429622650146484\n",
      "3.8084423542022705\n",
      "4.0823845863342285\n",
      "4.51199197769165\n",
      "4.129392147064209\n",
      "5.551039695739746\n",
      "4.437748908996582\n",
      "3.999605655670166\n",
      "4.072597026824951\n",
      "4.117743968963623\n",
      "4.345453262329102\n",
      "3.617119789123535\n",
      "3.7269976139068604\n",
      "3.393301010131836\n",
      "4.269685745239258\n",
      "3.7631189823150635\n",
      "4.522721767425537\n",
      "4.238704204559326\n",
      "3.442021131515503\n",
      "3.778797149658203\n",
      "3.1045875549316406\n",
      "4.002673625946045\n",
      "4.419088840484619\n",
      "3.5835065841674805\n",
      "4.558603286743164\n",
      "2.811755895614624\n",
      "3.867067575454712\n",
      "4.072775840759277\n",
      "4.204793930053711\n",
      "3.480994701385498\n",
      "3.486595392227173\n",
      "4.110830783843994\n",
      "2.8786633014678955\n",
      "3.8960790634155273\n",
      "4.647939682006836\n",
      "3.7137293815612793\n",
      "3.7838873863220215\n",
      "3.628899097442627\n",
      "4.5882649421691895\n",
      "3.8028104305267334\n",
      "3.879013776779175\n",
      "3.0151212215423584\n",
      "3.9491968154907227\n",
      "3.69486927986145\n",
      "3.4897027015686035\n",
      "3.499401092529297\n",
      "4.258713245391846\n",
      "3.129004716873169\n",
      "4.2834625244140625\n",
      "3.8615689277648926\n",
      "3.2853121757507324\n",
      "3.2145183086395264\n",
      "3.114182472229004\n",
      "4.348178386688232\n",
      "3.995797872543335\n",
      "3.086482286453247\n",
      "3.0281739234924316\n",
      "3.6355655193328857\n",
      "4.093474864959717\n",
      "3.1375317573547363\n",
      "4.038607597351074\n",
      "2.7433879375457764\n",
      "2.9707112312316895\n",
      "4.379947662353516\n",
      "3.9280710220336914\n",
      "3.202354669570923\n",
      "3.9071993827819824\n",
      "3.824542284011841\n",
      "3.0681540966033936\n",
      "3.468907356262207\n",
      "3.7711470127105713\n",
      "3.447777032852173\n",
      "3.5731678009033203\n",
      "3.456573486328125\n",
      "3.3582615852355957\n",
      "3.114020347595215\n",
      "3.229914903640747\n",
      "3.4770145416259766\n",
      "3.7655160427093506\n",
      "3.124697208404541\n",
      "3.422142267227173\n",
      "3.097477674484253\n",
      "3.3896055221557617\n",
      "3.936183452606201\n",
      "2.4041597843170166\n",
      "4.2035932540893555\n",
      "3.083686113357544\n",
      "2.83274507522583\n",
      "2.7081587314605713\n",
      "3.9193506240844727\n",
      "2.6981966495513916\n",
      "3.031203269958496\n",
      "3.529259443283081\n",
      "3.0234124660491943\n",
      "3.4600226879119873\n",
      "2.758596658706665\n",
      "3.170560598373413\n",
      "3.213609218597412\n",
      "3.375023126602173\n",
      "3.5488476753234863\n",
      "3.5627787113189697\n",
      "2.8986644744873047\n",
      "3.0514121055603027\n",
      "3.1037371158599854\n",
      "3.178703546524048\n",
      "2.4142959117889404\n",
      "2.9690189361572266\n",
      "3.507143020629883\n"
     ]
    },
    {
     "name": "stdout",
     "output_type": "stream",
     "text": [
      "3.772491216659546\n",
      "2.961885929107666\n",
      "3.015127420425415\n",
      "3.595036745071411\n",
      "4.84480619430542\n",
      "3.171821117401123\n",
      "3.268968105316162\n",
      "3.2056267261505127\n",
      "3.8361263275146484\n",
      "3.4657232761383057\n",
      "2.7785308361053467\n",
      "3.3364086151123047\n",
      "3.067646026611328\n",
      "3.2896111011505127\n",
      "2.862370014190674\n",
      "3.5795342922210693\n",
      "4.341079235076904\n",
      "4.2643208503723145\n",
      "3.186988115310669\n",
      "3.1651713848114014\n",
      "3.881147861480713\n",
      "3.3933801651000977\n",
      "2.8229479789733887\n",
      "3.7035303115844727\n",
      "3.3337953090667725\n",
      "3.1985363960266113\n",
      "3.36785626411438\n",
      "3.000974178314209\n",
      "3.117183208465576\n",
      "3.1820411682128906\n",
      "3.2494451999664307\n",
      "2.9786765575408936\n",
      "3.0659573078155518\n",
      "4.541919708251953\n",
      "4.253470420837402\n",
      "3.744230270385742\n",
      "4.472354888916016\n",
      "3.6881260871887207\n",
      "3.4274730682373047\n",
      "4.499106407165527\n",
      "3.7007970809936523\n",
      "3.5327584743499756\n",
      "3.4698448181152344\n",
      "3.415515422821045\n",
      "3.7085957527160645\n",
      "4.0731425285339355\n",
      "3.5740585327148438\n",
      "3.152665138244629\n",
      "3.3257322311401367\n",
      "3.9189486503601074\n",
      "3.7924752235412598\n",
      "2.97833251953125\n",
      "3.599029541015625\n",
      "3.460476875305176\n",
      "3.3509609699249268\n",
      "4.055078029632568\n",
      "4.389534950256348\n",
      "3.5368947982788086\n",
      "3.744457960128784\n",
      "3.3690061569213867\n",
      "3.5069220066070557\n",
      "3.6815123558044434\n",
      "4.2980499267578125\n",
      "5.034293174743652\n",
      "4.240948677062988\n",
      "4.1749982833862305\n",
      "3.243518590927124\n",
      "3.281987190246582\n",
      "4.447559833526611\n",
      "4.446049690246582\n",
      "4.341702938079834\n",
      "4.634121417999268\n",
      "4.59197998046875\n",
      "3.438288688659668\n",
      "4.033402442932129\n",
      "4.224014759063721\n",
      "4.200084209442139\n",
      "3.4429402351379395\n",
      "4.023482799530029\n",
      "4.184509754180908\n",
      "4.098417282104492\n",
      "4.627261161804199\n",
      "4.203796863555908\n",
      "4.7530341148376465\n",
      "4.259347438812256\n",
      "4.152473449707031\n",
      "3.8340604305267334\n",
      "4.236448287963867\n",
      "3.5825612545013428\n",
      "4.445407390594482\n",
      "4.655588626861572\n",
      "3.527228832244873\n",
      "4.586404323577881\n",
      "4.174238681793213\n",
      "5.009650707244873\n",
      "3.4681265354156494\n",
      "5.388019561767578\n",
      "5.430500030517578\n",
      "3.269467353820801\n",
      "3.227599620819092\n",
      "4.011964321136475\n",
      "3.9856951236724854\n",
      "5.1314215660095215\n",
      "4.738359451293945\n",
      "3.7137362957000732\n",
      "4.965609073638916\n",
      "6.305047988891602\n",
      "7.642568111419678\n",
      "8.4696044921875\n",
      "8.678922653198242\n",
      "8.42667007446289\n",
      "6.242510795593262\n",
      "6.481385707855225\n",
      "5.059918403625488\n",
      "5.912844657897949\n",
      "8.097736358642578\n",
      "5.067403316497803\n",
      "5.607068061828613\n",
      "4.908791542053223\n",
      "4.85643196105957\n",
      "5.748100757598877\n",
      "4.761544704437256\n",
      "3.733367443084717\n",
      "5.294589042663574\n",
      "4.626331806182861\n",
      "4.896059513092041\n",
      "4.908571243286133\n",
      "5.852017402648926\n",
      "5.558871269226074\n",
      "6.383285045623779\n",
      "5.184283256530762\n",
      "5.06510066986084\n",
      "6.305582523345947\n",
      "6.653325080871582\n",
      "5.327225208282471\n",
      "4.790569305419922\n",
      "3.847951650619507\n",
      "4.319383144378662\n",
      "4.198832035064697\n",
      "4.847568035125732\n",
      "4.852108955383301\n",
      "6.162518501281738\n",
      "4.331786155700684\n",
      "4.528992652893066\n",
      "4.7641520500183105\n",
      "6.037682056427002\n",
      "5.458061218261719\n",
      "3.9862327575683594\n",
      "5.439133644104004\n",
      "7.206143856048584\n",
      "6.52500057220459\n",
      "5.546405792236328\n",
      "5.339919567108154\n",
      "6.241346836090088\n",
      "6.313727855682373\n",
      "5.644087791442871\n",
      "5.552602767944336\n",
      "6.5073418617248535\n",
      "6.485796928405762\n",
      "7.288283824920654\n",
      "7.389281272888184\n",
      "6.372310161590576\n",
      "7.48193883895874\n",
      "8.122096061706543\n",
      "5.971689701080322\n",
      "9.259218215942383\n",
      "6.058638572692871\n",
      "6.24075984954834\n",
      "6.118555545806885\n",
      "5.250392436981201\n",
      "5.588268280029297\n",
      "6.722280502319336\n",
      "7.447168350219727\n",
      "6.231198787689209\n",
      "8.418732643127441\n",
      "9.032230377197266\n",
      "7.264161109924316\n",
      "8.740989685058594\n",
      "9.567956924438477\n",
      "6.539505481719971\n",
      "8.064693450927734\n",
      "8.750596046447754\n",
      "9.162650108337402\n",
      "6.780904293060303\n",
      "10.483159065246582\n",
      "9.972715377807617\n",
      "6.632128715515137\n",
      "8.083090782165527\n",
      "7.732899188995361\n",
      "11.090662002563477\n",
      "8.770074844360352\n",
      "9.181713104248047\n",
      "9.199248313903809\n",
      "8.092037200927734\n",
      "11.830573081970215\n",
      "7.620938301086426\n",
      "9.684809684753418\n",
      "10.378127098083496\n",
      "11.405990600585938\n",
      "11.130047798156738\n",
      "12.734619140625\n",
      "11.265812873840332\n",
      "12.261874198913574\n",
      "11.247414588928223\n",
      "6.361696243286133\n",
      "9.775726318359375\n",
      "8.260810852050781\n",
      "8.27502727508545\n",
      "7.461513996124268\n",
      "10.429974555969238\n",
      "8.721579551696777\n",
      "11.155845642089844\n",
      "10.402605056762695\n",
      "7.448467254638672\n",
      "10.584410667419434\n",
      "8.799494743347168\n",
      "11.983012199401855\n",
      "17.1027889251709\n",
      "14.561079025268555\n",
      "10.542523384094238\n",
      "8.77267074584961\n",
      "9.18898868560791\n",
      "12.955536842346191\n",
      "9.168152809143066\n",
      "8.297030448913574\n",
      "7.458244800567627\n",
      "9.213658332824707\n",
      "8.062007904052734\n",
      "9.126049995422363\n",
      "9.97906494140625\n",
      "9.535725593566895\n",
      "12.393112182617188\n",
      "11.500343322753906\n",
      "6.594941139221191\n",
      "6.980265140533447\n",
      "10.44414234161377\n",
      "9.726259231567383\n",
      "9.872746467590332\n",
      "8.941810607910156\n",
      "9.242969512939453\n",
      "11.059183120727539\n",
      "10.254465103149414\n",
      "8.357714653015137\n",
      "10.178194999694824\n",
      "10.86609172821045\n",
      "11.957579612731934\n",
      "13.123879432678223\n",
      "11.682320594787598\n",
      "12.088951110839844\n",
      "11.410676956176758\n",
      "10.565445899963379\n",
      "9.521102905273438\n",
      "6.760427474975586\n",
      "11.720272064208984\n",
      "14.500996589660645\n",
      "12.94958782196045\n",
      "13.723697662353516\n",
      "17.043533325195312\n",
      "10.548369407653809\n",
      "11.012072563171387\n",
      "9.818921089172363\n",
      "13.88144302368164\n",
      "11.363907814025879\n",
      "15.955239295959473\n",
      "11.909879684448242\n",
      "10.349431991577148\n",
      "11.071504592895508\n",
      "12.045044898986816\n",
      "12.792939186096191\n",
      "9.016544342041016\n",
      "11.71063232421875\n",
      "14.382955551147461\n",
      "10.404356002807617\n",
      "7.55684757232666\n",
      "15.431801795959473\n",
      "24.1871395111084\n",
      "19.731231689453125\n",
      "12.724555969238281\n",
      "16.549549102783203\n",
      "20.291301727294922\n",
      "12.592778205871582\n",
      "15.748906135559082\n",
      "18.064599990844727\n",
      "14.490906715393066\n",
      "9.319202423095703\n",
      "15.184324264526367\n",
      "13.112687110900879\n",
      "12.746683120727539\n",
      "10.694018363952637\n",
      "15.40565013885498\n",
      "12.318035125732422\n",
      "13.352484703063965\n",
      "17.48784065246582\n",
      "12.33735466003418\n",
      "13.86996841430664\n",
      "13.443239212036133\n",
      "20.997879028320312\n",
      "22.494606018066406\n",
      "15.770208358764648\n",
      "25.78339958190918\n",
      "14.01770305633545\n",
      "25.921480178833008\n",
      "21.075794219970703\n",
      "24.61673355102539\n",
      "20.64219856262207\n",
      "17.800058364868164\n",
      "16.317832946777344\n",
      "14.666746139526367\n",
      "18.617576599121094\n",
      "16.477840423583984\n",
      "11.394506454467773\n",
      "16.339208602905273\n",
      "25.300594329833984\n",
      "28.24898910522461\n",
      "23.076496124267578\n",
      "20.736881256103516\n",
      "18.467315673828125\n",
      "25.23567771911621\n",
      "23.107271194458008\n",
      "18.902284622192383\n",
      "18.127017974853516\n",
      "18.02821922302246\n",
      "16.155529022216797\n",
      "20.29480743408203\n",
      "24.060678482055664\n",
      "18.720279693603516\n",
      "14.637195587158203\n",
      "26.31005096435547\n",
      "27.097063064575195\n",
      "19.839902877807617\n",
      "18.33169174194336\n",
      "18.60685157775879\n",
      "22.274078369140625\n",
      "20.657928466796875\n",
      "19.656370162963867\n",
      "23.594072341918945\n",
      "18.666784286499023\n",
      "22.013412475585938\n",
      "17.424251556396484\n",
      "17.723363876342773\n",
      "23.95366668701172\n",
      "19.163076400756836\n",
      "26.219829559326172\n",
      "19.574825286865234\n",
      "20.913257598876953\n",
      "25.617206573486328\n",
      "30.53827476501465\n",
      "19.024709701538086\n",
      "22.851896286010742\n",
      "23.07783317565918\n",
      "21.871932983398438\n",
      "24.593198776245117\n",
      "25.730518341064453\n",
      "18.734996795654297\n",
      "27.373775482177734\n",
      "26.33245277404785\n",
      "27.294361114501953\n",
      "18.754535675048828\n",
      "26.99200439453125\n",
      "23.172527313232422\n",
      "26.161590576171875\n",
      "25.575345993041992\n",
      "24.716087341308594\n",
      "27.514055252075195\n",
      "31.326730728149414\n",
      "34.8464241027832\n",
      "19.00064468383789\n",
      "26.061237335205078\n",
      "23.46065330505371\n",
      "29.742572784423828\n",
      "24.622528076171875\n",
      "36.773799896240234\n",
      "21.981916427612305\n",
      "35.51411056518555\n",
      "22.358312606811523\n",
      "26.748634338378906\n",
      "31.368572235107422\n",
      "30.962818145751953\n",
      "24.691226959228516\n",
      "29.376440048217773\n",
      "36.54957580566406\n",
      "33.791648864746094\n",
      "37.86457824707031\n",
      "35.37223434448242\n",
      "29.465103149414062\n",
      "27.955196380615234\n",
      "39.129886627197266\n",
      "23.54705810546875\n",
      "33.32923889160156\n",
      "38.56412887573242\n",
      "47.68328857421875\n",
      "34.68157196044922\n",
      "34.56538009643555\n",
      "30.815256118774414\n",
      "36.319332122802734\n",
      "40.66044235229492\n",
      "78.9460678100586\n",
      "36.10546112060547\n",
      "52.29161834716797\n",
      "67.06073760986328\n",
      "60.30561065673828\n",
      "48.05470657348633\n",
      "70.55690002441406\n",
      "65.82583618164062\n",
      "55.462440490722656\n",
      "46.80488586425781\n",
      "37.62538146972656\n",
      "40.92010498046875\n",
      "43.41348648071289\n",
      "44.05731964111328\n",
      "56.03281021118164\n",
      "73.87240600585938\n",
      "66.47816467285156\n",
      "65.10694122314453\n",
      "80.17941284179688\n",
      "59.01478576660156\n",
      "45.108253479003906\n",
      "56.619224548339844\n",
      "44.49964141845703\n",
      "60.407203674316406\n",
      "35.333709716796875\n",
      "53.94847106933594\n",
      "47.12828826904297\n",
      "71.86637878417969\n",
      "57.58027267456055\n",
      "75.44717407226562\n",
      "39.481903076171875\n",
      "50.51742935180664\n",
      "58.455013275146484\n",
      "66.77301788330078\n",
      "57.86845397949219\n",
      "81.12073516845703\n",
      "66.69477844238281\n",
      "54.96619415283203\n",
      "78.16719055175781\n",
      "87.54997253417969\n",
      "67.48096466064453\n"
     ]
    }
   ],
   "source": [
    "lrei = []\n",
    "lossi = []\n",
    "for i in range(1000):\n",
    "    #  minibatch construct\n",
    "    ix = torch.randint(0,X.shape[0],(32,))\n",
    "    # forward pass\n",
    "    emb = C[X[ix]] #(32,3,2)\n",
    "    h = torch.tanh(emb.view((-1,6)) @ W1 + b1) #(32,100)\n",
    "    logits = h @ W2 + b2 #(32,27)\n",
    "    loss = F.cross_entropy(logits, Y[ix])\n",
    "    print(loss.item())\n",
    "    #backward pass\n",
    "    for p in parameters:\n",
    "        p.grad = None\n",
    "    loss.backward()  \n",
    "    lr = lrs[i]\n",
    "    for p in parameters:\n",
    "        p.data += -lr * p.grad\n",
    "        \n",
    "    #track stats\n",
    "    lrei.append(lre[i])\n",
    "    lossi.append(loss.item())\n",
    "        \n",
    "# print(loss.item())        "
   ]
  },
  {
   "cell_type": "markdown",
   "id": "81f82193",
   "metadata": {},
   "source": [
    "#|hide\n",
    "03/28/23 Stop at 39:39 / 1:15:39"
   ]
  },
  {
   "cell_type": "code",
   "execution_count": null,
   "id": "121cb5ae",
   "metadata": {},
   "outputs": [
    {
     "data": {
      "text/plain": [
       "[<matplotlib.lines.Line2D>]"
      ]
     },
     "execution_count": null,
     "metadata": {},
     "output_type": "execute_result"
    },
    {
     "data": {
      "image/png": "[encoded data removed]",
      "text/plain": [
       "<Figure size 640x480 with 1 Axes>"
      ]
     },
     "metadata": {},
     "output_type": "display_data"
    }
   ],
   "source": [
    "#|hide\n",
    "# Use the minimizer here as the starting point\n",
    "# train until you feel the loss is plateauing\n",
    "# then decay the learning rate\n",
    "plt.plot(lrei, lossi)"
   ]
  },
  {
   "cell_type": "code",
   "execution_count": null,
   "id": "798cd4dd",
   "metadata": {},
   "outputs": [],
   "source": [
    "block_size = 3 #characters to take as context before predicting the next\n",
    "\n",
    "X,Y=[],[]\n",
    "for w in words:\n",
    "#     print(w)\n",
    "    context = [0]*block_size\n",
    "    for ch in w + '.':\n",
    "        ix=stoi[ch]\n",
    "        X.append(context)\n",
    "        Y.append(ix)\n",
    "#         print(''.join(itos[i] for i in context))\n",
    "        context = context[1:] + [ix]\n",
    "        \n",
    "X = torch.tensor(X)\n",
    "Y = torch.tensor(Y)"
   ]
  },
  {
   "cell_type": "code",
   "execution_count": null,
   "id": "eae0671f",
   "metadata": {},
   "outputs": [],
   "source": [
    "g = torch.Generator().manual_seed(2147483647)\n",
    "C = torch.randn((27,2), generator=g)\n",
    "\n",
    "W1 = torch.randn((6,100), generator=g) # 100 neurons each taking 6 inputs\n",
    "b1 = torch.randn((100), generator=g) # the bias for each of the 100 neurons\n",
    "\n",
    "W2 = torch.randn((100,27), generator=g) # 27 neurons each taking 100 inputs\n",
    "b2 = torch.randn(27, generator=g)\n",
    "\n",
    "parameters = [C, W1, b1, W2, b2]\n",
    "\n",
    "for p in parameters:\n",
    "    p.requires_grad = True"
   ]
  },
  {
   "cell_type": "code",
   "execution_count": null,
   "id": "4c28a49b",
   "metadata": {},
   "outputs": [
    {
     "name": "stdout",
     "output_type": "stream",
     "text": [
      "1.9226114749908447\n"
     ]
    }
   ],
   "source": [
    "lrei = []\n",
    "lossi = []\n",
    "for i in range(10000):\n",
    "    #  minibatch construct\n",
    "    ix = torch.randint(0,X.shape[0],(32,))\n",
    "    # forward pass\n",
    "    emb = C[X[ix]] #(32,3,2)\n",
    "    h = torch.tanh(emb.view((-1,6)) @ W1 + b1) #(32,100)\n",
    "    logits = h @ W2 + b2 #(32,27)\n",
    "    loss = F.cross_entropy(logits, Y[ix])\n",
    "#     print(loss.item())\n",
    "    #backward pass\n",
    "    for p in parameters:\n",
    "        p.grad = None\n",
    "    loss.backward()  \n",
    "    lr = 10**-2 #lrs[i]\n",
    "    for p in parameters:\n",
    "        p.data += -lr * p.grad\n",
    "        \n",
    "    #track stats\n",
    "#     lrei.append(lre[i])\n",
    "#     lossi.append(loss.item())\n",
    "        \n",
    "print(loss.item()) "
   ]
  },
  {
   "cell_type": "markdown",
   "id": "55e7c74c",
   "metadata": {},
   "source": [
    "#|hide\n",
    "03/28/23 Stop at 52:5s / 1:15:39"
   ]
  },
  {
   "cell_type": "code",
   "execution_count": null,
   "id": "73bc851b",
   "metadata": {},
   "outputs": [
    {
     "name": "stdout",
     "output_type": "stream",
     "text": [
      "2.4845705032348633\n"
     ]
    }
   ],
   "source": [
    "#|hide\n",
    "# Loss on the entire training set\n",
    "emb = C[X]\n",
    "h = torch.tanh(emb.view((-1,6)) @ W1 + b1) #(32,100)\n",
    "logits = h @ W2 + b2\n",
    "loss = F.cross_entropy(logits, Y)\n",
    "print(loss.item())"
   ]
  },
  {
   "cell_type": "code",
   "execution_count": null,
   "id": "c8202e33",
   "metadata": {},
   "outputs": [],
   "source": []
  }
 ],
 "metadata": {
  "kernelspec": {
   "display_name": "python3",
   "language": "python",
   "name": "python3"
  }
 },
 "nbformat": 4,
 "nbformat_minor": 5
}
