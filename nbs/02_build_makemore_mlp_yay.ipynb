{
 "cells": [
  {
   "cell_type": "markdown",
   "id": "b41be0e1",
   "metadata": {},
   "source": [
    "# Build makemore MLP"
   ]
  },
  {
   "cell_type": "code",
   "execution_count": null,
   "id": "e908661d",
   "metadata": {},
   "outputs": [],
   "source": [
    "import torch\n",
    "import torch.nn.functional as F\n",
    "import matplotlib.pyplot as plt\n",
    "%matplotlib inline"
   ]
  },
  {
   "cell_type": "code",
   "execution_count": null,
   "id": "3b3ec550",
   "metadata": {},
   "outputs": [
    {
     "data": {
      "text/plain": [
       "['emma', 'olivia', 'ava', 'isabella', 'sophia', 'charlotte', 'mia', 'amelia']"
      ]
     },
     "execution_count": null,
     "metadata": {},
     "output_type": "execute_result"
    }
   ],
   "source": [
    "words = open('../names.txt','r').read().splitlines()\n",
    "words[:8]"
   ]
  },
  {
   "cell_type": "code",
   "execution_count": null,
   "id": "982ee771",
   "metadata": {},
   "outputs": [
    {
     "data": {
      "text/plain": [
       "32033"
      ]
     },
     "execution_count": null,
     "metadata": {},
     "output_type": "execute_result"
    }
   ],
   "source": [
    "len(words)"
   ]
  },
  {
   "cell_type": "markdown",
   "id": "d16cc8eb",
   "metadata": {},
   "source": [
    "## Build the dataset"
   ]
  },
  {
   "cell_type": "code",
   "execution_count": null,
   "id": "66ad6019",
   "metadata": {},
   "outputs": [
    {
     "name": "stdout",
     "output_type": "stream",
     "text": [
      "{1: 'a', 2: 'b', 3: 'c', 4: 'd', 5: 'e', 6: 'f', 7: 'g', 8: 'h', 9: 'i', 10: 'j', 11: 'k', 12: 'l', 13: 'm', 14: 'n', 15: 'o', 16: 'p', 17: 'q', 18: 'r', 19: 's', 20: 't', 21: 'u', 22: 'v', 23: 'w', 24: 'x', 25: 'y', 26: 'z', 0: '.'}\n"
     ]
    }
   ],
   "source": [
    "chars = sorted(set(list(''.join(words))))\n",
    "stoi = {char:idx+1 for idx,char in enumerate(chars)}\n",
    "stoi['.'] = 0 \n",
    "itos = {idx:char for char, idx in stoi.items()}\n",
    "print(itos)"
   ]
  },
  {
   "cell_type": "markdown",
   "id": "230cd797",
   "metadata": {},
   "source": [
    "#|hide\n",
    "03/23/23 Stop at 10:22 / 1:15:39"
   ]
  },
  {
   "cell_type": "code",
   "execution_count": null,
   "id": "f1273e91",
   "metadata": {},
   "outputs": [
    {
     "name": "stdout",
     "output_type": "stream",
     "text": [
      "emma\n",
      "...\n",
      "..e\n",
      ".em\n",
      "emm\n",
      "mma\n",
      "olivia\n",
      "...\n",
      "..o\n",
      ".ol\n",
      "oli\n",
      "liv\n",
      "ivi\n",
      "via\n",
      "ava\n",
      "...\n",
      "..a\n",
      ".av\n",
      "ava\n",
      "isabella\n",
      "...\n",
      "..i\n",
      ".is\n",
      "isa\n",
      "sab\n",
      "abe\n",
      "bel\n",
      "ell\n",
      "lla\n",
      "sophia\n",
      "...\n",
      "..s\n",
      ".so\n",
      "sop\n",
      "oph\n",
      "phi\n",
      "hia\n"
     ]
    }
   ],
   "source": [
    "block_size = 3 #characters to take as context before predicting the next\n",
    "\n",
    "X,Y=[],[]\n",
    "for w in words[:5]:\n",
    "    print(w)\n",
    "    context = [0]*block_size\n",
    "    for ch in w + '.':\n",
    "        ix=stoi[ch]\n",
    "        X.append(context)\n",
    "        Y.append(ix)\n",
    "        print(''.join(itos[i] for i in context))\n",
    "        context = context[1:] + [ix]\n",
    "        \n",
    "X = torch.tensor(X)\n",
    "Y = torch.tensor(Y)"
   ]
  },
  {
   "cell_type": "code",
   "execution_count": null,
   "id": "479332d6",
   "metadata": {},
   "outputs": [
    {
     "data": {
      "text/plain": [
       "(torch.Size([32, 3]), torch.int64, torch.Size([32]), torch.int64)"
      ]
     },
     "execution_count": null,
     "metadata": {},
     "output_type": "execute_result"
    }
   ],
   "source": [
    "X.shape, X.dtype, Y.shape, Y.dtype"
   ]
  },
  {
   "cell_type": "code",
   "execution_count": null,
   "id": "97a662b7",
   "metadata": {},
   "outputs": [],
   "source": [
    "# We will embed the 27 characters into 2-d space\n",
    "C = torch.randn((27,2))"
   ]
  },
  {
   "cell_type": "code",
   "execution_count": null,
   "id": "ae1292b7",
   "metadata": {},
   "outputs": [
    {
     "data": {
      "text/plain": [
       "tensor([0.7707, 0.4602])"
      ]
     },
     "execution_count": null,
     "metadata": {},
     "output_type": "execute_result"
    }
   ],
   "source": [
    "C[5]"
   ]
  },
  {
   "cell_type": "code",
   "execution_count": null,
   "id": "bbe091fb",
   "metadata": {},
   "outputs": [
    {
     "data": {
      "text/plain": [
       "tensor([0.7707, 0.4602])"
      ]
     },
     "execution_count": null,
     "metadata": {},
     "output_type": "execute_result"
    }
   ],
   "source": [
    "#|hide\n",
    "# Identical to indexing into the embedding table\n",
    "# directly\n",
    "F.one_hot(torch.tensor(5), num_classes=27).float() @ C"
   ]
  },
  {
   "cell_type": "code",
   "execution_count": null,
   "id": "3cc58142",
   "metadata": {},
   "outputs": [
    {
     "data": {
      "text/plain": [
       "tensor([[ 0.7707,  0.4602],\n",
       "        [-0.7867,  0.5374],\n",
       "        [-0.1724, -0.4906],\n",
       "        [-0.1724, -0.4906]])"
      ]
     },
     "execution_count": null,
     "metadata": {},
     "output_type": "execute_result"
    }
   ],
   "source": [
    "#|hide\n",
    "C[[5,6,7,7]]"
   ]
  },
  {
   "cell_type": "code",
   "execution_count": null,
   "id": "798bbc04",
   "metadata": {},
   "outputs": [
    {
     "data": {
      "text/plain": [
       "tensor([[ 0.7707,  0.4602],\n",
       "        [-0.7867,  0.5374],\n",
       "        [-0.1724, -0.4906],\n",
       "        [-0.1724, -0.4906]])"
      ]
     },
     "execution_count": null,
     "metadata": {},
     "output_type": "execute_result"
    }
   ],
   "source": [
    "#|hide\n",
    "C[torch.tensor([5,6,7,7])]"
   ]
  },
  {
   "cell_type": "code",
   "execution_count": null,
   "id": "c96672e2",
   "metadata": {},
   "outputs": [
    {
     "data": {
      "text/plain": [
       "torch.Size([32, 3])"
      ]
     },
     "execution_count": null,
     "metadata": {},
     "output_type": "execute_result"
    }
   ],
   "source": [
    "#|hide\n",
    "X.shape"
   ]
  },
  {
   "cell_type": "code",
   "execution_count": null,
   "id": "fb9eac9b",
   "metadata": {},
   "outputs": [
    {
     "data": {
      "text/plain": [
       "torch.Size([32, 3, 2])"
      ]
     },
     "execution_count": null,
     "metadata": {},
     "output_type": "execute_result"
    }
   ],
   "source": [
    "#|hide\n",
    "C[X].shape"
   ]
  },
  {
   "cell_type": "code",
   "execution_count": null,
   "id": "0069132f",
   "metadata": {},
   "outputs": [
    {
     "data": {
      "text/plain": [
       "torch.Size([32, 3, 2])"
      ]
     },
     "execution_count": null,
     "metadata": {},
     "output_type": "execute_result"
    }
   ],
   "source": [
    "emb = C[X]\n",
    "emb.shape"
   ]
  },
  {
   "cell_type": "code",
   "execution_count": null,
   "id": "21ca8ac6",
   "metadata": {},
   "outputs": [],
   "source": [
    "W1 = torch.randn((6,100)) # 100 neurons each taking 6 inputs\n",
    "b1 = torch.randn((100)) # the bias for each of the 100 neurons"
   ]
  },
  {
   "cell_type": "code",
   "execution_count": null,
   "id": "215606e8",
   "metadata": {},
   "outputs": [
    {
     "data": {
      "text/plain": [
       "torch.Size([32, 2])"
      ]
     },
     "execution_count": null,
     "metadata": {},
     "output_type": "execute_result"
    }
   ],
   "source": [
    "#|hide\n",
    "# pluck out the embeddings for the first character\n",
    "# in the context\n",
    "emb[:,0,:].shape"
   ]
  },
  {
   "cell_type": "code",
   "execution_count": null,
   "id": "dea40db3",
   "metadata": {},
   "outputs": [
    {
     "data": {
      "text/plain": [
       "torch.Size([32, 6])"
      ]
     },
     "execution_count": null,
     "metadata": {},
     "output_type": "execute_result"
    }
   ],
   "source": [
    "#|hide\n",
    "# pluck out the embeddings for the first, second and \n",
    "# third character in the context and concatenate them\n",
    "torch.cat([emb[:,0,:],emb[:,1,:],emb[:,2,:]], dim=1).shape"
   ]
  },
  {
   "cell_type": "code",
   "execution_count": null,
   "id": "fb7fd6a2",
   "metadata": {},
   "outputs": [
    {
     "data": {
      "text/plain": [
       "(3, 32, tensor([ 0.3226, -0.3736]))"
      ]
     },
     "execution_count": null,
     "metadata": {},
     "output_type": "execute_result"
    }
   ],
   "source": [
    "#|hide\n",
    "# unbind allows us to get a list of tensors\n",
    "# equivalent to our manual plucking of embeddings in the\n",
    "# previous line\n",
    "len(torch.unbind(emb,1)), len(torch.unbind(emb,1)[0]), torch.unbind(emb,1)[0][0]"
   ]
  },
  {
   "cell_type": "code",
   "execution_count": null,
   "id": "1a1a33a2",
   "metadata": {},
   "outputs": [
    {
     "data": {
      "text/plain": [
       "torch.Size([32, 6])"
      ]
     },
     "execution_count": null,
     "metadata": {},
     "output_type": "execute_result"
    }
   ],
   "source": [
    "#|hide\n",
    "torch.cat(torch.unbind(emb,dim=1), dim=1).shape"
   ]
  },
  {
   "cell_type": "code",
   "execution_count": null,
   "id": "e78a4524",
   "metadata": {},
   "outputs": [
    {
     "data": {
      "text/plain": [
       "tensor([ 0,  1,  2,  3,  4,  5,  6,  7,  8,  9, 10, 11, 12, 13, 14, 15, 16, 17])"
      ]
     },
     "execution_count": null,
     "metadata": {},
     "output_type": "execute_result"
    }
   ],
   "source": [
    "#|hide\n",
    "a = torch.arange(18)\n",
    "a"
   ]
  },
  {
   "cell_type": "code",
   "execution_count": null,
   "id": "79c6c480",
   "metadata": {},
   "outputs": [
    {
     "data": {
      "text/plain": [
       "torch.Size([18])"
      ]
     },
     "execution_count": null,
     "metadata": {},
     "output_type": "execute_result"
    }
   ],
   "source": [
    "#|hide\n",
    "a.shape"
   ]
  },
  {
   "cell_type": "code",
   "execution_count": null,
   "id": "10f5d548",
   "metadata": {},
   "outputs": [
    {
     "data": {
      "text/plain": [
       "tensor([[ 0,  1,  2,  3,  4,  5,  6,  7,  8],\n",
       "        [ 9, 10, 11, 12, 13, 14, 15, 16, 17]])"
      ]
     },
     "execution_count": null,
     "metadata": {},
     "output_type": "execute_result"
    }
   ],
   "source": [
    "#|hide\n",
    "# .view is extremely efficient\n",
    "a.view(2,9)"
   ]
  },
  {
   "cell_type": "code",
   "execution_count": null,
   "id": "5c5c9fb5",
   "metadata": {},
   "outputs": [
    {
     "data": {
      "text/plain": [
       "tensor([[[ 0,  1,  2],\n",
       "         [ 3,  4,  5],\n",
       "         [ 6,  7,  8]],\n",
       "\n",
       "        [[ 9, 10, 11],\n",
       "         [12, 13, 14],\n",
       "         [15, 16, 17]]])"
      ]
     },
     "execution_count": null,
     "metadata": {},
     "output_type": "execute_result"
    }
   ],
   "source": [
    "#|hide\n",
    "a.view(2,3,3)"
   ]
  },
  {
   "cell_type": "code",
   "execution_count": null,
   "id": "b7f9538d",
   "metadata": {},
   "outputs": [
    {
     "data": {
      "text/plain": [
       " 0\n",
       " 1\n",
       " 2\n",
       " 3\n",
       " 4\n",
       " 5\n",
       " 6\n",
       " 7\n",
       " 8\n",
       " 9\n",
       " 10\n",
       " 11\n",
       " 12\n",
       " 13\n",
       " 14\n",
       " 15\n",
       " 16\n",
       " 17\n",
       "[torch.storage.TypedStorage(dtype=torch.int64, device=cpu) of size 18]"
      ]
     },
     "execution_count": null,
     "metadata": {},
     "output_type": "execute_result"
    }
   ],
   "source": [
    "#|hide\n",
    "a.storage()"
   ]
  },
  {
   "cell_type": "code",
   "execution_count": null,
   "id": "9d4d6405",
   "metadata": {},
   "outputs": [
    {
     "data": {
      "text/plain": [
       "tensor([[True, True, True, True, True, True],\n",
       "        [True, True, True, True, True, True],\n",
       "        [True, True, True, True, True, True],\n",
       "        [True, True, True, True, True, True],\n",
       "        [True, True, True, True, True, True],\n",
       "        [True, True, True, True, True, True],\n",
       "        [True, True, True, True, True, True],\n",
       "        [True, True, True, True, True, True],\n",
       "        [True, True, True, True, True, True],\n",
       "        [True, True, True, True, True, True],\n",
       "        [True, True, True, True, True, True],\n",
       "        [True, True, True, True, True, True],\n",
       "        [True, True, True, True, True, True],\n",
       "        [True, True, True, True, True, True],\n",
       "        [True, True, True, True, True, True],\n",
       "        [True, True, True, True, True, True],\n",
       "        [True, True, True, True, True, True],\n",
       "        [True, True, True, True, True, True],\n",
       "        [True, True, True, True, True, True],\n",
       "        [True, True, True, True, True, True],\n",
       "        [True, True, True, True, True, True],\n",
       "        [True, True, True, True, True, True],\n",
       "        [True, True, True, True, True, True],\n",
       "        [True, True, True, True, True, True],\n",
       "        [True, True, True, True, True, True],\n",
       "        [True, True, True, True, True, True],\n",
       "        [True, True, True, True, True, True],\n",
       "        [True, True, True, True, True, True],\n",
       "        [True, True, True, True, True, True],\n",
       "        [True, True, True, True, True, True],\n",
       "        [True, True, True, True, True, True],\n",
       "        [True, True, True, True, True, True]])"
      ]
     },
     "execution_count": null,
     "metadata": {},
     "output_type": "execute_result"
    }
   ],
   "source": [
    "#|hide\n",
    "emb.view((32,6)) == torch.cat(torch.unbind(emb,dim=1), dim=1)"
   ]
  },
  {
   "cell_type": "code",
   "execution_count": null,
   "id": "5d7983a3",
   "metadata": {},
   "outputs": [
    {
     "data": {
      "text/plain": [
       "tensor([[ 0.3475,  0.2801, -0.6499,  ..., -0.1789,  0.9921, -0.8696],\n",
       "        [ 0.8372,  0.9159, -0.9364,  ..., -0.6619,  0.9975, -0.6570],\n",
       "        [-0.0055, -0.8256, -0.9150,  ...,  0.7118,  0.9940, -0.9966],\n",
       "        ...,\n",
       "        [ 0.6617, -0.4673, -0.7053,  ..., -0.5412,  0.9992, -0.9850],\n",
       "        [ 0.3836,  0.1051, -0.9998,  ...,  0.9574,  0.9974, -0.9537],\n",
       "        [ 0.9885,  0.9891, -0.9582,  ...,  0.0282,  0.8241, -0.9830]])"
      ]
     },
     "execution_count": null,
     "metadata": {},
     "output_type": "execute_result"
    }
   ],
   "source": [
    "#|hide \n",
    "h = torch.tanh(emb.view((-1,6)) @ W1 + b1)\n",
    "h"
   ]
  },
  {
   "cell_type": "code",
   "execution_count": null,
   "id": "feb2a7dc",
   "metadata": {},
   "outputs": [
    {
     "data": {
      "text/plain": [
       "torch.Size([32, 100])"
      ]
     },
     "execution_count": null,
     "metadata": {},
     "output_type": "execute_result"
    }
   ],
   "source": [
    "#|hide\n",
    "h.shape"
   ]
  },
  {
   "cell_type": "markdown",
   "id": "16ca88a8",
   "metadata": {},
   "source": [
    "#|hide\n",
    "03/27/23 Stop at 28:33 / 1:15:39"
   ]
  },
  {
   "cell_type": "code",
   "execution_count": null,
   "id": "705bca9b",
   "metadata": {},
   "outputs": [],
   "source": [
    "W2 = torch.randn((100,27)) # 27 neurons each taking 100 inputs\n",
    "b2 = torch.randn(27) # the biases for these neurons"
   ]
  },
  {
   "cell_type": "code",
   "execution_count": null,
   "id": "dfa401cf",
   "metadata": {},
   "outputs": [],
   "source": [
    "logits = h @ W2 + b2"
   ]
  },
  {
   "cell_type": "code",
   "execution_count": null,
   "id": "8b0a0513",
   "metadata": {},
   "outputs": [
    {
     "data": {
      "text/plain": [
       "torch.Size([32, 27])"
      ]
     },
     "execution_count": null,
     "metadata": {},
     "output_type": "execute_result"
    }
   ],
   "source": [
    "#|hide\n",
    "logits.shape"
   ]
  },
  {
   "cell_type": "code",
   "execution_count": null,
   "id": "817a7713",
   "metadata": {},
   "outputs": [
    {
     "data": {
      "text/plain": [
       "tensor([[-1.5712e+00,  6.4775e+00,  2.4227e+00, -6.1163e+00, -9.6750e-01,\n",
       "         -3.7930e+00,  3.0395e+00, -4.9640e-02, -4.6716e+00,  7.2450e+00,\n",
       "          4.3544e+00,  8.6875e+00,  1.1845e+01, -7.6275e+00,  9.6153e+00,\n",
       "          9.5495e-01,  6.8542e+00,  5.7101e+00, -5.0930e+00, -5.1109e+00,\n",
       "         -6.6592e+00,  1.5107e+00, -2.7422e+00, -1.0639e+01,  1.1445e+01,\n",
       "          6.0562e+00, -7.9084e+00],\n",
       "        [-1.1414e+01, -5.2216e+00,  1.4604e+01, -2.9679e+00, -3.2249e+00,\n",
       "          5.2879e+00,  1.0380e+00,  3.0865e+00, -2.1076e+00, -1.1681e+00,\n",
       "          3.7193e+00,  8.6231e+00,  1.4643e+01, -7.5952e+00,  4.4017e+00,\n",
       "          2.7152e+00,  4.0825e+00,  1.9799e-01, -5.1976e+00, -1.1109e+01,\n",
       "         -2.2308e+00,  1.4080e+01,  4.4385e-01, -1.1411e+01,  1.4374e+01,\n",
       "          4.7474e+00,  1.6334e+00],\n",
       "        [ 2.7240e+00,  2.2875e+00,  2.0797e+00, -1.4459e+00,  1.9813e+00,\n",
       "         -1.2591e+00,  1.7075e+00,  8.4354e+00,  6.0224e-01,  6.6338e+00,\n",
       "         -7.4939e-01,  6.4123e+00,  8.8422e-01, -8.3480e+00,  2.6986e+00,\n",
       "         -4.8461e+00, -2.3606e+00,  3.8973e+00, -5.1208e+00, -6.9224e+00,\n",
       "         -5.1280e+00,  2.9414e+00, -1.2090e+00, -5.2098e+00,  1.2319e+01,\n",
       "          7.9001e+00, -1.0687e+01],\n",
       "        [ 2.6909e+00,  3.4520e-01, -4.3895e+00, -1.1090e+01, -5.3512e-01,\n",
       "         -5.1047e+00, -1.3574e+01,  3.6265e+00,  3.1571e+00,  8.1377e+00,\n",
       "          1.3232e+00,  1.0132e+01,  9.7991e+00, -8.5233e+00,  6.9173e+00,\n",
       "         -3.8589e+00,  8.9302e+00, -9.4706e-01, -4.7240e-01, -9.4254e+00,\n",
       "         -7.4909e+00,  1.2862e+01, -1.1108e+00, -5.1111e+00,  9.8631e+00,\n",
       "         -3.1252e+00, -1.3291e+01],\n",
       "        [-8.1137e+00, -1.2994e+01,  1.6356e+01, -4.4418e-01, -3.4179e+00,\n",
       "          5.8358e+00, -2.9822e+00,  1.0996e+00,  4.3502e+00, -1.8565e+00,\n",
       "          3.0909e+00,  6.3928e+00,  9.9394e+00, -7.4839e+00,  1.8743e+00,\n",
       "          5.5036e+00, -2.8334e+00, -7.7502e+00, -1.0118e+01, -1.3051e+01,\n",
       "         -2.6067e+00,  1.7873e+01, -5.2643e+00, -8.9650e+00,  1.5337e+01,\n",
       "          3.6541e-01, -1.2849e+00],\n",
       "        [-1.5712e+00,  6.4775e+00,  2.4227e+00, -6.1163e+00, -9.6750e-01,\n",
       "         -3.7930e+00,  3.0395e+00, -4.9640e-02, -4.6716e+00,  7.2450e+00,\n",
       "          4.3544e+00,  8.6875e+00,  1.1845e+01, -7.6275e+00,  9.6153e+00,\n",
       "          9.5495e-01,  6.8542e+00,  5.7101e+00, -5.0930e+00, -5.1109e+00,\n",
       "         -6.6592e+00,  1.5107e+00, -2.7422e+00, -1.0639e+01,  1.1445e+01,\n",
       "          6.0562e+00, -7.9084e+00],\n",
       "        [ 2.7781e+00,  1.5772e+01, -9.5033e+00, -4.3731e+00,  1.4002e+00,\n",
       "         -1.2261e+01,  2.8755e+00,  4.7682e-01, -5.2609e+00,  1.1189e+01,\n",
       "          2.7156e+00,  2.8323e+00,  5.3391e+00, -2.2407e+00,  1.4356e+01,\n",
       "         -4.1353e+00,  9.5672e+00,  1.1996e+01, -5.7497e-01,  3.5758e+00,\n",
       "         -1.0854e+01, -1.0274e+01, -2.1601e+00, -4.4716e+00,  2.9408e-03,\n",
       "          8.2284e+00, -1.1229e+01],\n",
       "        [-8.3011e+00,  7.8434e+00,  5.4331e-01, -1.1475e+01, -4.0334e+00,\n",
       "         -2.9738e-01,  1.0030e+01, -5.3422e+00,  1.8868e+00,  2.1619e-01,\n",
       "          5.4946e+00,  9.7572e+00,  1.7324e+01,  2.3993e+00,  7.8914e+00,\n",
       "          4.8748e+00,  1.1404e+01,  4.3308e+00,  2.1798e-02, -6.5874e+00,\n",
       "          1.8951e+00,  8.1858e-01, -4.0129e+00, -1.3114e+01,  5.2870e+00,\n",
       "          1.3965e+00,  8.3496e+00],\n",
       "        [-3.2789e+00,  7.0680e+00,  1.7777e+01,  1.4818e+01, -1.0853e+01,\n",
       "          5.9951e+00,  8.7378e+00, -3.9229e+00, -1.1113e+01,  5.8286e+00,\n",
       "          4.1336e+00,  2.4581e+00,  1.2518e+00, -2.5907e+00,  3.9162e+00,\n",
       "          1.1268e+01, -1.7150e+00,  1.2360e+00, -1.9621e+01, -3.3848e+00,\n",
       "         -2.3710e-01, -7.0385e-01, -8.7807e+00, -1.1484e+01,  7.7609e+00,\n",
       "          5.1029e+00,  5.2459e-01],\n",
       "        [ 2.3538e+00,  1.6822e+01, -6.6138e+00, -3.9050e+00,  1.6447e+00,\n",
       "         -1.5868e+01,  3.6770e-02, -9.8547e+00, -3.9623e+00,  8.1969e+00,\n",
       "          2.4445e+00,  1.1520e+01,  1.2564e+01,  1.8001e+00,  1.4745e+01,\n",
       "         -2.0110e+00,  1.0222e+01,  7.6679e+00, -1.0479e+01,  5.4202e+00,\n",
       "         -3.9218e+00, -1.6291e+00, -1.0842e+01, -4.2773e+00, -9.5407e-01,\n",
       "          9.2356e+00, -4.2587e+00],\n",
       "        [-5.5999e+00,  4.6339e-02,  1.3968e+01,  4.2199e-01, -1.3464e+01,\n",
       "          3.0614e+00,  4.3031e+00, -3.7535e+00, -4.4443e+00,  5.5488e+00,\n",
       "          3.4952e+00, -5.4577e+00,  8.8727e+00, -4.1454e+00,  1.1061e+01,\n",
       "          1.0257e+01,  5.6655e+00, -3.4881e+00, -1.2619e+01, -1.5718e+00,\n",
       "         -6.2952e+00,  7.7270e+00, -7.6547e-01, -1.2742e+01,  8.5068e+00,\n",
       "         -2.6579e+00,  1.0781e+00],\n",
       "        [-1.3057e+01, -9.1046e-01,  9.8233e+00,  4.3871e+00, -4.4727e+00,\n",
       "          6.5640e-01,  1.2535e+01,  2.3962e+00, -1.2385e+01,  3.0250e+00,\n",
       "          1.0686e+01,  9.9788e+00,  1.0376e+01, -1.9435e+00,  8.6010e+00,\n",
       "          7.2442e+00,  5.4738e+00,  4.8524e+00, -1.3857e+01, -2.4433e+00,\n",
       "          7.0141e+00,  1.0372e+01,  5.8494e-01, -9.3842e+00,  1.2519e+01,\n",
       "         -9.1563e-01,  9.4245e+00],\n",
       "        [-1.5712e+00,  6.4775e+00,  2.4227e+00, -6.1163e+00, -9.6750e-01,\n",
       "         -3.7930e+00,  3.0395e+00, -4.9640e-02, -4.6716e+00,  7.2450e+00,\n",
       "          4.3544e+00,  8.6875e+00,  1.1845e+01, -7.6275e+00,  9.6153e+00,\n",
       "          9.5495e-01,  6.8542e+00,  5.7101e+00, -5.0930e+00, -5.1109e+00,\n",
       "         -6.6592e+00,  1.5107e+00, -2.7422e+00, -1.0639e+01,  1.1445e+01,\n",
       "          6.0562e+00, -7.9084e+00],\n",
       "        [-1.0373e+01, -9.8450e+00,  1.9715e+01,  1.2702e+00, -4.4900e+00,\n",
       "          6.7019e+00,  1.7119e+00, -4.8967e-01,  1.9153e+00, -2.7928e+00,\n",
       "          2.4433e+00,  4.7777e+00,  1.1808e+01, -9.5322e+00,  3.8152e+00,\n",
       "          7.5374e+00, -1.1621e+00, -5.3773e+00, -1.3271e+01, -9.9735e+00,\n",
       "         -2.5263e+00,  1.4034e+01, -4.1221e+00, -1.1579e+01,  1.3921e+01,\n",
       "          2.0673e+00,  1.0811e+00],\n",
       "        [ 9.8702e+00,  1.5530e+01, -7.1097e+00,  3.2101e+00,  5.0395e+00,\n",
       "         -1.1800e+01,  3.1334e+00,  7.9172e-03, -6.7110e+00,  9.4794e+00,\n",
       "         -3.6846e-01,  1.3742e+00, -3.0685e+00, -4.8999e+00,  9.8286e+00,\n",
       "         -7.6280e+00,  3.1451e-01,  6.6989e+00, -4.5809e+00,  2.9515e+00,\n",
       "         -3.3153e+00, -8.9012e+00, -5.9478e+00, -6.2784e+00,  5.0299e+00,\n",
       "          1.1671e+01, -1.4521e+01],\n",
       "        [-6.8192e+00, -5.1056e+00,  6.3554e+00, -9.9915e+00, -4.3567e+00,\n",
       "          1.8480e+00, -5.9830e+00, -6.7096e+00,  9.0971e+00, -5.9679e+00,\n",
       "         -1.4075e-01,  4.6723e+00,  1.7833e+01, -1.6069e+00,  1.3336e+01,\n",
       "          5.7863e+00,  1.0103e+01, -5.7125e+00, -1.6441e+00, -1.0888e+01,\n",
       "         -5.8458e+00,  2.0883e+01, -7.8556e-01, -5.1193e-01,  7.8525e+00,\n",
       "         -1.0348e+01, -1.4689e+00],\n",
       "        [-1.5712e+00,  6.4775e+00,  2.4227e+00, -6.1163e+00, -9.6750e-01,\n",
       "         -3.7930e+00,  3.0395e+00, -4.9640e-02, -4.6716e+00,  7.2450e+00,\n",
       "          4.3544e+00,  8.6875e+00,  1.1845e+01, -7.6275e+00,  9.6153e+00,\n",
       "          9.5495e-01,  6.8542e+00,  5.7101e+00, -5.0930e+00, -5.1109e+00,\n",
       "         -6.6592e+00,  1.5107e+00, -2.7422e+00, -1.0639e+01,  1.1445e+01,\n",
       "          6.0562e+00, -7.9084e+00],\n",
       "        [-2.7944e+00,  2.4597e+00,  1.8484e+01,  5.4412e+00, -1.0345e+01,\n",
       "          4.1629e+00,  1.5971e+00, -1.4642e+00, -7.0187e+00,  6.2320e+00,\n",
       "          8.1636e+00,  2.9863e+00,  7.9548e+00, -9.4059e+00,  9.7565e+00,\n",
       "          9.3063e+00,  7.1022e-01, -4.1357e+00, -1.9266e+01, -6.9632e+00,\n",
       "         -4.0927e+00,  6.2704e+00, -8.9874e+00, -1.0132e+01,  1.1037e+01,\n",
       "         -1.6904e-01, -7.1610e+00],\n",
       "        [ 4.1152e+00,  1.6659e+01, -1.0580e+01, -2.8056e+00,  3.0078e+00,\n",
       "         -1.5674e+01,  1.6634e+00, -6.5095e+00, -8.7387e-01,  8.8331e+00,\n",
       "          6.1359e-02,  8.9786e+00,  1.0379e+01,  3.2012e+00,  1.5875e+01,\n",
       "         -5.2932e+00,  1.2630e+01,  9.8720e+00, -3.9225e+00,  6.5532e+00,\n",
       "         -2.6431e+00, -8.3695e+00, -9.0747e+00, -3.3724e+00, -3.3914e+00,\n",
       "          8.6024e+00, -3.9129e+00],\n",
       "        [-5.9882e+00, -7.9256e+00,  1.7311e+01, -2.7060e+00, -8.6274e+00,\n",
       "          7.7673e+00,  9.6774e-01, -3.2389e+00,  7.4955e+00, -3.9633e+00,\n",
       "         -3.5289e+00, -1.3769e+00,  1.4580e+01, -1.7096e+00,  5.8002e+00,\n",
       "          6.6892e+00,  7.2678e+00, -1.0491e+00, -5.1896e+00, -1.1165e+01,\n",
       "         -5.4481e+00,  1.2884e+01, -6.9343e-01, -1.4964e+01,  1.0520e+01,\n",
       "         -5.9684e-01,  1.9344e+00],\n",
       "        [-6.3779e+00,  7.6627e+00,  1.0554e+01,  1.2822e+01, -7.1233e+00,\n",
       "          5.5820e+00,  1.3102e+01, -2.2062e+00, -1.2082e+01,  7.2374e+00,\n",
       "          4.7888e+00,  4.5431e+00,  4.1381e+00, -5.4054e-01,  3.2053e+00,\n",
       "          1.0570e+00, -3.6033e+00,  8.3159e+00, -9.6000e+00, -5.3868e-01,\n",
       "         -5.0949e+00, -7.6297e-01, -5.9547e+00, -4.4397e+00,  1.4877e+01,\n",
       "          9.6608e+00,  2.2357e+00],\n",
       "        [ 2.5070e+00, -6.7642e+00, -3.4144e+00, -7.4065e+00, -5.6143e-01,\n",
       "         -3.6607e+00, -1.2330e+01,  6.8767e+00,  6.2150e+00,  7.6221e+00,\n",
       "         -5.2523e-01,  9.3214e+00,  9.4947e+00, -1.1244e+01,  5.8591e+00,\n",
       "         -2.2351e+00,  1.0364e+01, -2.7705e+00, -7.6708e+00, -7.3663e+00,\n",
       "         -1.8132e+00,  2.2463e+01,  1.9395e+00, -4.9492e+00,  6.8813e+00,\n",
       "         -4.7338e+00, -1.0243e+01],\n",
       "        [ 6.2369e+00, -4.2954e-01, -3.8479e+00, -6.9674e+00, -2.9983e+00,\n",
       "         -3.2102e+00, -5.7770e+00,  7.9880e+00,  7.7360e+00,  7.7267e+00,\n",
       "         -6.4441e+00,  3.4970e+00, -1.0163e+00, -1.2489e+01,  4.1478e+00,\n",
       "         -8.1538e+00,  1.9925e+00,  7.3668e+00, -5.0776e+00, -1.1681e+01,\n",
       "         -2.8693e+00,  4.9756e+00,  2.8869e+00, -7.1886e+00,  7.3547e+00,\n",
       "          6.1679e+00, -1.7327e+01],\n",
       "        [ 2.0446e+00,  2.1432e+00, -6.3501e+00, -1.1753e+01, -2.8364e-01,\n",
       "         -6.4276e+00, -1.2720e+01,  3.4048e+00,  2.4393e+00,  7.7354e+00,\n",
       "          1.4673e+00,  1.0444e+01,  1.0206e+01, -6.7567e+00,  7.4967e+00,\n",
       "         -5.4738e+00,  1.0771e+01,  7.9474e-01,  3.6025e+00, -9.1816e+00,\n",
       "         -8.1699e+00,  1.1093e+01,  1.7845e-01, -4.4326e+00,  9.5199e+00,\n",
       "         -3.9068e+00, -1.1582e+01],\n",
       "        [-8.7417e+00, -1.3035e+01,  1.8533e+01, -3.8315e-01, -4.2558e+00,\n",
       "          6.3288e+00,  1.4208e-01,  4.6246e-01,  3.9653e+00, -2.0584e+00,\n",
       "          2.6605e+00,  5.8512e+00,  9.7596e+00, -6.0193e+00,  7.6110e-01,\n",
       "          7.3024e+00, -4.3665e+00, -9.6208e+00, -9.2324e+00, -1.3271e+01,\n",
       "         -2.0581e+00,  1.5783e+01, -6.8011e+00, -9.4961e+00,  1.4576e+01,\n",
       "          1.8220e+00,  1.0937e+00],\n",
       "        [-1.5712e+00,  6.4775e+00,  2.4227e+00, -6.1163e+00, -9.6750e-01,\n",
       "         -3.7930e+00,  3.0395e+00, -4.9640e-02, -4.6716e+00,  7.2450e+00,\n",
       "          4.3544e+00,  8.6875e+00,  1.1845e+01, -7.6275e+00,  9.6153e+00,\n",
       "          9.5495e-01,  6.8542e+00,  5.7101e+00, -5.0930e+00, -5.1109e+00,\n",
       "         -6.6592e+00,  1.5107e+00, -2.7422e+00, -1.0639e+01,  1.1445e+01,\n",
       "          6.0562e+00, -7.9084e+00],\n",
       "        [ 2.3566e+00,  1.3321e+01, -1.0673e+01, -5.0367e+00,  2.1816e+00,\n",
       "         -1.3539e+01,  2.3319e+00,  1.6204e+00, -3.1216e+00,  1.1419e+01,\n",
       "          2.5245e+00,  4.2840e+00,  5.4702e+00, -2.3846e+00,  1.3813e+01,\n",
       "         -7.0136e+00,  9.7795e+00,  1.3572e+01,  1.5561e+00,  5.8909e-01,\n",
       "         -1.1135e+01, -1.1477e+01, -2.6126e+00, -4.1688e+00,  4.3893e-01,\n",
       "          7.8102e+00, -1.0677e+01],\n",
       "        [-5.0249e+00,  1.3887e+01, -1.0441e+01, -5.1595e+00,  4.5026e+00,\n",
       "         -1.1167e+01,  1.6500e+00, -4.5957e+00, -6.6368e+00,  6.7433e+00,\n",
       "          1.7717e+00,  3.6393e+00,  1.6428e+01,  2.3261e+00,  1.5833e+01,\n",
       "         -9.4666e-01,  1.6367e+01,  9.7090e+00,  2.9183e-01, -1.2338e+00,\n",
       "         -9.6955e+00, -9.5317e+00, -6.9675e+00, -5.4574e+00, -5.5669e+00,\n",
       "          5.4365e+00, -8.7264e-01],\n",
       "        [-1.2487e+01,  3.5623e+00,  1.5455e+01, -3.2870e+00, -3.4289e+00,\n",
       "          4.7080e-01,  2.0155e+01,  1.7393e+00, -3.4120e+00, -3.2637e+00,\n",
       "          3.6447e+00,  8.1095e+00,  1.5873e+01,  5.8974e+00,  3.0125e+00,\n",
       "          6.9951e+00,  4.8949e+00, -4.6465e-01, -1.8188e+00,  2.4302e-01,\n",
       "          5.3591e+00, -1.5366e+00, -3.2626e+00, -1.3932e+01,  3.1506e+00,\n",
       "          9.0332e+00,  1.6305e+01],\n",
       "        [-1.1939e+01, -1.9967e+00,  5.0661e+00,  4.3060e-01, -3.7668e+00,\n",
       "          1.0969e+01,  1.4923e+01,  1.3497e+01, -4.1815e+00, -1.2281e+00,\n",
       "          4.3371e+00,  1.0300e+01, -1.9726e+00,  4.8793e+00, -1.3060e+00,\n",
       "          4.8113e-01,  6.8805e+00,  9.2320e+00,  7.4918e+00, -5.2851e+00,\n",
       "         -3.6287e+00,  6.0335e+00,  1.5578e+01,  1.8301e+00,  1.3133e+01,\n",
       "          1.7611e+00,  1.1575e+01],\n",
       "        [-6.2679e+00, -4.6154e+00,  1.2012e+01,  9.7023e-01, -7.1178e+00,\n",
       "          1.4591e+01, -1.1914e+01,  5.3174e+00, -1.4772e+00,  4.9499e+00,\n",
       "          5.5290e+00, -3.0455e+00,  1.8301e-01, -4.7488e+00, -2.1558e-01,\n",
       "          1.6506e+00, -3.8448e-01, -9.4194e-01, -1.2552e+01, -1.2578e+01,\n",
       "         -4.8842e+00,  1.1857e+01,  3.1211e+00, -7.6543e+00,  1.2344e+01,\n",
       "         -8.5049e+00, -1.7395e+01],\n",
       "        [ 9.0097e+00, -3.0882e+00,  1.5451e+00, -5.3382e-01,  6.4750e+00,\n",
       "         -3.0595e+00,  2.2897e+00,  2.8895e+00,  2.9219e+00, -1.7165e+00,\n",
       "          4.9315e+00,  9.3390e+00,  1.6766e+01,  7.7421e+00,  6.7818e+00,\n",
       "         -2.8861e+00,  8.4345e+00, -1.4097e+01, -1.2662e+01, -5.5417e+00,\n",
       "          7.2831e-01,  1.8148e+01, -1.5886e+01, -3.4941e-01,  2.0409e+00,\n",
       "         -4.2794e+00, -6.5155e+00]])"
      ]
     },
     "execution_count": null,
     "metadata": {},
     "output_type": "execute_result"
    }
   ],
   "source": [
    "#hide\n",
    "logits"
   ]
  },
  {
   "cell_type": "code",
   "execution_count": null,
   "id": "25272ca1",
   "metadata": {},
   "outputs": [],
   "source": [
    "counts = logits.exp()"
   ]
  },
  {
   "cell_type": "code",
   "execution_count": null,
   "id": "d7309176",
   "metadata": {},
   "outputs": [],
   "source": [
    "prob = counts/counts.sum(dim=1,keepdim=True)"
   ]
  },
  {
   "cell_type": "code",
   "execution_count": null,
   "id": "b653edbc",
   "metadata": {},
   "outputs": [
    {
     "data": {
      "text/plain": [
       "torch.Size([32, 27])"
      ]
     },
     "execution_count": null,
     "metadata": {},
     "output_type": "execute_result"
    }
   ],
   "source": [
    "#|hide\n",
    "prob.shape"
   ]
  },
  {
   "cell_type": "code",
   "execution_count": null,
   "id": "2da5999b",
   "metadata": {},
   "outputs": [
    {
     "data": {
      "text/plain": [
       "tensor([1.0000, 1.0000, 1.0000, 1.0000, 1.0000, 1.0000, 1.0000, 1.0000, 1.0000,\n",
       "        1.0000, 1.0000, 1.0000, 1.0000, 1.0000, 1.0000, 1.0000, 1.0000, 1.0000,\n",
       "        1.0000, 1.0000, 1.0000, 1.0000, 1.0000, 1.0000, 1.0000, 1.0000, 1.0000,\n",
       "        1.0000, 1.0000, 1.0000, 1.0000, 1.0000])"
      ]
     },
     "execution_count": null,
     "metadata": {},
     "output_type": "execute_result"
    }
   ],
   "source": [
    "#|hide\n",
    "prob.sum(dim=1)"
   ]
  },
  {
   "cell_type": "code",
   "execution_count": null,
   "id": "df84e631",
   "metadata": {},
   "outputs": [
    {
     "data": {
      "text/plain": [
       "tensor([ 0,  1,  2,  3,  4,  5,  6,  7,  8,  9, 10, 11, 12, 13, 14, 15, 16, 17,\n",
       "        18, 19, 20, 21, 22, 23, 24, 25, 26, 27, 28, 29, 30, 31])"
      ]
     },
     "execution_count": null,
     "metadata": {},
     "output_type": "execute_result"
    }
   ],
   "source": [
    "#|hide\n",
    "torch.arange(32)"
   ]
  },
  {
   "cell_type": "code",
   "execution_count": null,
   "id": "04e2fee6",
   "metadata": {},
   "outputs": [
    {
     "data": {
      "text/plain": [
       "tensor([ 5, 13, 13,  1,  0, 15, 12,  9, 22,  9,  1,  0,  1, 22,  1,  0,  9, 19,\n",
       "         1,  2,  5, 12, 12,  1,  0, 19, 15, 16,  8,  9,  1,  0])"
      ]
     },
     "execution_count": null,
     "metadata": {},
     "output_type": "execute_result"
    }
   ],
   "source": [
    "#|hide\n",
    "Y"
   ]
  },
  {
   "cell_type": "code",
   "execution_count": null,
   "id": "c0fc6502",
   "metadata": {},
   "outputs": [
    {
     "data": {
      "text/plain": [
       "tensor(15.1157)"
      ]
     },
     "execution_count": null,
     "metadata": {},
     "output_type": "execute_result"
    }
   ],
   "source": [
    "loss = -prob[torch.arange(32),Y].log().mean()\n",
    "loss"
   ]
  },
  {
   "cell_type": "code",
   "execution_count": null,
   "id": "b2715e86",
   "metadata": {},
   "outputs": [],
   "source": [
    "#|hide\n",
    "g = torch.Generator().manual_seed(2147483647)\n",
    "C = torch.randn((27,2), generator=g)\n",
    "\n",
    "W1 = torch.randn((6,100), generator=g) # 100 neurons each taking 6 inputs\n",
    "b1 = torch.randn((100), generator=g) # the bias for each of the 100 neurons\n",
    "\n",
    "W2 = torch.randn((100,27), generator=g) # 27 neurons each taking 100 inputs\n",
    "b2 = torch.randn(27, generator=g) # the biases for these neurons\n",
    "\n",
    "parameters = [C, W1, b1, W2, b2]"
   ]
  },
  {
   "cell_type": "code",
   "execution_count": null,
   "id": "69c90adf",
   "metadata": {},
   "outputs": [
    {
     "data": {
      "text/plain": [
       "3481"
      ]
     },
     "execution_count": null,
     "metadata": {},
     "output_type": "execute_result"
    }
   ],
   "source": [
    "#|hide\n",
    "sum([p.nelement() for p in parameters])"
   ]
  },
  {
   "cell_type": "code",
   "execution_count": null,
   "id": "84d8edfa",
   "metadata": {},
   "outputs": [
    {
     "data": {
      "text/plain": [
       "tensor(17.7697)"
      ]
     },
     "execution_count": null,
     "metadata": {},
     "output_type": "execute_result"
    }
   ],
   "source": [
    "#|hide\n",
    "emb = C[X] #(32,3,2)\n",
    "h = torch.tanh(emb.view((-1,6)) @ W1 + b1)\n",
    "logits = h @ W2 + b2\n",
    "counts = logits.exp()\n",
    "prob = counts/counts.sum(1,keepdims=True)\n",
    "loss = -prob[torch.arange(32),Y].log().mean()\n",
    "loss"
   ]
  },
  {
   "cell_type": "code",
   "execution_count": null,
   "id": "0c44a003",
   "metadata": {},
   "outputs": [
    {
     "data": {
      "text/plain": [
       "tensor(17.7697)"
      ]
     },
     "execution_count": null,
     "metadata": {},
     "output_type": "execute_result"
    }
   ],
   "source": [
    "#|hide\n",
    "# This is to be preferred as it is\n",
    "# numerically more well behaved (uses logsumexp) \n",
    "# and\n",
    "# the forward and backward passes are more efficient\n",
    "# (uses fused kernels)\n",
    "F.cross_entropy(logits, Y)"
   ]
  },
  {
   "cell_type": "code",
   "execution_count": null,
   "id": "b29b0624",
   "metadata": {},
   "outputs": [
    {
     "data": {
      "text/plain": [
       "tensor([3.7835e-44, 4.9787e-02, 1.0000e+00,        inf])"
      ]
     },
     "execution_count": null,
     "metadata": {},
     "output_type": "execute_result"
    }
   ],
   "source": [
    "#|hide\n",
    "# large positive logits will get us into\n",
    "# trouble\n",
    "logits = torch.tensor([-100,-3,0,100])\n",
    "counts = logits.exp()\n",
    "counts"
   ]
  },
  {
   "cell_type": "code",
   "execution_count": null,
   "id": "dfacb562",
   "metadata": {},
   "outputs": [
    {
     "data": {
      "text/plain": [
       "tensor([0., 0., 0., nan])"
      ]
     },
     "execution_count": null,
     "metadata": {},
     "output_type": "execute_result"
    }
   ],
   "source": [
    "#hide\n",
    "probs = counts/counts.sum()\n",
    "probs"
   ]
  },
  {
   "cell_type": "markdown",
   "id": "d421a7dd",
   "metadata": {},
   "source": [
    "#|hide\n",
    "\n",
    "Adding or subtracting a constant in these calculations\n",
    "don't change the result. Hence we can subtract the maximum\n",
    "of the logits and get an outcome that is numerically stable"
   ]
  },
  {
   "cell_type": "code",
   "execution_count": null,
   "id": "952b7007",
   "metadata": {},
   "outputs": [
    {
     "data": {
      "text/plain": [
       "tensor([0.0000e+00, 1.4013e-45, 3.7835e-44, 1.0000e+00])"
      ]
     },
     "execution_count": null,
     "metadata": {},
     "output_type": "execute_result"
    }
   ],
   "source": [
    "#|hide\n",
    "logits = torch.tensor([-100,-3,0,100])-100\n",
    "counts = logits.exp()\n",
    "probs = counts/counts.sum()\n",
    "probs"
   ]
  },
  {
   "cell_type": "markdown",
   "id": "160f0052",
   "metadata": {},
   "source": [
    "# Fit the entire dataset "
   ]
  },
  {
   "cell_type": "code",
   "execution_count": null,
   "id": "a4de2922",
   "metadata": {},
   "outputs": [],
   "source": [
    "block_size = 3 #characters to take as context before predicting the next\n",
    "\n",
    "X,Y=[],[]\n",
    "for w in words:\n",
    "#     print(w)\n",
    "    context = [0]*block_size\n",
    "    for ch in w + '.':\n",
    "        ix=stoi[ch]\n",
    "        X.append(context)\n",
    "        Y.append(ix)\n",
    "#         print(''.join(itos[i] for i in context))\n",
    "        context = context[1:] + [ix]\n",
    "        \n",
    "X = torch.tensor(X)\n",
    "Y = torch.tensor(Y)"
   ]
  },
  {
   "cell_type": "code",
   "execution_count": null,
   "id": "19c04b58",
   "metadata": {},
   "outputs": [
    {
     "data": {
      "text/plain": [
       "(torch.Size([228146, 3]), torch.Size([228146]))"
      ]
     },
     "execution_count": null,
     "metadata": {},
     "output_type": "execute_result"
    }
   ],
   "source": [
    "X.shape, Y.shape"
   ]
  },
  {
   "cell_type": "code",
   "execution_count": null,
   "id": "f6829450",
   "metadata": {},
   "outputs": [],
   "source": [
    "g = torch.Generator().manual_seed(2147483647)\n",
    "C = torch.randn((27,2), generator=g)\n",
    "\n",
    "W1 = torch.randn((6,100), generator=g) # 100 neurons each taking 6 inputs\n",
    "b1 = torch.randn((100), generator=g) # the bias for each of the 100 neurons\n",
    "\n",
    "W2 = torch.randn((100,27), generator=g) # 27 neurons each taking 100 inputs\n",
    "b2 = torch.randn(27, generator=g)\n",
    "\n",
    "parameters = [C, W1, b1, W2, b2]\n",
    "\n",
    "for p in parameters:\n",
    "    p.requires_grad = True"
   ]
  },
  {
   "cell_type": "code",
   "execution_count": null,
   "id": "28f2bacb",
   "metadata": {},
   "outputs": [
    {
     "data": {
      "text/plain": [
       "3481"
      ]
     },
     "execution_count": null,
     "metadata": {},
     "output_type": "execute_result"
    }
   ],
   "source": [
    "sum([p.nelement() for p in parameters])"
   ]
  },
  {
   "cell_type": "code",
   "execution_count": null,
   "id": "42e731ca",
   "metadata": {},
   "outputs": [
    {
     "data": {
      "text/plain": [
       "tensor([0, 1, 3, 1, 2, 1, 1, 4, 4, 0, 4, 2, 2, 3, 3, 0, 0, 3, 3, 4, 2, 1, 1, 4,\n",
       "        3, 3, 2, 4, 0, 0, 3, 4])"
      ]
     },
     "execution_count": null,
     "metadata": {},
     "output_type": "execute_result"
    }
   ],
   "source": [
    "#|hide\n",
    "torch.randint(0,5,(32,))"
   ]
  },
  {
   "cell_type": "code",
   "execution_count": null,
   "id": "9a5ad64c",
   "metadata": {},
   "outputs": [
    {
     "data": {
      "text/plain": [
       "tensor([1.0000e-03, 1.0093e-03, 1.0186e-03, 1.0280e-03, 1.0376e-03, 1.0472e-03,\n",
       "        1.0569e-03, 1.0667e-03, 1.0765e-03, 1.0865e-03, 1.0966e-03, 1.1067e-03,\n",
       "        1.1170e-03, 1.1273e-03, 1.1378e-03, 1.1483e-03, 1.1589e-03, 1.1697e-03,\n",
       "        1.1805e-03, 1.1915e-03, 1.2025e-03, 1.2136e-03, 1.2249e-03, 1.2362e-03,\n",
       "        1.2477e-03, 1.2592e-03, 1.2709e-03, 1.2826e-03, 1.2945e-03, 1.3065e-03,\n",
       "        1.3186e-03, 1.3308e-03, 1.3432e-03, 1.3556e-03, 1.3682e-03, 1.3808e-03,\n",
       "        1.3936e-03, 1.4065e-03, 1.4196e-03, 1.4327e-03, 1.4460e-03, 1.4594e-03,\n",
       "        1.4729e-03, 1.4865e-03, 1.5003e-03, 1.5142e-03, 1.5282e-03, 1.5424e-03,\n",
       "        1.5567e-03, 1.5711e-03, 1.5856e-03, 1.6003e-03, 1.6151e-03, 1.6301e-03,\n",
       "        1.6452e-03, 1.6604e-03, 1.6758e-03, 1.6913e-03, 1.7070e-03, 1.7228e-03,\n",
       "        1.7388e-03, 1.7549e-03, 1.7711e-03, 1.7875e-03, 1.8041e-03, 1.8208e-03,\n",
       "        1.8377e-03, 1.8547e-03, 1.8719e-03, 1.8892e-03, 1.9067e-03, 1.9244e-03,\n",
       "        1.9422e-03, 1.9602e-03, 1.9783e-03, 1.9966e-03, 2.0151e-03, 2.0338e-03,\n",
       "        2.0526e-03, 2.0717e-03, 2.0908e-03, 2.1102e-03, 2.1297e-03, 2.1495e-03,\n",
       "        2.1694e-03, 2.1895e-03, 2.2098e-03, 2.2302e-03, 2.2509e-03, 2.2717e-03,\n",
       "        2.2928e-03, 2.3140e-03, 2.3354e-03, 2.3571e-03, 2.3789e-03, 2.4009e-03,\n",
       "        2.4232e-03, 2.4456e-03, 2.4683e-03, 2.4911e-03, 2.5142e-03, 2.5375e-03,\n",
       "        2.5610e-03, 2.5847e-03, 2.6087e-03, 2.6328e-03, 2.6572e-03, 2.6818e-03,\n",
       "        2.7067e-03, 2.7317e-03, 2.7570e-03, 2.7826e-03, 2.8083e-03, 2.8343e-03,\n",
       "        2.8606e-03, 2.8871e-03, 2.9138e-03, 2.9408e-03, 2.9681e-03, 2.9955e-03,\n",
       "        3.0233e-03, 3.0513e-03, 3.0796e-03, 3.1081e-03, 3.1369e-03, 3.1659e-03,\n",
       "        3.1952e-03, 3.2248e-03, 3.2547e-03, 3.2849e-03, 3.3153e-03, 3.3460e-03,\n",
       "        3.3770e-03, 3.4083e-03, 3.4398e-03, 3.4717e-03, 3.5038e-03, 3.5363e-03,\n",
       "        3.5690e-03, 3.6021e-03, 3.6355e-03, 3.6691e-03, 3.7031e-03, 3.7374e-03,\n",
       "        3.7720e-03, 3.8070e-03, 3.8422e-03, 3.8778e-03, 3.9137e-03, 3.9500e-03,\n",
       "        3.9866e-03, 4.0235e-03, 4.0608e-03, 4.0984e-03, 4.1363e-03, 4.1747e-03,\n",
       "        4.2133e-03, 4.2523e-03, 4.2917e-03, 4.3315e-03, 4.3716e-03, 4.4121e-03,\n",
       "        4.4530e-03, 4.4942e-03, 4.5358e-03, 4.5778e-03, 4.6202e-03, 4.6630e-03,\n",
       "        4.7062e-03, 4.7498e-03, 4.7938e-03, 4.8382e-03, 4.8830e-03, 4.9283e-03,\n",
       "        4.9739e-03, 5.0200e-03, 5.0665e-03, 5.1134e-03, 5.1607e-03, 5.2085e-03,\n",
       "        5.2568e-03, 5.3055e-03, 5.3546e-03, 5.4042e-03, 5.4543e-03, 5.5048e-03,\n",
       "        5.5558e-03, 5.6072e-03, 5.6592e-03, 5.7116e-03, 5.7645e-03, 5.8179e-03,\n",
       "        5.8718e-03, 5.9262e-03, 5.9810e-03, 6.0364e-03, 6.0923e-03, 6.1488e-03,\n",
       "        6.2057e-03, 6.2632e-03, 6.3212e-03, 6.3798e-03, 6.4389e-03, 6.4985e-03,\n",
       "        6.5587e-03, 6.6194e-03, 6.6807e-03, 6.7426e-03, 6.8051e-03, 6.8681e-03,\n",
       "        6.9317e-03, 6.9959e-03, 7.0607e-03, 7.1261e-03, 7.1921e-03, 7.2587e-03,\n",
       "        7.3260e-03, 7.3938e-03, 7.4623e-03, 7.5314e-03, 7.6012e-03, 7.6716e-03,\n",
       "        7.7426e-03, 7.8143e-03, 7.8867e-03, 7.9598e-03, 8.0335e-03, 8.1079e-03,\n",
       "        8.1830e-03, 8.2588e-03, 8.3353e-03, 8.4125e-03, 8.4904e-03, 8.5691e-03,\n",
       "        8.6484e-03, 8.7285e-03, 8.8094e-03, 8.8910e-03, 8.9733e-03, 9.0564e-03,\n",
       "        9.1403e-03, 9.2250e-03, 9.3104e-03, 9.3966e-03, 9.4837e-03, 9.5715e-03,\n",
       "        9.6602e-03, 9.7496e-03, 9.8400e-03, 9.9311e-03, 1.0023e-02, 1.0116e-02,\n",
       "        1.0210e-02, 1.0304e-02, 1.0400e-02, 1.0496e-02, 1.0593e-02, 1.0691e-02,\n",
       "        1.0790e-02, 1.0890e-02, 1.0991e-02, 1.1093e-02, 1.1196e-02, 1.1299e-02,\n",
       "        1.1404e-02, 1.1510e-02, 1.1616e-02, 1.1724e-02, 1.1832e-02, 1.1942e-02,\n",
       "        1.2053e-02, 1.2164e-02, 1.2277e-02, 1.2391e-02, 1.2505e-02, 1.2621e-02,\n",
       "        1.2738e-02, 1.2856e-02, 1.2975e-02, 1.3095e-02, 1.3217e-02, 1.3339e-02,\n",
       "        1.3463e-02, 1.3587e-02, 1.3713e-02, 1.3840e-02, 1.3968e-02, 1.4098e-02,\n",
       "        1.4228e-02, 1.4360e-02, 1.4493e-02, 1.4627e-02, 1.4763e-02, 1.4900e-02,\n",
       "        1.5038e-02, 1.5177e-02, 1.5317e-02, 1.5459e-02, 1.5602e-02, 1.5747e-02,\n",
       "        1.5893e-02, 1.6040e-02, 1.6189e-02, 1.6339e-02, 1.6490e-02, 1.6643e-02,\n",
       "        1.6797e-02, 1.6952e-02, 1.7109e-02, 1.7268e-02, 1.7428e-02, 1.7589e-02,\n",
       "        1.7752e-02, 1.7917e-02, 1.8082e-02, 1.8250e-02, 1.8419e-02, 1.8590e-02,\n",
       "        1.8762e-02, 1.8936e-02, 1.9111e-02, 1.9288e-02, 1.9467e-02, 1.9647e-02,\n",
       "        1.9829e-02, 2.0012e-02, 2.0198e-02, 2.0385e-02, 2.0574e-02, 2.0764e-02,\n",
       "        2.0957e-02, 2.1151e-02, 2.1347e-02, 2.1544e-02, 2.1744e-02, 2.1945e-02,\n",
       "        2.2149e-02, 2.2354e-02, 2.2561e-02, 2.2770e-02, 2.2981e-02, 2.3193e-02,\n",
       "        2.3408e-02, 2.3625e-02, 2.3844e-02, 2.4065e-02, 2.4288e-02, 2.4513e-02,\n",
       "        2.4740e-02, 2.4969e-02, 2.5200e-02, 2.5433e-02, 2.5669e-02, 2.5907e-02,\n",
       "        2.6147e-02, 2.6389e-02, 2.6633e-02, 2.6880e-02, 2.7129e-02, 2.7380e-02,\n",
       "        2.7634e-02, 2.7890e-02, 2.8148e-02, 2.8409e-02, 2.8672e-02, 2.8938e-02,\n",
       "        2.9206e-02, 2.9476e-02, 2.9749e-02, 3.0025e-02, 3.0303e-02, 3.0583e-02,\n",
       "        3.0867e-02, 3.1153e-02, 3.1441e-02, 3.1732e-02, 3.2026e-02, 3.2323e-02,\n",
       "        3.2622e-02, 3.2924e-02, 3.3229e-02, 3.3537e-02, 3.3848e-02, 3.4161e-02,\n",
       "        3.4478e-02, 3.4797e-02, 3.5119e-02, 3.5445e-02, 3.5773e-02, 3.6104e-02,\n",
       "        3.6439e-02, 3.6776e-02, 3.7117e-02, 3.7461e-02, 3.7807e-02, 3.8158e-02,\n",
       "        3.8511e-02, 3.8868e-02, 3.9228e-02, 3.9591e-02, 3.9958e-02, 4.0328e-02,\n",
       "        4.0701e-02, 4.1078e-02, 4.1459e-02, 4.1843e-02, 4.2230e-02, 4.2622e-02,\n",
       "        4.3016e-02, 4.3415e-02, 4.3817e-02, 4.4223e-02, 4.4632e-02, 4.5046e-02,\n",
       "        4.5463e-02, 4.5884e-02, 4.6309e-02, 4.6738e-02, 4.7171e-02, 4.7608e-02,\n",
       "        4.8049e-02, 4.8494e-02, 4.8943e-02, 4.9396e-02, 4.9854e-02, 5.0315e-02,\n",
       "        5.0782e-02, 5.1252e-02, 5.1727e-02, 5.2206e-02, 5.2689e-02, 5.3177e-02,\n",
       "        5.3670e-02, 5.4167e-02, 5.4669e-02, 5.5175e-02, 5.5686e-02, 5.6202e-02,\n",
       "        5.6722e-02, 5.7248e-02, 5.7778e-02, 5.8313e-02, 5.8853e-02, 5.9398e-02,\n",
       "        5.9948e-02, 6.0504e-02, 6.1064e-02, 6.1630e-02, 6.2200e-02, 6.2777e-02,\n",
       "        6.3358e-02, 6.3945e-02, 6.4537e-02, 6.5135e-02, 6.5738e-02, 6.6347e-02,\n",
       "        6.6962e-02, 6.7582e-02, 6.8208e-02, 6.8840e-02, 6.9477e-02, 7.0121e-02,\n",
       "        7.0770e-02, 7.1426e-02, 7.2087e-02, 7.2755e-02, 7.3429e-02, 7.4109e-02,\n",
       "        7.4795e-02, 7.5488e-02, 7.6187e-02, 7.6893e-02, 7.7605e-02, 7.8324e-02,\n",
       "        7.9049e-02, 7.9781e-02, 8.0520e-02, 8.1266e-02, 8.2019e-02, 8.2779e-02,\n",
       "        8.3545e-02, 8.4319e-02, 8.5100e-02, 8.5888e-02, 8.6684e-02, 8.7487e-02,\n",
       "        8.8297e-02, 8.9115e-02, 8.9940e-02, 9.0773e-02, 9.1614e-02, 9.2463e-02,\n",
       "        9.3319e-02, 9.4183e-02, 9.5056e-02, 9.5936e-02, 9.6825e-02, 9.7721e-02,\n",
       "        9.8627e-02, 9.9540e-02, 1.0046e-01, 1.0139e-01, 1.0233e-01, 1.0328e-01,\n",
       "        1.0424e-01, 1.0520e-01, 1.0618e-01, 1.0716e-01, 1.0815e-01, 1.0915e-01,\n",
       "        1.1016e-01, 1.1118e-01, 1.1221e-01, 1.1325e-01, 1.1430e-01, 1.1536e-01,\n",
       "        1.1643e-01, 1.1751e-01, 1.1860e-01, 1.1970e-01, 1.2080e-01, 1.2192e-01,\n",
       "        1.2305e-01, 1.2419e-01, 1.2534e-01, 1.2650e-01, 1.2768e-01, 1.2886e-01,\n",
       "        1.3005e-01, 1.3126e-01, 1.3247e-01, 1.3370e-01, 1.3494e-01, 1.3619e-01,\n",
       "        1.3745e-01, 1.3872e-01, 1.4001e-01, 1.4130e-01, 1.4261e-01, 1.4393e-01,\n",
       "        1.4527e-01, 1.4661e-01, 1.4797e-01, 1.4934e-01, 1.5072e-01, 1.5212e-01,\n",
       "        1.5353e-01, 1.5495e-01, 1.5638e-01, 1.5783e-01, 1.5930e-01, 1.6077e-01,\n",
       "        1.6226e-01, 1.6376e-01, 1.6528e-01, 1.6681e-01, 1.6836e-01, 1.6991e-01,\n",
       "        1.7149e-01, 1.7308e-01, 1.7468e-01, 1.7630e-01, 1.7793e-01, 1.7958e-01,\n",
       "        1.8124e-01, 1.8292e-01, 1.8461e-01, 1.8632e-01, 1.8805e-01, 1.8979e-01,\n",
       "        1.9155e-01, 1.9332e-01, 1.9511e-01, 1.9692e-01, 1.9875e-01, 2.0059e-01,\n",
       "        2.0244e-01, 2.0432e-01, 2.0621e-01, 2.0812e-01, 2.1005e-01, 2.1200e-01,\n",
       "        2.1396e-01, 2.1594e-01, 2.1794e-01, 2.1996e-01, 2.2200e-01, 2.2405e-01,\n",
       "        2.2613e-01, 2.2822e-01, 2.3034e-01, 2.3247e-01, 2.3462e-01, 2.3680e-01,\n",
       "        2.3899e-01, 2.4120e-01, 2.4344e-01, 2.4569e-01, 2.4797e-01, 2.5026e-01,\n",
       "        2.5258e-01, 2.5492e-01, 2.5728e-01, 2.5967e-01, 2.6207e-01, 2.6450e-01,\n",
       "        2.6695e-01, 2.6942e-01, 2.7192e-01, 2.7443e-01, 2.7698e-01, 2.7954e-01,\n",
       "        2.8213e-01, 2.8474e-01, 2.8738e-01, 2.9004e-01, 2.9273e-01, 2.9544e-01,\n",
       "        2.9818e-01, 3.0094e-01, 3.0373e-01, 3.0654e-01, 3.0938e-01, 3.1224e-01,\n",
       "        3.1514e-01, 3.1806e-01, 3.2100e-01, 3.2397e-01, 3.2698e-01, 3.3000e-01,\n",
       "        3.3306e-01, 3.3614e-01, 3.3926e-01, 3.4240e-01, 3.4557e-01, 3.4877e-01,\n",
       "        3.5200e-01, 3.5526e-01, 3.5855e-01, 3.6188e-01, 3.6523e-01, 3.6861e-01,\n",
       "        3.7202e-01, 3.7547e-01, 3.7895e-01, 3.8246e-01, 3.8600e-01, 3.8957e-01,\n",
       "        3.9318e-01, 3.9682e-01, 4.0050e-01, 4.0421e-01, 4.0795e-01, 4.1173e-01,\n",
       "        4.1555e-01, 4.1939e-01, 4.2328e-01, 4.2720e-01, 4.3116e-01, 4.3515e-01,\n",
       "        4.3918e-01, 4.4325e-01, 4.4735e-01, 4.5150e-01, 4.5568e-01, 4.5990e-01,\n",
       "        4.6416e-01, 4.6846e-01, 4.7280e-01, 4.7718e-01, 4.8160e-01, 4.8606e-01,\n",
       "        4.9056e-01, 4.9510e-01, 4.9969e-01, 5.0432e-01, 5.0899e-01, 5.1370e-01,\n",
       "        5.1846e-01, 5.2326e-01, 5.2811e-01, 5.3300e-01, 5.3794e-01, 5.4292e-01,\n",
       "        5.4795e-01, 5.5302e-01, 5.5814e-01, 5.6331e-01, 5.6853e-01, 5.7380e-01,\n",
       "        5.7911e-01, 5.8448e-01, 5.8989e-01, 5.9535e-01, 6.0087e-01, 6.0643e-01,\n",
       "        6.1205e-01, 6.1772e-01, 6.2344e-01, 6.2921e-01, 6.3504e-01, 6.4092e-01,\n",
       "        6.4686e-01, 6.5285e-01, 6.5890e-01, 6.6500e-01, 6.7116e-01, 6.7738e-01,\n",
       "        6.8365e-01, 6.8998e-01, 6.9637e-01, 7.0282e-01, 7.0933e-01, 7.1590e-01,\n",
       "        7.2253e-01, 7.2923e-01, 7.3598e-01, 7.4280e-01, 7.4968e-01, 7.5662e-01,\n",
       "        7.6363e-01, 7.7070e-01, 7.7784e-01, 7.8505e-01, 7.9232e-01, 7.9966e-01,\n",
       "        8.0706e-01, 8.1454e-01, 8.2208e-01, 8.2970e-01, 8.3738e-01, 8.4514e-01,\n",
       "        8.5296e-01, 8.6086e-01, 8.6884e-01, 8.7689e-01, 8.8501e-01, 8.9320e-01,\n",
       "        9.0148e-01, 9.0983e-01, 9.1825e-01, 9.2676e-01, 9.3534e-01, 9.4401e-01,\n",
       "        9.5275e-01, 9.6157e-01, 9.7048e-01, 9.7947e-01, 9.8854e-01, 9.9770e-01,\n",
       "        1.0069e+00, 1.0163e+00, 1.0257e+00, 1.0352e+00, 1.0448e+00, 1.0544e+00,\n",
       "        1.0642e+00, 1.0741e+00, 1.0840e+00, 1.0941e+00, 1.1042e+00, 1.1144e+00,\n",
       "        1.1247e+00, 1.1352e+00, 1.1457e+00, 1.1563e+00, 1.1670e+00, 1.1778e+00,\n",
       "        1.1887e+00, 1.1997e+00, 1.2108e+00, 1.2220e+00, 1.2334e+00, 1.2448e+00,\n",
       "        1.2563e+00, 1.2680e+00, 1.2797e+00, 1.2915e+00, 1.3035e+00, 1.3156e+00,\n",
       "        1.3278e+00, 1.3401e+00, 1.3525e+00, 1.3650e+00, 1.3777e+00, 1.3904e+00,\n",
       "        1.4033e+00, 1.4163e+00, 1.4294e+00, 1.4426e+00, 1.4560e+00, 1.4695e+00,\n",
       "        1.4831e+00, 1.4968e+00, 1.5107e+00, 1.5247e+00, 1.5388e+00, 1.5531e+00,\n",
       "        1.5675e+00, 1.5820e+00, 1.5966e+00, 1.6114e+00, 1.6263e+00, 1.6414e+00,\n",
       "        1.6566e+00, 1.6719e+00, 1.6874e+00, 1.7031e+00, 1.7188e+00, 1.7348e+00,\n",
       "        1.7508e+00, 1.7670e+00, 1.7834e+00, 1.7999e+00, 1.8166e+00, 1.8334e+00,\n",
       "        1.8504e+00, 1.8675e+00, 1.8848e+00, 1.9023e+00, 1.9199e+00, 1.9377e+00,\n",
       "        1.9557e+00, 1.9738e+00, 1.9920e+00, 2.0105e+00, 2.0291e+00, 2.0479e+00,\n",
       "        2.0669e+00, 2.0860e+00, 2.1053e+00, 2.1248e+00, 2.1445e+00, 2.1644e+00,\n",
       "        2.1844e+00, 2.2047e+00, 2.2251e+00, 2.2457e+00, 2.2665e+00, 2.2875e+00,\n",
       "        2.3087e+00, 2.3301e+00, 2.3516e+00, 2.3734e+00, 2.3954e+00, 2.4176e+00,\n",
       "        2.4400e+00, 2.4626e+00, 2.4854e+00, 2.5084e+00, 2.5316e+00, 2.5551e+00,\n",
       "        2.5788e+00, 2.6026e+00, 2.6268e+00, 2.6511e+00, 2.6756e+00, 2.7004e+00,\n",
       "        2.7254e+00, 2.7507e+00, 2.7762e+00, 2.8019e+00, 2.8278e+00, 2.8540e+00,\n",
       "        2.8804e+00, 2.9071e+00, 2.9340e+00, 2.9612e+00, 2.9887e+00, 3.0163e+00,\n",
       "        3.0443e+00, 3.0725e+00, 3.1009e+00, 3.1296e+00, 3.1586e+00, 3.1879e+00,\n",
       "        3.2174e+00, 3.2472e+00, 3.2773e+00, 3.3076e+00, 3.3383e+00, 3.3692e+00,\n",
       "        3.4004e+00, 3.4319e+00, 3.4637e+00, 3.4958e+00, 3.5282e+00, 3.5608e+00,\n",
       "        3.5938e+00, 3.6271e+00, 3.6607e+00, 3.6946e+00, 3.7288e+00, 3.7634e+00,\n",
       "        3.7982e+00, 3.8334e+00, 3.8689e+00, 3.9047e+00, 3.9409e+00, 3.9774e+00,\n",
       "        4.0142e+00, 4.0514e+00, 4.0889e+00, 4.1268e+00, 4.1650e+00, 4.2036e+00,\n",
       "        4.2426e+00, 4.2819e+00, 4.3215e+00, 4.3615e+00, 4.4019e+00, 4.4427e+00,\n",
       "        4.4839e+00, 4.5254e+00, 4.5673e+00, 4.6096e+00, 4.6523e+00, 4.6954e+00,\n",
       "        4.7389e+00, 4.7828e+00, 4.8271e+00, 4.8718e+00, 4.9169e+00, 4.9624e+00,\n",
       "        5.0084e+00, 5.0548e+00, 5.1016e+00, 5.1489e+00, 5.1966e+00, 5.2447e+00,\n",
       "        5.2933e+00, 5.3423e+00, 5.3918e+00, 5.4417e+00, 5.4921e+00, 5.5430e+00,\n",
       "        5.5943e+00, 5.6461e+00, 5.6984e+00, 5.7512e+00, 5.8045e+00, 5.8582e+00,\n",
       "        5.9125e+00, 5.9673e+00, 6.0225e+00, 6.0783e+00, 6.1346e+00, 6.1914e+00,\n",
       "        6.2488e+00, 6.3067e+00, 6.3651e+00, 6.4240e+00, 6.4835e+00, 6.5436e+00,\n",
       "        6.6042e+00, 6.6654e+00, 6.7271e+00, 6.7894e+00, 6.8523e+00, 6.9158e+00,\n",
       "        6.9798e+00, 7.0445e+00, 7.1097e+00, 7.1756e+00, 7.2420e+00, 7.3091e+00,\n",
       "        7.3768e+00, 7.4451e+00, 7.5141e+00, 7.5837e+00, 7.6539e+00, 7.7248e+00,\n",
       "        7.7964e+00, 7.8686e+00, 7.9415e+00, 8.0150e+00, 8.0892e+00, 8.1642e+00,\n",
       "        8.2398e+00, 8.3161e+00, 8.3931e+00, 8.4709e+00, 8.5493e+00, 8.6285e+00,\n",
       "        8.7084e+00, 8.7891e+00, 8.8705e+00, 8.9527e+00, 9.0356e+00, 9.1193e+00,\n",
       "        9.2037e+00, 9.2890e+00, 9.3750e+00, 9.4618e+00, 9.5495e+00, 9.6379e+00,\n",
       "        9.7272e+00, 9.8173e+00, 9.9082e+00, 1.0000e+01])"
      ]
     },
     "execution_count": null,
     "metadata": {},
     "output_type": "execute_result"
    }
   ],
   "source": [
    "#|hide\n",
    "lre = torch.linspace(-3,1,1000)\n",
    "lrs = 10**lre\n",
    "lrs"
   ]
  },
  {
   "cell_type": "markdown",
   "id": "bfe79a8c",
   "metadata": {},
   "source": [
    "## How to determine a reasonable learning rate"
   ]
  },
  {
   "cell_type": "code",
   "execution_count": null,
   "id": "0b52764e",
   "metadata": {},
   "outputs": [
    {
     "name": "stdout",
     "output_type": "stream",
     "text": [
      "17.57276153564453\n",
      "18.38096809387207\n",
      "17.454505920410156\n",
      "21.21564292907715\n",
      "21.080862045288086\n",
      "19.18370246887207\n",
      "20.907495498657227\n",
      "17.437274932861328\n",
      "20.813051223754883\n",
      "17.57678985595703\n",
      "17.47332000732422\n",
      "18.42458724975586\n",
      "19.1214599609375\n",
      "19.37567901611328\n",
      "17.27273941040039\n",
      "16.733753204345703\n",
      "19.102767944335938\n",
      "16.82353973388672\n",
      "17.026931762695312\n",
      "17.733966827392578\n",
      "18.997385025024414\n",
      "18.89539337158203\n",
      "19.080354690551758\n",
      "21.113134384155273\n",
      "17.584501266479492\n",
      "18.75019645690918\n",
      "16.487337112426758\n",
      "17.951486587524414\n",
      "20.475780487060547\n",
      "17.734874725341797\n",
      "17.48705291748047\n",
      "16.38652801513672\n",
      "19.465002059936523\n",
      "20.70984649658203\n",
      "20.237873077392578\n",
      "19.666889190673828\n",
      "15.294360160827637\n",
      "16.641807556152344\n",
      "18.040142059326172\n",
      "18.168106079101562\n",
      "17.376449584960938\n",
      "14.23971939086914\n",
      "18.829219818115234\n",
      "18.401643753051758\n",
      "20.517444610595703\n",
      "16.9419002532959\n",
      "19.847139358520508\n",
      "20.43134880065918\n",
      "16.74691390991211\n",
      "18.466197967529297\n",
      "16.289216995239258\n",
      "19.889942169189453\n",
      "14.608063697814941\n",
      "19.21075439453125\n",
      "18.152891159057617\n",
      "17.74231719970703\n",
      "15.69858169555664\n",
      "19.93450927734375\n",
      "18.348236083984375\n",
      "18.120220184326172\n",
      "17.106590270996094\n",
      "16.182723999023438\n",
      "17.517831802368164\n",
      "17.5632266998291\n",
      "18.986392974853516\n",
      "17.822465896606445\n",
      "18.883325576782227\n",
      "15.437803268432617\n",
      "20.238292694091797\n",
      "16.066408157348633\n",
      "16.811321258544922\n",
      "17.691919326782227\n",
      "17.516746520996094\n",
      "17.40683937072754\n",
      "16.440587997436523\n",
      "14.209866523742676\n",
      "19.31875228881836\n",
      "16.58809471130371\n",
      "19.984298706054688\n",
      "16.213682174682617\n",
      "20.02408790588379\n",
      "17.488094329833984\n",
      "17.630659103393555\n",
      "18.153959274291992\n",
      "14.730700492858887\n",
      "17.322917938232422\n",
      "17.27118682861328\n",
      "17.030460357666016\n",
      "15.972298622131348\n",
      "15.829883575439453\n",
      "17.603626251220703\n",
      "14.789925575256348\n",
      "17.900957107543945\n",
      "16.318429946899414\n",
      "15.928333282470703\n",
      "16.756587982177734\n",
      "18.634824752807617\n",
      "17.96367073059082\n",
      "16.790319442749023\n",
      "17.987300872802734\n",
      "15.947249412536621\n",
      "15.854249000549316\n",
      "16.925750732421875\n",
      "14.131688117980957\n",
      "12.612247467041016\n",
      "16.975481033325195\n",
      "15.191967964172363\n",
      "16.70482063293457\n",
      "15.168463706970215\n",
      "17.52662467956543\n",
      "15.80912971496582\n",
      "15.530524253845215\n",
      "17.074796676635742\n",
      "15.531835556030273\n",
      "13.902630805969238\n",
      "14.349334716796875\n",
      "16.51013946533203\n",
      "16.840932846069336\n",
      "14.3120756149292\n",
      "16.94095230102539\n",
      "16.750511169433594\n",
      "16.597827911376953\n",
      "15.281488418579102\n",
      "15.984444618225098\n",
      "15.352628707885742\n",
      "15.726953506469727\n",
      "15.2005033493042\n",
      "17.539989471435547\n",
      "15.83510971069336\n",
      "13.191581726074219\n",
      "17.930709838867188\n",
      "14.170339584350586\n",
      "14.35737133026123\n",
      "12.1624174118042\n",
      "14.047713279724121\n",
      "16.080612182617188\n",
      "14.233263969421387\n",
      "13.770620346069336\n",
      "15.541193962097168\n",
      "16.58687973022461\n",
      "12.992834091186523\n",
      "14.201470375061035\n",
      "17.04505157470703\n",
      "16.81568717956543\n",
      "15.340707778930664\n",
      "17.045330047607422\n",
      "16.104442596435547\n",
      "13.92197036743164\n",
      "10.169665336608887\n",
      "15.461877822875977\n",
      "15.259256362915039\n",
      "15.423388481140137\n",
      "14.177938461303711\n",
      "12.693208694458008\n",
      "14.739204406738281\n",
      "13.535104751586914\n",
      "12.780099868774414\n",
      "14.464563369750977\n",
      "14.233803749084473\n",
      "14.992647171020508\n",
      "13.311644554138184\n",
      "15.53928279876709\n",
      "12.041337013244629\n",
      "13.274005889892578\n",
      "13.575145721435547\n",
      "14.164610862731934\n",
      "10.109086990356445\n",
      "11.826385498046875\n",
      "15.98048210144043\n",
      "16.12906265258789\n",
      "11.293645858764648\n",
      "13.293030738830566\n",
      "12.55268669128418\n",
      "15.317923545837402\n",
      "11.3443021774292\n",
      "13.8986177444458\n",
      "14.035137176513672\n",
      "14.727763175964355\n",
      "13.629745483398438\n",
      "13.641192436218262\n",
      "13.92994499206543\n",
      "14.99039077758789\n",
      "12.029653549194336\n",
      "12.228535652160645\n",
      "15.812777519226074\n",
      "11.198408126831055\n",
      "13.486011505126953\n",
      "10.95328140258789\n",
      "13.02483081817627\n",
      "14.279275894165039\n",
      "13.457911491394043\n",
      "11.409870147705078\n",
      "12.480180740356445\n",
      "12.73888111114502\n",
      "13.069488525390625\n",
      "14.35262680053711\n",
      "12.483602523803711\n",
      "11.16051197052002\n",
      "12.968238830566406\n",
      "13.372964859008789\n",
      "13.601683616638184\n",
      "11.866826057434082\n",
      "11.84825611114502\n",
      "10.876786231994629\n",
      "11.830960273742676\n",
      "12.459259033203125\n",
      "16.673175811767578\n",
      "13.886874198913574\n",
      "11.077066421508789\n",
      "12.524163246154785\n",
      "15.63658618927002\n",
      "13.755983352661133\n",
      "13.191400527954102\n",
      "12.109964370727539\n",
      "10.664148330688477\n",
      "14.248788833618164\n",
      "10.48939037322998\n",
      "11.84567642211914\n",
      "11.79554271697998\n",
      "12.221298217773438\n",
      "11.716007232666016\n",
      "12.102666854858398\n",
      "10.648828506469727\n",
      "11.631942749023438\n",
      "13.382360458374023\n",
      "9.633101463317871\n",
      "12.316384315490723\n",
      "10.129083633422852\n",
      "12.461018562316895\n",
      "13.69039535522461\n",
      "10.605690956115723\n",
      "11.078442573547363\n",
      "10.647404670715332\n",
      "13.907801628112793\n",
      "9.22032356262207\n",
      "12.12643814086914\n",
      "10.30738639831543\n",
      "12.606876373291016\n",
      "9.222529411315918\n",
      "11.954773902893066\n",
      "10.49276065826416\n",
      "14.304624557495117\n",
      "11.358744621276855\n",
      "8.687580108642578\n",
      "10.281694412231445\n",
      "10.74123764038086\n",
      "9.27637004852295\n",
      "10.500677108764648\n",
      "9.315572738647461\n",
      "9.520061492919922\n",
      "11.103501319885254\n",
      "11.161638259887695\n",
      "11.23027229309082\n",
      "7.806924343109131\n",
      "13.278614044189453\n",
      "11.83285903930664\n",
      "9.629695892333984\n",
      "10.773478507995605\n",
      "9.072622299194336\n",
      "9.812824249267578\n",
      "13.24282169342041\n",
      "10.963342666625977\n",
      "9.725305557250977\n",
      "9.029012680053711\n",
      "9.03695011138916\n",
      "10.131400108337402\n",
      "13.947558403015137\n",
      "11.419244766235352\n",
      "11.898691177368164\n",
      "11.660931587219238\n",
      "10.061429023742676\n",
      "11.497520446777344\n",
      "12.809901237487793\n",
      "10.863630294799805\n",
      "8.125093460083008\n",
      "7.469451427459717\n",
      "10.671889305114746\n",
      "11.224878311157227\n",
      "9.64244556427002\n",
      "9.643403053283691\n",
      "9.454347610473633\n",
      "8.55276870727539\n",
      "9.348222732543945\n",
      "10.299896240234375\n",
      "9.231563568115234\n",
      "9.949894905090332\n",
      "8.077455520629883\n",
      "9.404560089111328\n",
      "10.465301513671875\n",
      "9.281176567077637\n",
      "8.108887672424316\n",
      "9.470197677612305\n",
      "11.760165214538574\n",
      "6.930253505706787\n",
      "10.075078964233398\n",
      "8.409323692321777\n",
      "7.802064895629883\n",
      "8.755902290344238\n",
      "9.555486679077148\n",
      "9.077010154724121\n",
      "8.427393913269043\n",
      "8.506288528442383\n",
      "7.170266151428223\n",
      "7.758419036865234\n",
      "10.807315826416016\n",
      "8.01258373260498\n",
      "8.218811988830566\n",
      "8.3101224899292\n",
      "9.369029998779297\n",
      "9.459511756896973\n",
      "9.708526611328125\n",
      "7.758353233337402\n",
      "9.022072792053223\n",
      "7.03503942489624\n",
      "6.063441276550293\n",
      "9.579068183898926\n",
      "8.003768920898438\n",
      "9.531412124633789\n",
      "7.2605695724487305\n",
      "8.974498748779297\n",
      "9.40772533416748\n",
      "9.006237030029297\n",
      "8.69849681854248\n",
      "8.23283863067627\n",
      "10.0516939163208\n",
      "6.019401550292969\n",
      "6.461541652679443\n",
      "9.925166130065918\n",
      "9.101470947265625\n",
      "9.976348876953125\n",
      "5.607675075531006\n",
      "9.050604820251465\n",
      "8.00273323059082\n",
      "8.5353422164917\n",
      "7.544510841369629\n",
      "7.506710052490234\n",
      "6.829733848571777\n",
      "8.613126754760742\n",
      "8.592612266540527\n",
      "8.192902565002441\n",
      "6.942233085632324\n",
      "7.856372833251953\n",
      "9.070555686950684\n",
      "8.64041519165039\n",
      "7.913468837738037\n",
      "6.574246406555176\n",
      "7.75071907043457\n",
      "7.057945251464844\n",
      "7.3872971534729\n",
      "7.875763893127441\n",
      "6.213350296020508\n",
      "6.883249759674072\n",
      "7.580850601196289\n",
      "7.125817775726318\n",
      "9.91046142578125\n",
      "5.6778435707092285\n",
      "6.802744388580322\n",
      "6.988166332244873\n",
      "8.872272491455078\n",
      "7.118231296539307\n",
      "8.424520492553711\n",
      "7.636692047119141\n",
      "9.565744400024414\n",
      "8.37964153289795\n",
      "7.063146114349365\n",
      "6.927211761474609\n",
      "4.88486909866333\n",
      "5.06980037689209\n",
      "6.780410289764404\n",
      "6.086301803588867\n",
      "4.850202560424805\n",
      "7.979799270629883\n",
      "6.148624420166016\n",
      "5.901304721832275\n",
      "5.411088943481445\n",
      "6.302879333496094\n",
      "6.618958950042725\n",
      "4.880417823791504\n",
      "5.591373920440674\n",
      "6.40765380859375\n",
      "5.91107702255249\n",
      "6.5665130615234375\n",
      "5.255655288696289\n",
      "5.528822422027588\n",
      "5.648355484008789\n",
      "7.044066429138184\n",
      "7.250743865966797\n",
      "5.330826282501221\n",
      "4.594923973083496\n",
      "6.730301856994629\n",
      "4.8512959480285645\n",
      "6.047122478485107\n",
      "6.349576950073242\n",
      "5.296410083770752\n",
      "6.114524841308594\n",
      "5.366572380065918\n",
      "5.697829246520996\n",
      "6.239436149597168\n",
      "5.836843490600586\n",
      "4.88054895401001\n",
      "6.1162190437316895\n",
      "5.476934432983398\n",
      "6.4069952964782715\n",
      "5.5481858253479\n",
      "6.545391082763672\n",
      "4.72417688369751\n",
      "4.981783866882324\n",
      "4.559980392456055\n",
      "5.38161039352417\n",
      "3.975733518600464\n",
      "5.603244781494141\n",
      "5.809412479400635\n",
      "5.7475104331970215\n",
      "6.096259593963623\n",
      "5.84445858001709\n",
      "5.359170436859131\n",
      "5.442815780639648\n",
      "4.635664463043213\n",
      "4.976276874542236\n",
      "5.579714775085449\n",
      "5.920684337615967\n",
      "5.080137252807617\n",
      "4.3282694816589355\n",
      "4.686100006103516\n",
      "4.749856472015381\n",
      "4.3419880867004395\n",
      "4.526195049285889\n",
      "6.3921098709106445\n",
      "4.087148189544678\n",
      "4.322854042053223\n",
      "5.063938617706299\n",
      "4.79725456237793\n",
      "6.3536272048950195\n",
      "5.09281063079834\n",
      "4.247463226318359\n",
      "3.7620999813079834\n",
      "4.812386512756348\n",
      "3.9307312965393066\n",
      "4.209801197052002\n",
      "3.80802845954895\n",
      "4.269464492797852\n",
      "4.941763877868652\n",
      "4.4933600425720215\n",
      "4.983832359313965\n",
      "5.1211724281311035\n",
      "5.657429218292236\n",
      "4.3082356452941895\n",
      "4.365445137023926\n",
      "3.9196009635925293\n",
      "4.211538791656494\n",
      "5.5622639656066895\n",
      "4.30189847946167\n",
      "4.318421840667725\n",
      "4.036620140075684\n",
      "4.024697303771973\n",
      "3.599339246749878\n",
      "5.080698013305664\n",
      "2.981902599334717\n",
      "3.6235415935516357\n",
      "4.768585205078125\n",
      "3.9881162643432617\n",
      "3.4466307163238525\n",
      "4.302891254425049\n",
      "3.896972417831421\n",
      "4.975249767303467\n",
      "3.3723886013031006\n",
      "4.380087375640869\n",
      "3.6773946285247803\n",
      "3.507293701171875\n",
      "3.852163791656494\n",
      "4.447554588317871\n",
      "4.145574569702148\n",
      "4.51737117767334\n",
      "4.3943071365356445\n",
      "3.8847599029541016\n",
      "3.0491714477539062\n",
      "3.3182928562164307\n",
      "3.145413875579834\n",
      "3.453437089920044\n",
      "4.861083984375\n",
      "5.043808460235596\n",
      "4.37673807144165\n",
      "4.264418125152588\n",
      "3.3205738067626953\n",
      "3.5635311603546143\n",
      "4.186126232147217\n",
      "3.17484450340271\n",
      "3.2935609817504883\n",
      "4.139324188232422\n",
      "4.10752534866333\n",
      "4.583308219909668\n",
      "3.824875831604004\n",
      "4.234518051147461\n",
      "3.5373566150665283\n",
      "3.6325836181640625\n",
      "4.474077224731445\n",
      "3.5913314819335938\n",
      "3.3791487216949463\n",
      "3.818492889404297\n",
      "3.576718807220459\n",
      "3.074841022491455\n",
      "4.589286804199219\n",
      "4.9279303550720215\n",
      "3.2122926712036133\n",
      "3.53069806098938\n",
      "3.0408215522766113\n",
      "3.1210379600524902\n",
      "3.972811460494995\n",
      "2.820545196533203\n",
      "2.9753661155700684\n",
      "3.2039246559143066\n",
      "4.304561614990234\n",
      "2.795058488845825\n",
      "3.6055233478546143\n",
      "4.349609375\n",
      "4.457000732421875\n",
      "3.3578226566314697\n",
      "2.853200912475586\n",
      "4.547207832336426\n",
      "3.71525239944458\n",
      "3.8805532455444336\n",
      "3.2830116748809814\n",
      "3.1410460472106934\n",
      "4.244385719299316\n",
      "3.1633644104003906\n",
      "2.8494255542755127\n",
      "2.554918050765991\n",
      "3.5575625896453857\n",
      "3.138493299484253\n",
      "4.082805633544922\n",
      "3.247215747833252\n",
      "3.0268959999084473\n",
      "4.076394081115723\n",
      "3.4896204471588135\n",
      "3.368285894393921\n",
      "3.1239986419677734\n",
      "3.4116039276123047\n",
      "3.2818264961242676\n",
      "3.112525701522827\n",
      "3.3597795963287354\n",
      "3.598848342895508\n",
      "2.900707721710205\n",
      "3.9728283882141113\n",
      "2.898958206176758\n",
      "3.9185235500335693\n",
      "3.173433303833008\n",
      "3.447232961654663\n",
      "3.1679890155792236\n",
      "4.447990417480469\n",
      "3.107189655303955\n",
      "4.22524881362915\n",
      "3.3233840465545654\n",
      "3.550227642059326\n",
      "4.078894138336182\n",
      "2.816941261291504\n",
      "3.2710134983062744\n",
      "4.103876113891602\n",
      "3.376629114151001\n",
      "3.658601760864258\n",
      "3.0675745010375977\n",
      "3.127713441848755\n",
      "2.9720544815063477\n",
      "3.3234899044036865\n",
      "3.2029147148132324\n",
      "4.110997200012207\n",
      "3.207146167755127\n",
      "3.7683496475219727\n",
      "3.8766274452209473\n",
      "2.75616192817688\n",
      "3.389221668243408\n",
      "3.264263868331909\n",
      "3.865874767303467\n",
      "2.8424975872039795\n",
      "3.7502903938293457\n",
      "2.9777672290802\n",
      "3.3945934772491455\n",
      "3.335766553878784\n",
      "3.771994113922119\n",
      "3.5832512378692627\n",
      "2.956080675125122\n",
      "3.4376795291900635\n",
      "3.998025894165039\n",
      "2.7311813831329346\n",
      "3.2158689498901367\n",
      "3.540562629699707\n",
      "3.2342236042022705\n",
      "3.8305037021636963\n",
      "3.1390128135681152\n",
      "3.485523223876953\n",
      "3.4669792652130127\n",
      "3.767796754837036\n"
     ]
    },
    {
     "name": "stdout",
     "output_type": "stream",
     "text": [
      "3.5047719478607178\n",
      "2.984759569168091\n",
      "3.2164902687072754\n",
      "3.1166152954101562\n",
      "3.415897846221924\n",
      "2.611834764480591\n",
      "3.862666130065918\n",
      "3.0787580013275146\n",
      "3.285639524459839\n",
      "4.495078086853027\n",
      "3.364108085632324\n",
      "3.3341071605682373\n",
      "3.744595766067505\n",
      "2.965789556503296\n",
      "3.279768466949463\n",
      "3.3111510276794434\n",
      "3.7595818042755127\n",
      "3.816115379333496\n",
      "4.076173782348633\n",
      "4.1771345138549805\n",
      "3.138631820678711\n",
      "3.277111530303955\n",
      "3.956434726715088\n",
      "3.6578469276428223\n",
      "4.299097061157227\n",
      "4.024972438812256\n",
      "3.4792001247406006\n",
      "4.518208980560303\n",
      "3.919412136077881\n",
      "4.384096145629883\n",
      "4.809706211090088\n",
      "4.574504375457764\n",
      "4.825948715209961\n",
      "3.8937370777130127\n",
      "3.2497544288635254\n",
      "3.348829746246338\n",
      "3.877976655960083\n",
      "4.807061195373535\n",
      "4.19301700592041\n",
      "3.7928073406219482\n",
      "3.5153565406799316\n",
      "4.369344711303711\n",
      "4.746561050415039\n",
      "5.9832940101623535\n",
      "6.059764385223389\n",
      "5.890462875366211\n",
      "3.8835947513580322\n",
      "3.609372854232788\n",
      "5.062462329864502\n",
      "4.113190650939941\n",
      "3.581843852996826\n",
      "3.409597396850586\n",
      "4.5961103439331055\n",
      "4.65641450881958\n",
      "4.902923107147217\n",
      "4.033980369567871\n",
      "4.058071136474609\n",
      "4.980954647064209\n",
      "4.085536956787109\n",
      "4.229255676269531\n",
      "3.293346643447876\n",
      "3.464874267578125\n",
      "3.9673638343811035\n",
      "3.923771381378174\n",
      "3.278610944747925\n",
      "4.934590816497803\n",
      "6.165642738342285\n",
      "4.442200660705566\n",
      "4.853152751922607\n",
      "4.61954927444458\n",
      "3.7030282020568848\n",
      "4.485597610473633\n",
      "5.032050609588623\n",
      "4.393487930297852\n",
      "4.561595439910889\n",
      "3.8683595657348633\n",
      "4.462499618530273\n",
      "4.602001667022705\n",
      "5.785060405731201\n",
      "5.904040336608887\n",
      "5.32254695892334\n",
      "4.12208366394043\n",
      "4.970413684844971\n",
      "6.646961212158203\n",
      "6.090055465698242\n",
      "4.996232032775879\n",
      "5.3743205070495605\n",
      "4.901844024658203\n",
      "3.9967503547668457\n",
      "5.7420973777771\n",
      "6.997772216796875\n",
      "6.238030910491943\n",
      "3.924320697784424\n",
      "5.6335883140563965\n",
      "5.382786273956299\n",
      "5.185755729675293\n",
      "5.015298843383789\n",
      "5.182074546813965\n",
      "6.259066581726074\n",
      "5.735254287719727\n",
      "8.402029037475586\n",
      "7.44135046005249\n",
      "8.499380111694336\n",
      "6.106293201446533\n",
      "6.0944414138793945\n",
      "5.301347255706787\n",
      "8.861555099487305\n",
      "12.311391830444336\n",
      "7.2152557373046875\n",
      "6.250033855438232\n",
      "5.284031867980957\n",
      "5.381573677062988\n",
      "4.5272369384765625\n",
      "6.995848655700684\n",
      "7.101648330688477\n",
      "7.960639953613281\n",
      "6.852879047393799\n",
      "3.8690097332000732\n",
      "4.072272300720215\n",
      "5.209026336669922\n",
      "5.6040520668029785\n",
      "5.993564605712891\n",
      "7.087926864624023\n",
      "8.062431335449219\n",
      "9.747995376586914\n",
      "6.790176868438721\n",
      "7.22239351272583\n",
      "5.771853923797607\n",
      "5.434926509857178\n",
      "7.397158145904541\n",
      "7.73043966293335\n",
      "6.790462493896484\n",
      "8.449735641479492\n",
      "6.94552755355835\n",
      "10.914224624633789\n",
      "9.567365646362305\n",
      "10.504263877868652\n",
      "6.578146457672119\n",
      "7.8354668617248535\n",
      "8.277453422546387\n",
      "8.893840789794922\n",
      "11.445467948913574\n",
      "6.639841556549072\n",
      "7.730043411254883\n",
      "8.568772315979004\n",
      "7.460530757904053\n",
      "7.207331657409668\n",
      "8.167706489562988\n",
      "7.838566303253174\n",
      "5.800595283508301\n",
      "10.115594863891602\n",
      "4.292886734008789\n",
      "8.438791275024414\n",
      "7.931124687194824\n",
      "6.343996047973633\n",
      "8.375015258789062\n",
      "6.468666076660156\n",
      "6.902678489685059\n",
      "9.411162376403809\n",
      "10.597082138061523\n",
      "10.699217796325684\n",
      "11.059724807739258\n",
      "7.664960861206055\n",
      "7.898968696594238\n",
      "6.15482759475708\n",
      "6.096246719360352\n",
      "6.936249732971191\n",
      "7.655722141265869\n",
      "9.280254364013672\n",
      "6.194483280181885\n",
      "8.092377662658691\n",
      "8.768957138061523\n",
      "7.386622905731201\n",
      "10.86899471282959\n",
      "10.410085678100586\n",
      "10.68460750579834\n",
      "8.769866943359375\n",
      "8.722225189208984\n",
      "9.647274017333984\n",
      "7.9557600021362305\n",
      "8.581648826599121\n",
      "7.340024948120117\n",
      "6.9809417724609375\n",
      "8.761804580688477\n",
      "8.999138832092285\n",
      "10.290088653564453\n",
      "6.927513599395752\n",
      "9.826526641845703\n",
      "11.084794044494629\n",
      "6.962419509887695\n",
      "11.296157836914062\n",
      "8.386797904968262\n",
      "9.349197387695312\n",
      "9.952279090881348\n",
      "10.190406799316406\n",
      "13.448662757873535\n",
      "10.416336059570312\n",
      "10.262770652770996\n",
      "11.59829330444336\n",
      "8.883024215698242\n",
      "10.651888847351074\n",
      "8.286900520324707\n",
      "10.57921314239502\n",
      "10.578049659729004\n",
      "11.571516990661621\n",
      "12.024585723876953\n",
      "8.149734497070312\n",
      "11.033391952514648\n",
      "9.977598190307617\n",
      "11.880741119384766\n",
      "8.24068832397461\n",
      "9.956643104553223\n",
      "11.348530769348145\n",
      "14.568349838256836\n",
      "16.258228302001953\n",
      "12.204757690429688\n",
      "10.767562866210938\n",
      "12.151226043701172\n",
      "14.850882530212402\n",
      "12.264532089233398\n",
      "10.204282760620117\n",
      "10.683204650878906\n",
      "12.85846996307373\n",
      "17.945899963378906\n",
      "10.569111824035645\n",
      "14.298750877380371\n",
      "10.739777565002441\n",
      "17.308917999267578\n",
      "13.745304107666016\n",
      "11.550067901611328\n",
      "12.289779663085938\n",
      "11.560111045837402\n",
      "11.181889533996582\n",
      "12.558286666870117\n",
      "11.133200645446777\n",
      "11.198123931884766\n",
      "12.016657829284668\n",
      "11.244430541992188\n",
      "10.727561950683594\n",
      "13.395211219787598\n",
      "10.224061012268066\n",
      "12.716102600097656\n",
      "14.471595764160156\n",
      "13.401673316955566\n",
      "17.21458625793457\n",
      "14.323077201843262\n",
      "19.27243423461914\n",
      "20.000822067260742\n",
      "16.914438247680664\n",
      "9.531935691833496\n",
      "12.516231536865234\n",
      "12.459766387939453\n",
      "9.207915306091309\n",
      "10.808636665344238\n",
      "10.807703971862793\n",
      "12.781746864318848\n",
      "14.399681091308594\n",
      "15.479743003845215\n",
      "12.067764282226562\n",
      "16.33179473876953\n",
      "16.757856369018555\n",
      "15.209238052368164\n",
      "18.29767608642578\n",
      "17.13522720336914\n",
      "15.591724395751953\n",
      "14.667969703674316\n",
      "15.0635347366333\n",
      "15.324156761169434\n",
      "15.345002174377441\n",
      "13.614517211914062\n",
      "11.576675415039062\n",
      "19.428817749023438\n",
      "15.338082313537598\n",
      "15.292872428894043\n",
      "13.03862190246582\n",
      "12.927718162536621\n",
      "13.992708206176758\n",
      "31.782779693603516\n",
      "14.408294677734375\n",
      "16.602188110351562\n",
      "27.092931747436523\n",
      "20.221508026123047\n",
      "19.14093780517578\n",
      "16.108354568481445\n",
      "17.73938751220703\n",
      "16.296924591064453\n",
      "20.588321685791016\n",
      "16.90170669555664\n",
      "17.348058700561523\n",
      "17.156356811523438\n",
      "26.146474838256836\n",
      "23.42630386352539\n",
      "21.714170455932617\n",
      "25.21057891845703\n",
      "28.225736618041992\n",
      "26.44867515563965\n",
      "24.209041595458984\n",
      "24.74105453491211\n",
      "31.595918655395508\n",
      "21.057050704956055\n",
      "23.551347732543945\n",
      "21.69952964782715\n",
      "20.37238883972168\n",
      "23.448055267333984\n",
      "30.25034523010254\n",
      "21.83735466003418\n",
      "23.406211853027344\n",
      "25.50998306274414\n",
      "22.3135929107666\n",
      "32.62458801269531\n",
      "38.18891143798828\n",
      "23.028343200683594\n",
      "25.610549926757812\n",
      "22.401121139526367\n",
      "24.220216751098633\n",
      "32.993831634521484\n",
      "27.283489227294922\n",
      "31.83912467956543\n",
      "32.94308090209961\n",
      "34.9365234375\n",
      "27.782106399536133\n",
      "29.326738357543945\n",
      "41.74710464477539\n",
      "23.350324630737305\n",
      "26.150951385498047\n",
      "34.16910171508789\n",
      "36.40987777709961\n",
      "37.45579528808594\n",
      "20.85873794555664\n",
      "43.587379455566406\n",
      "39.335025787353516\n",
      "27.194637298583984\n",
      "28.844467163085938\n",
      "38.47759246826172\n",
      "38.109718322753906\n",
      "32.55181121826172\n",
      "26.55961036682129\n",
      "35.65530014038086\n",
      "27.396835327148438\n",
      "34.551090240478516\n",
      "26.080490112304688\n",
      "27.279502868652344\n",
      "25.24319076538086\n",
      "25.858488082885742\n",
      "33.77938461303711\n",
      "24.02435302734375\n",
      "27.767898559570312\n",
      "24.559001922607422\n",
      "43.594642639160156\n",
      "26.68766975402832\n",
      "26.41925621032715\n",
      "37.36347198486328\n",
      "41.81816101074219\n",
      "34.90917205810547\n",
      "40.68021011352539\n",
      "32.32591247558594\n",
      "38.547874450683594\n",
      "34.61859893798828\n",
      "34.86686325073242\n",
      "36.973358154296875\n",
      "38.11799240112305\n",
      "51.238555908203125\n",
      "49.27067565917969\n",
      "46.336307525634766\n",
      "53.21565246582031\n",
      "46.25751495361328\n",
      "45.859031677246094\n",
      "36.48525619506836\n",
      "51.31349563598633\n",
      "47.10385513305664\n",
      "61.56968307495117\n",
      "34.892086029052734\n",
      "56.66950988769531\n",
      "70.61302185058594\n",
      "40.962833404541016\n",
      "58.1834831237793\n",
      "58.44976806640625\n",
      "60.04684829711914\n",
      "45.72854995727539\n",
      "43.415428161621094\n",
      "35.57026290893555\n",
      "32.213966369628906\n",
      "52.3416748046875\n",
      "43.54084396362305\n",
      "35.349754333496094\n",
      "35.295555114746094\n",
      "54.3027229309082\n",
      "55.16071319580078\n",
      "60.0406608581543\n",
      "49.719871520996094\n",
      "58.919681549072266\n",
      "90.24168395996094\n",
      "53.76655197143555\n",
      "53.47417449951172\n",
      "52.507747650146484\n",
      "65.25830078125\n",
      "68.51478576660156\n",
      "65.1689224243164\n",
      "64.79029846191406\n",
      "39.27325439453125\n",
      "59.22473907470703\n",
      "49.49073028564453\n",
      "90.13214874267578\n",
      "69.495361328125\n",
      "57.639835357666016\n",
      "69.23587799072266\n",
      "94.24659729003906\n",
      "83.33028411865234\n",
      "64.9979248046875\n"
     ]
    }
   ],
   "source": [
    "lrei = []\n",
    "lossi = []\n",
    "for i in range(1000):\n",
    "    #  minibatch construct\n",
    "    ix = torch.randint(0,X.shape[0],(32,))\n",
    "    # forward pass\n",
    "    emb = C[X[ix]] #(32,3,2)\n",
    "    h = torch.tanh(emb.view((-1,6)) @ W1 + b1) #(32,100)\n",
    "    logits = h @ W2 + b2 #(32,27)\n",
    "    loss = F.cross_entropy(logits, Y[ix])\n",
    "    print(loss.item())\n",
    "    #backward pass\n",
    "    for p in parameters:\n",
    "        p.grad = None\n",
    "    loss.backward()  \n",
    "    lr = lrs[i]\n",
    "    for p in parameters:\n",
    "        p.data += -lr * p.grad\n",
    "        \n",
    "    #track stats\n",
    "    lrei.append(lre[i])\n",
    "    lossi.append(loss.item())\n",
    "        \n",
    "# print(loss.item())        "
   ]
  },
  {
   "cell_type": "markdown",
   "id": "81f82193",
   "metadata": {},
   "source": [
    "#|hide\n",
    "03/28/23 Stop at 39:39 / 1:15:39"
   ]
  },
  {
   "cell_type": "code",
   "execution_count": null,
   "id": "121cb5ae",
   "metadata": {},
   "outputs": [
    {
     "data": {
      "text/plain": [
       "[<matplotlib.lines.Line2D>]"
      ]
     },
     "execution_count": null,
     "metadata": {},
     "output_type": "execute_result"
    },
    {
     "data": {
      "image/png": "[encoded data removed]",
      "text/plain": [
       "<Figure size 640x480 with 1 Axes>"
      ]
     },
     "metadata": {},
     "output_type": "display_data"
    }
   ],
   "source": [
    "#|hide\n",
    "# Use the minimizer here as the starting point\n",
    "# train until you feel the loss is plateauing\n",
    "# then decay the learning rate\n",
    "plt.plot(lrei, lossi)"
   ]
  },
  {
   "cell_type": "code",
   "execution_count": null,
   "id": "798cd4dd",
   "metadata": {},
   "outputs": [],
   "source": [
    "block_size = 3 #characters to take as context before predicting the next\n",
    "\n",
    "X,Y=[],[]\n",
    "for w in words:\n",
    "#     print(w)\n",
    "    context = [0]*block_size\n",
    "    for ch in w + '.':\n",
    "        ix=stoi[ch]\n",
    "        X.append(context)\n",
    "        Y.append(ix)\n",
    "#         print(''.join(itos[i] for i in context))\n",
    "        context = context[1:] + [ix]\n",
    "        \n",
    "X = torch.tensor(X)\n",
    "Y = torch.tensor(Y)"
   ]
  },
  {
   "cell_type": "code",
   "execution_count": null,
   "id": "eae0671f",
   "metadata": {},
   "outputs": [],
   "source": [
    "g = torch.Generator().manual_seed(2147483647)\n",
    "C = torch.randn((27,2), generator=g)\n",
    "\n",
    "W1 = torch.randn((6,100), generator=g) # 100 neurons each taking 6 inputs\n",
    "b1 = torch.randn((100), generator=g) # the bias for each of the 100 neurons\n",
    "\n",
    "W2 = torch.randn((100,27), generator=g) # 27 neurons each taking 100 inputs\n",
    "b2 = torch.randn(27, generator=g)\n",
    "\n",
    "parameters = [C, W1, b1, W2, b2]\n",
    "\n",
    "for p in parameters:\n",
    "    p.requires_grad = True"
   ]
  },
  {
   "cell_type": "code",
   "execution_count": null,
   "id": "4c28a49b",
   "metadata": {},
   "outputs": [
    {
     "name": "stdout",
     "output_type": "stream",
     "text": [
      "2.3090484142303467\n"
     ]
    }
   ],
   "source": [
    "lrei = []\n",
    "lossi = []\n",
    "for i in range(20000):\n",
    "    #  minibatch construct\n",
    "    ix = torch.randint(0,X.shape[0],(32,))\n",
    "    # forward pass\n",
    "    emb = C[X[ix]] #(32,3,2)\n",
    "    h = torch.tanh(emb.view((-1,6)) @ W1 + b1) #(32,100)\n",
    "    logits = h @ W2 + b2 #(32,27)\n",
    "    loss = F.cross_entropy(logits, Y[ix])\n",
    "#     print(loss.item())\n",
    "    #backward pass\n",
    "    for p in parameters:\n",
    "        p.grad = None\n",
    "    loss.backward()  \n",
    "    lr = 10**-1 #lrs[i]\n",
    "    for p in parameters:\n",
    "        p.data += -lr * p.grad\n",
    "        \n",
    "    #track stats\n",
    "#     lrei.append(lre[i])\n",
    "#     lossi.append(loss.item())\n",
    "        \n",
    "print(loss.item()) "
   ]
  },
  {
   "cell_type": "markdown",
   "id": "c1e00d7b",
   "metadata": {},
   "source": [
    "Decay the learning rate"
   ]
  },
  {
   "cell_type": "code",
   "execution_count": null,
   "id": "6df7019e",
   "metadata": {},
   "outputs": [
    {
     "name": "stdout",
     "output_type": "stream",
     "text": [
      "2.323967933654785\n"
     ]
    }
   ],
   "source": [
    "lrei = []\n",
    "lossi = []\n",
    "for i in range(10000):\n",
    "    #  minibatch construct\n",
    "    ix = torch.randint(0,X.shape[0],(32,))\n",
    "    # forward pass\n",
    "    emb = C[X[ix]] #(32,3,2)\n",
    "    h = torch.tanh(emb.view((-1,6)) @ W1 + b1) #(32,100)\n",
    "    logits = h @ W2 + b2 #(32,27)\n",
    "    loss = F.cross_entropy(logits, Y[ix])\n",
    "#     print(loss.item())\n",
    "    #backward pass\n",
    "    for p in parameters:\n",
    "        p.grad = None\n",
    "    loss.backward()  \n",
    "    lr = 10**-3 #lrs[i]\n",
    "    for p in parameters:\n",
    "        p.data += -lr * p.grad\n",
    "        \n",
    "    #track stats\n",
    "#     lrei.append(lre[i])\n",
    "#     lossi.append(loss.item())\n",
    "        \n",
    "print(loss.item()) "
   ]
  },
  {
   "cell_type": "markdown",
   "id": "55e7c74c",
   "metadata": {},
   "source": [
    "#|hide\n",
    "03/28/23 Stop at 52:52s / 1:15:39"
   ]
  },
  {
   "cell_type": "code",
   "execution_count": null,
   "id": "73bc851b",
   "metadata": {},
   "outputs": [
    {
     "name": "stdout",
     "output_type": "stream",
     "text": [
      "2.351717472076416\n"
     ]
    }
   ],
   "source": [
    "#|hide\n",
    "# Loss on the entire training set\n",
    "emb = C[X]\n",
    "h = torch.tanh(emb.view((-1,6)) @ W1 + b1) #(32,100)\n",
    "logits = h @ W2 + b2\n",
    "loss = F.cross_entropy(logits, Y)\n",
    "print(loss.item())"
   ]
  },
  {
   "cell_type": "code",
   "execution_count": null,
   "id": "c8202e33",
   "metadata": {},
   "outputs": [
    {
     "name": "stdout",
     "output_type": "stream",
     "text": [
      "torch.Size([182625, 3]) torch.Size([182625])\n",
      "torch.Size([22655, 3]) torch.Size([22655])\n",
      "torch.Size([22866, 3]) torch.Size([22866])\n"
     ]
    }
   ],
   "source": [
    "#build dataset\n",
    "\n",
    "def build_dataset(words):\n",
    "    block_size = 3 #characters to take as context before predicting the next\n",
    "\n",
    "    X,Y=[],[]\n",
    "    for w in words:\n",
    "    #     print(w)\n",
    "        context = [0]*block_size\n",
    "        for ch in w + '.':\n",
    "            ix=stoi[ch]\n",
    "            X.append(context)\n",
    "            Y.append(ix)\n",
    "    #         print(''.join(itos[i] for i in context))\n",
    "            context = context[1:] + [ix]\n",
    "\n",
    "    X = torch.tensor(X)\n",
    "    Y = torch.tensor(Y)\n",
    "    \n",
    "    print(X.shape, Y.shape)\n",
    "    \n",
    "    return X, Y\n",
    "\n",
    "import random\n",
    "random.seed(42)\n",
    "random.shuffle(words)\n",
    "n1 = int(0.8*len(words))\n",
    "n2 = int(0.9*len(words))\n",
    "\n",
    "Xtr,Ytr=build_dataset(words[:n1])\n",
    "Xdev,Ydev=build_dataset(words[n1:n2])\n",
    "Xte,Yte=build_dataset(words[n2:])"
   ]
  },
  {
   "cell_type": "code",
   "execution_count": null,
   "id": "2d821974",
   "metadata": {},
   "outputs": [],
   "source": [
    "g = torch.Generator().manual_seed(2147483647)\n",
    "C = torch.randn((27,2), generator=g)\n",
    "\n",
    "W1 = torch.randn((6,100), generator=g) # 100 neurons each taking 6 inputs\n",
    "b1 = torch.randn((100), generator=g) # the bias for each of the 100 neurons\n",
    "\n",
    "W2 = torch.randn((100,27), generator=g) # 27 neurons each taking 100 inputs\n",
    "b2 = torch.randn(27, generator=g)\n",
    "\n",
    "parameters = [C, W1, b1, W2, b2]\n",
    "\n",
    "for p in parameters:\n",
    "    p.requires_grad = True"
   ]
  },
  {
   "cell_type": "markdown",
   "id": "677906bf",
   "metadata": {},
   "source": [
    "Now train on Xtr,Ytr"
   ]
  },
  {
   "cell_type": "code",
   "execution_count": null,
   "id": "04f01a2c",
   "metadata": {},
   "outputs": [
    {
     "name": "stdout",
     "output_type": "stream",
     "text": [
      "2.3105552196502686\n"
     ]
    }
   ],
   "source": [
    "lrei = []\n",
    "lossi = []\n",
    "for i in range(30000):\n",
    "    #  minibatch construct\n",
    "    ix = torch.randint(0,Xtr.shape[0],(32,))\n",
    "    # forward pass\n",
    "    emb = C[Xtr[ix]] #(32,3,2)\n",
    "    h = torch.tanh(emb.view((-1,6)) @ W1 + b1) #(32,100)\n",
    "    logits = h @ W2 + b2 #(32,27)\n",
    "    loss = F.cross_entropy(logits, Ytr[ix])\n",
    "#     print(loss.item())\n",
    "    #backward pass\n",
    "    for p in parameters:\n",
    "        p.grad = None\n",
    "    loss.backward()  \n",
    "    lr = 10**-1 #lrs[i]\n",
    "    for p in parameters:\n",
    "        p.data += -lr * p.grad\n",
    "        \n",
    "    #track stats\n",
    "#     lrei.append(lre[i])\n",
    "#     lossi.append(loss.item())\n",
    "        \n",
    "print(loss.item()) "
   ]
  },
  {
   "cell_type": "markdown",
   "id": "d276a67b",
   "metadata": {},
   "source": [
    "Decay the learning rate"
   ]
  },
  {
   "cell_type": "code",
   "execution_count": null,
   "id": "a812cf48",
   "metadata": {},
   "outputs": [
    {
     "name": "stdout",
     "output_type": "stream",
     "text": [
      "2.535987615585327\n"
     ]
    }
   ],
   "source": [
    "lrei = []\n",
    "lossi = []\n",
    "for i in range(20000):\n",
    "    #  minibatch construct\n",
    "    ix = torch.randint(0,Xtr.shape[0],(32,))\n",
    "    # forward pass\n",
    "    emb = C[Xtr[ix]] #(32,3,2)\n",
    "    h = torch.tanh(emb.view((-1,6)) @ W1 + b1) #(32,100)\n",
    "    logits = h @ W2 + b2 #(32,27)\n",
    "    loss = F.cross_entropy(logits, Ytr[ix])\n",
    "#     print(loss.item())\n",
    "    #backward pass\n",
    "    for p in parameters:\n",
    "        p.grad = None\n",
    "    loss.backward()  \n",
    "    lr = 10**-2 #lrs[i]\n",
    "    for p in parameters:\n",
    "        p.data += -lr * p.grad\n",
    "        \n",
    "    #track stats\n",
    "#     lrei.append(lre[i])\n",
    "#     lossi.append(loss.item())\n",
    "        \n",
    "print(loss.item()) "
   ]
  },
  {
   "cell_type": "markdown",
   "id": "38f412a0",
   "metadata": {},
   "source": [
    "Evaluate on the Dev set"
   ]
  },
  {
   "cell_type": "code",
   "execution_count": null,
   "id": "e0fb9209",
   "metadata": {},
   "outputs": [
    {
     "name": "stdout",
     "output_type": "stream",
     "text": [
      "2.32991361618042\n"
     ]
    }
   ],
   "source": [
    "emb = C[Xdev]\n",
    "h = torch.tanh(emb.view((-1,6)) @ W1 + b1) #(32,100)\n",
    "logits = h @ W2 + b2\n",
    "loss = F.cross_entropy(logits, Ydev)\n",
    "print(loss.item())"
   ]
  },
  {
   "cell_type": "markdown",
   "id": "05246c26",
   "metadata": {},
   "source": [
    "## Scale up the neural net"
   ]
  },
  {
   "cell_type": "code",
   "execution_count": null,
   "id": "9cd37983",
   "metadata": {},
   "outputs": [
    {
     "name": "stdout",
     "output_type": "stream",
     "text": [
      "10281\n"
     ]
    }
   ],
   "source": [
    "g = torch.Generator().manual_seed(2147483647)\n",
    "C = torch.randn((27,2), generator=g)\n",
    "\n",
    "W1 = torch.randn((6,300), generator=g) # 300 neurons each taking 6 inputs\n",
    "b1 = torch.randn((300), generator=g) # the bias for each of the 300 neurons\n",
    "\n",
    "W2 = torch.randn((300,27), generator=g) # 27 neurons each taking 300 inputs\n",
    "b2 = torch.randn(27, generator=g)\n",
    "\n",
    "parameters = [C, W1, b1, W2, b2]\n",
    "\n",
    "print(sum([p.nelement() for p in parameters]))\n",
    "\n",
    "for p in parameters:\n",
    "    p.requires_grad = True"
   ]
  },
  {
   "cell_type": "code",
   "execution_count": null,
   "id": "8dea2630",
   "metadata": {},
   "outputs": [
    {
     "name": "stdout",
     "output_type": "stream",
     "text": [
      "2.2436883449554443\n"
     ]
    }
   ],
   "source": [
    "lrei = []\n",
    "lossi = []\n",
    "stepi = []\n",
    "for i in range(30000):\n",
    "    #  minibatch construct\n",
    "    ix = torch.randint(0,Xtr.shape[0],(32,))\n",
    "    # forward pass\n",
    "    emb = C[Xtr[ix]] #(32,3,2)\n",
    "    h = torch.tanh(emb.view((-1,6)) @ W1 + b1) #(32,100)\n",
    "    logits = h @ W2 + b2 #(32,27)\n",
    "    loss = F.cross_entropy(logits, Ytr[ix])\n",
    "#     print(loss.item())\n",
    "    #backward pass\n",
    "    for p in parameters:\n",
    "        p.grad = None\n",
    "    loss.backward()  \n",
    "    lr = 10**-2 #lrs[i]\n",
    "    for p in parameters:\n",
    "        p.data += -lr * p.grad\n",
    "        \n",
    "    #track stats\n",
    "#     lrei.append(lre[i])\n",
    "    lossi.append(loss.item())\n",
    "    stepi.append(i)\n",
    "        \n",
    "print(loss.item()) "
   ]
  },
  {
   "cell_type": "code",
   "execution_count": null,
   "id": "c3dc14d6",
   "metadata": {},
   "outputs": [
    {
     "data": {
      "text/plain": [
       "[<matplotlib.lines.Line2D>]"
      ]
     },
     "execution_count": null,
     "metadata": {},
     "output_type": "execute_result"
    },
    {
     "data": {
      "image/png": "[encoded data removed]",
      "text/plain": [
       "<Figure size 640x480 with 1 Axes>"
      ]
     },
     "metadata": {},
     "output_type": "display_data"
    }
   ],
   "source": [
    "plt.plot(stepi, lossi)"
   ]
  },
  {
   "cell_type": "code",
   "execution_count": null,
   "id": "ef56fce3",
   "metadata": {},
   "outputs": [
    {
     "name": "stdout",
     "output_type": "stream",
     "text": [
      "2.228832483291626\n"
     ]
    }
   ],
   "source": [
    "emb = C[Xdev]\n",
    "h = torch.tanh(emb.view((-1,6)) @ W1 + b1) #(32,100)\n",
    "logits = h @ W2 + b2\n",
    "loss = F.cross_entropy(logits, Ydev)\n",
    "print(loss.item())"
   ]
  },
  {
   "cell_type": "markdown",
   "id": "262f4e38",
   "metadata": {},
   "source": [
    "## Visualize embedding\n",
    "\n",
    "Observe how most of the vowels are clustered to the bottom left. q seems to be far and on it's own"
   ]
  },
  {
   "cell_type": "code",
   "execution_count": null,
   "id": "9ca71f00",
   "metadata": {},
   "outputs": [
    {
     "data": {
      "image/png": "[encoded data removed]",
      "text/plain": [
       "<Figure size 800x800 with 1 Axes>"
      ]
     },
     "metadata": {},
     "output_type": "display_data"
    }
   ],
   "source": [
    "plt.figure(figsize=(8,8))\n",
    "plt.scatter(C[:,0].data,C[:,1].data,s=200)\n",
    "for i in range(C.shape[0]):\n",
    "    plt.text(C[i,0].item(),C[i,1].item(),itos[i],ha=\"center\",va=\"center\",color=\"white\")\n",
    "plt.grid(\"minor\")    "
   ]
  },
  {
   "cell_type": "markdown",
   "id": "01a4d091",
   "metadata": {},
   "source": [
    "## Let's make the embedding vector bigger\n",
    "\n",
    "This may be the bottleneck to getting a better loss."
   ]
  },
  {
   "cell_type": "code",
   "execution_count": null,
   "id": "a681039f",
   "metadata": {},
   "outputs": [
    {
     "name": "stdout",
     "output_type": "stream",
     "text": [
      "11897\n"
     ]
    }
   ],
   "source": [
    "g = torch.Generator().manual_seed(2147483647)\n",
    "C = torch.randn((27,10), generator=g)\n",
    "\n",
    "W1 = torch.randn((30,200), generator=g) # 200 neurons each taking 30 inputs (10 per character in the context)\n",
    "b1 = torch.randn((200), generator=g) # the bias for each of the 200 neurons\n",
    "\n",
    "W2 = torch.randn((200,27), generator=g) # 27 neurons each taking 200 inputs\n",
    "b2 = torch.randn(27, generator=g)\n",
    "\n",
    "parameters = [C, W1, b1, W2, b2]\n",
    "\n",
    "print(sum([p.nelement() for p in parameters]))\n",
    "\n",
    "for p in parameters:\n",
    "    p.requires_grad = True"
   ]
  },
  {
   "cell_type": "code",
   "execution_count": null,
   "id": "58c53332",
   "metadata": {},
   "outputs": [],
   "source": [
    "lrei = []\n",
    "lossi = []\n",
    "stepi = []"
   ]
  },
  {
   "cell_type": "code",
   "execution_count": null,
   "id": "13badc1f",
   "metadata": {},
   "outputs": [
    {
     "name": "stdout",
     "output_type": "stream",
     "text": [
      "1.8843928575515747\n"
     ]
    }
   ],
   "source": [
    "for i in range(200000):\n",
    "    #  minibatch construct\n",
    "    ix = torch.randint(0,Xtr.shape[0],(32,))\n",
    "    # forward pass\n",
    "    emb = C[Xtr[ix]] #(32,3,2)\n",
    "    h = torch.tanh(emb.view((-1,30)) @ W1 + b1) #(32,100)\n",
    "    logits = h @ W2 + b2 #(32,27)\n",
    "    loss = F.cross_entropy(logits, Ytr[ix])\n",
    "#     print(loss.item())\n",
    "    #backward pass\n",
    "    for p in parameters:\n",
    "        p.grad = None\n",
    "    loss.backward()  \n",
    "    lr = 10**-1 if i < 100000 else 10**-2 #lrs[i]\n",
    "    for p in parameters:\n",
    "        p.data += -lr * p.grad\n",
    "        \n",
    "    #track stats\n",
    "#     lrei.append(lre[i])\n",
    "    lossi.append(loss.log10().item()) #track log loss for o/w plot has a hockey stick shape\n",
    "    stepi.append(i)\n",
    "        \n",
    "print(loss.item()) "
   ]
  },
  {
   "cell_type": "code",
   "execution_count": null,
   "id": "04152dd2",
   "metadata": {},
   "outputs": [
    {
     "data": {
      "text/plain": [
       "[<matplotlib.lines.Line2D>]"
      ]
     },
     "execution_count": null,
     "metadata": {},
     "output_type": "execute_result"
    },
    {
     "data": {
      "image/png": "[encoded data removed]",
      "text/plain": [
       "<Figure size 640x480 with 1 Axes>"
      ]
     },
     "metadata": {},
     "output_type": "display_data"
    }
   ],
   "source": [
    "plt.plot(stepi, lossi)"
   ]
  },
  {
   "cell_type": "code",
   "execution_count": null,
   "id": "493dbff8",
   "metadata": {},
   "outputs": [
    {
     "name": "stdout",
     "output_type": "stream",
     "text": [
      "2.1519885063171387\n"
     ]
    }
   ],
   "source": [
    "emb = C[Xdev]\n",
    "h = torch.tanh(emb.view((-1,30)) @ W1 + b1) #(32,100)\n",
    "logits = h @ W2 + b2\n",
    "loss = F.cross_entropy(logits, Ydev)\n",
    "print(loss.item())"
   ]
  },
  {
   "cell_type": "markdown",
   "id": "2101bd8d",
   "metadata": {},
   "source": [
    "##  Sample from the model"
   ]
  },
  {
   "cell_type": "code",
   "execution_count": null,
   "id": "a8952c1d",
   "metadata": {},
   "outputs": [
    {
     "name": "stdout",
     "output_type": "stream",
     "text": [
      "carmahzari.\n",
      "harli.\n",
      "jorri.\n",
      "taty.\n",
      "ska.\n",
      "sane.\n",
      "mahnen.\n",
      "delyah.\n",
      "jareei.\n",
      "ner.\n",
      "kiah.\n",
      "maiir.\n",
      "kaleigh.\n",
      "ham.\n",
      "jorn.\n",
      "quintis.\n",
      "lilea.\n",
      "jadzi.\n",
      "wajerma.\n",
      "jarysi.\n"
     ]
    }
   ],
   "source": [
    "g = torch.Generator().manual_seed(2147483647 + 10)\n",
    "\n",
    "for _ in range(20):\n",
    "    out=[]\n",
    "    context = [0]*block_size\n",
    "    while True:\n",
    "        emb = C[torch.tensor([context])]\n",
    "        h = torch.tanh(emb.view((1,-1)) @ W1 + b1)\n",
    "        logits = h @ W2 + b2\n",
    "        probs = F.softmax(logits, dim=1)\n",
    "        \n",
    "        ix = torch.multinomial(probs, num_samples=1, generator=g).item()\n",
    "        context = context[1:]+[ix]\n",
    "        out.append(ix)\n",
    "        if ix == 0:\n",
    "            break\n",
    "    print(''.join([itos[i] for i in out]))"
   ]
  },
  {
   "cell_type": "markdown",
   "id": "59469fc3",
   "metadata": {},
   "source": [
    "# Next steps\n",
    "\n",
    "* Beat 2.17 validation loss. Some ideas:\n",
    "    * change context size\n",
    "    * number of neurons in hidden layer\n",
    "    * embedding size\n",
    "    * batch size\n",
    "    * learning rate and decay\n",
    "* Read the paper"
   ]
  },
  {
   "cell_type": "code",
   "execution_count": null,
   "id": "cdae117c",
   "metadata": {},
   "outputs": [],
   "source": []
  },
  {
   "cell_type": "code",
   "execution_count": null,
   "id": "9d9a281e",
   "metadata": {},
   "outputs": [],
   "source": []
  }
 ],
 "metadata": {
  "kernelspec": {
   "display_name": "python3",
   "language": "python",
   "name": "python3"
  }
 },
 "nbformat": 4,
 "nbformat_minor": 5
}
