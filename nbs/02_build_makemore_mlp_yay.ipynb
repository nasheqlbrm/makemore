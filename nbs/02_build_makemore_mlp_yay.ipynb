{
 "cells": [
  {
   "cell_type": "markdown",
   "id": "01f12e46",
   "metadata": {},
   "source": [
    "# Build makmore MLP"
   ]
  },
  {
   "cell_type": "code",
   "execution_count": null,
   "id": "d33d581d",
   "metadata": {},
   "outputs": [],
   "source": [
    "import torch\n",
    "import torch.nn.functional as F\n",
    "import matplotlib.pyplot as plt\n",
    "%matplotlib inline"
   ]
  },
  {
   "cell_type": "code",
   "execution_count": null,
   "id": "e06b8f39",
   "metadata": {},
   "outputs": [
    {
     "data": {
      "text/plain": [
       "['emma', 'olivia', 'ava', 'isabella', 'sophia', 'charlotte', 'mia', 'amelia']"
      ]
     },
     "execution_count": null,
     "metadata": {},
     "output_type": "execute_result"
    }
   ],
   "source": [
    "words = open('../names.txt','r').read().splitlines()\n",
    "words[:8]"
   ]
  },
  {
   "cell_type": "code",
   "execution_count": null,
   "id": "31c375fa",
   "metadata": {},
   "outputs": [
    {
     "data": {
      "text/plain": [
       "32033"
      ]
     },
     "execution_count": null,
     "metadata": {},
     "output_type": "execute_result"
    }
   ],
   "source": [
    "len(words)"
   ]
  },
  {
   "cell_type": "markdown",
   "id": "2c6554f1",
   "metadata": {},
   "source": [
    "## Build the dataset"
   ]
  },
  {
   "cell_type": "code",
   "execution_count": null,
   "id": "f16ceee7",
   "metadata": {},
   "outputs": [
    {
     "name": "stdout",
     "output_type": "stream",
     "text": [
      "{1: 'a', 2: 'b', 3: 'c', 4: 'd', 5: 'e', 6: 'f', 7: 'g', 8: 'h', 9: 'i', 10: 'j', 11: 'k', 12: 'l', 13: 'm', 14: 'n', 15: 'o', 16: 'p', 17: 'q', 18: 'r', 19: 's', 20: 't', 21: 'u', 22: 'v', 23: 'w', 24: 'x', 25: 'y', 26: 'z', 0: '.'}\n"
     ]
    }
   ],
   "source": [
    "chars = sorted(set(list(''.join(words))))\n",
    "stoi = {char:idx+1 for idx,char in enumerate(chars)}\n",
    "stoi['.'] = 0 \n",
    "itos = {idx:char for char, idx in stoi.items()}\n",
    "print(itos)"
   ]
  },
  {
   "cell_type": "markdown",
   "id": "08b4efe0",
   "metadata": {},
   "source": [
    "#|hide\n",
    "03/23/23 Stop at 10:22 / 1:15:39"
   ]
  },
  {
   "cell_type": "code",
   "execution_count": null,
   "id": "984b0533",
   "metadata": {},
   "outputs": [
    {
     "name": "stdout",
     "output_type": "stream",
     "text": [
      "emma\n",
      "...\n",
      "..e\n",
      ".em\n",
      "emm\n",
      "mma\n",
      "olivia\n",
      "...\n",
      "..o\n",
      ".ol\n",
      "oli\n",
      "liv\n",
      "ivi\n",
      "via\n",
      "ava\n",
      "...\n",
      "..a\n",
      ".av\n",
      "ava\n",
      "isabella\n",
      "...\n",
      "..i\n",
      ".is\n",
      "isa\n",
      "sab\n",
      "abe\n",
      "bel\n",
      "ell\n",
      "lla\n",
      "sophia\n",
      "...\n",
      "..s\n",
      ".so\n",
      "sop\n",
      "oph\n",
      "phi\n",
      "hia\n"
     ]
    }
   ],
   "source": [
    "block_size = 3 #characters to take as context before predicting the next\n",
    "\n",
    "X,Y=[],[]\n",
    "for w in words[:5]:\n",
    "    print(w)\n",
    "    context = [0]*block_size\n",
    "    for ch in w + '.':\n",
    "        ix=stoi[ch]\n",
    "        X.append(context)\n",
    "        Y.append(ix)\n",
    "        print(''.join(itos[i] for i in context))\n",
    "        context = context[1:] + [ix]\n",
    "        \n",
    "X = torch.tensor(X)\n",
    "Y = torch.tensor(Y)"
   ]
  },
  {
   "cell_type": "code",
   "execution_count": null,
   "id": "b255a2b1",
   "metadata": {},
   "outputs": [
    {
     "data": {
      "text/plain": [
       "(torch.Size([32, 3]), torch.int64, torch.Size([32]), torch.int64)"
      ]
     },
     "execution_count": null,
     "metadata": {},
     "output_type": "execute_result"
    }
   ],
   "source": [
    "X.shape, X.dtype, Y.shape, Y.dtype"
   ]
  },
  {
   "cell_type": "code",
   "execution_count": null,
   "id": "5b5c6ae8",
   "metadata": {},
   "outputs": [],
   "source": [
    "# We will embed the 27 characters into 2-d space\n",
    "C = torch.randn((27,2))"
   ]
  },
  {
   "cell_type": "code",
   "execution_count": null,
   "id": "919ab4c2",
   "metadata": {},
   "outputs": [
    {
     "data": {
      "text/plain": [
       "tensor([0.8425, 0.3145])"
      ]
     },
     "execution_count": null,
     "metadata": {},
     "output_type": "execute_result"
    }
   ],
   "source": [
    "C[5]"
   ]
  },
  {
   "cell_type": "code",
   "execution_count": null,
   "id": "c5add5bd",
   "metadata": {},
   "outputs": [
    {
     "data": {
      "text/plain": [
       "tensor([0.8425, 0.3145])"
      ]
     },
     "execution_count": null,
     "metadata": {},
     "output_type": "execute_result"
    }
   ],
   "source": [
    "#|hide\n",
    "# Identical to indexing into the embedding table\n",
    "# directly\n",
    "F.one_hot(torch.tensor(5), num_classes=27).float() @ C"
   ]
  },
  {
   "cell_type": "code",
   "execution_count": null,
   "id": "1ffc5d1e",
   "metadata": {},
   "outputs": [
    {
     "data": {
      "text/plain": [
       "tensor([[ 0.8425,  0.3145],\n",
       "        [ 0.8930,  1.2062],\n",
       "        [-1.6647, -1.2650],\n",
       "        [-1.6647, -1.2650]])"
      ]
     },
     "execution_count": null,
     "metadata": {},
     "output_type": "execute_result"
    }
   ],
   "source": [
    "#|hide\n",
    "C[[5,6,7,7]]"
   ]
  },
  {
   "cell_type": "code",
   "execution_count": null,
   "id": "5754b80d",
   "metadata": {},
   "outputs": [
    {
     "data": {
      "text/plain": [
       "tensor([[ 0.8425,  0.3145],\n",
       "        [ 0.8930,  1.2062],\n",
       "        [-1.6647, -1.2650],\n",
       "        [-1.6647, -1.2650]])"
      ]
     },
     "execution_count": null,
     "metadata": {},
     "output_type": "execute_result"
    }
   ],
   "source": [
    "#|hide\n",
    "C[torch.tensor([5,6,7,7])]"
   ]
  },
  {
   "cell_type": "code",
   "execution_count": null,
   "id": "43178d0e",
   "metadata": {},
   "outputs": [
    {
     "data": {
      "text/plain": [
       "torch.Size([32, 3])"
      ]
     },
     "execution_count": null,
     "metadata": {},
     "output_type": "execute_result"
    }
   ],
   "source": [
    "#|hide\n",
    "X.shape"
   ]
  },
  {
   "cell_type": "code",
   "execution_count": null,
   "id": "dbc26395",
   "metadata": {},
   "outputs": [
    {
     "data": {
      "text/plain": [
       "torch.Size([32, 3, 2])"
      ]
     },
     "execution_count": null,
     "metadata": {},
     "output_type": "execute_result"
    }
   ],
   "source": [
    "#|hide\n",
    "C[X].shape"
   ]
  },
  {
   "cell_type": "code",
   "execution_count": null,
   "id": "79531341",
   "metadata": {},
   "outputs": [
    {
     "data": {
      "text/plain": [
       "torch.Size([32, 3, 2])"
      ]
     },
     "execution_count": null,
     "metadata": {},
     "output_type": "execute_result"
    }
   ],
   "source": [
    "emb = C[X]\n",
    "emb.shape"
   ]
  },
  {
   "cell_type": "code",
   "execution_count": null,
   "id": "3117e7b0",
   "metadata": {},
   "outputs": [],
   "source": [
    "W1 = torch.randn((6,100)) # 100 neurons each taking 6 inputs\n",
    "b1 = torch.randn((100)) # the bias for each of the 100 neurons"
   ]
  },
  {
   "cell_type": "code",
   "execution_count": null,
   "id": "341f1b4f",
   "metadata": {},
   "outputs": [
    {
     "data": {
      "text/plain": [
       "torch.Size([32, 2])"
      ]
     },
     "execution_count": null,
     "metadata": {},
     "output_type": "execute_result"
    }
   ],
   "source": [
    "#|hide\n",
    "# pluck out the embeddings for the first character\n",
    "# in the context\n",
    "emb[:,0,:].shape"
   ]
  },
  {
   "cell_type": "code",
   "execution_count": null,
   "id": "8b13876c",
   "metadata": {},
   "outputs": [
    {
     "data": {
      "text/plain": [
       "torch.Size([32, 6])"
      ]
     },
     "execution_count": null,
     "metadata": {},
     "output_type": "execute_result"
    }
   ],
   "source": [
    "#|hide\n",
    "# pluck out the embeddings for the first, second and \n",
    "# third character in the context and concatenate them\n",
    "torch.cat([emb[:,0,:],emb[:,1,:],emb[:,2,:]], dim=1).shape"
   ]
  },
  {
   "cell_type": "code",
   "execution_count": null,
   "id": "ca924a64",
   "metadata": {},
   "outputs": [
    {
     "data": {
      "text/plain": [
       "(3, 32, tensor([ 0.1410, -0.9693]))"
      ]
     },
     "execution_count": null,
     "metadata": {},
     "output_type": "execute_result"
    }
   ],
   "source": [
    "#|hide\n",
    "# unbind allows us to get a list of tensors\n",
    "# equivalent to our manual plucking of embeddings in the\n",
    "# previous line\n",
    "len(torch.unbind(emb,1)), len(torch.unbind(emb,1)[0]), torch.unbind(emb,1)[0][0]"
   ]
  },
  {
   "cell_type": "code",
   "execution_count": null,
   "id": "f09da24e",
   "metadata": {},
   "outputs": [
    {
     "data": {
      "text/plain": [
       "torch.Size([32, 6])"
      ]
     },
     "execution_count": null,
     "metadata": {},
     "output_type": "execute_result"
    }
   ],
   "source": [
    "#|hide\n",
    "torch.cat(torch.unbind(emb,dim=1), dim=1).shape"
   ]
  },
  {
   "cell_type": "code",
   "execution_count": null,
   "id": "6e15c91e",
   "metadata": {},
   "outputs": [
    {
     "data": {
      "text/plain": [
       "tensor([ 0,  1,  2,  3,  4,  5,  6,  7,  8,  9, 10, 11, 12, 13, 14, 15, 16, 17])"
      ]
     },
     "execution_count": null,
     "metadata": {},
     "output_type": "execute_result"
    }
   ],
   "source": [
    "#|hide\n",
    "a = torch.arange(18)\n",
    "a"
   ]
  },
  {
   "cell_type": "code",
   "execution_count": null,
   "id": "ed1b935f",
   "metadata": {},
   "outputs": [
    {
     "data": {
      "text/plain": [
       "torch.Size([18])"
      ]
     },
     "execution_count": null,
     "metadata": {},
     "output_type": "execute_result"
    }
   ],
   "source": [
    "#|hide\n",
    "a.shape"
   ]
  },
  {
   "cell_type": "code",
   "execution_count": null,
   "id": "d340c906",
   "metadata": {},
   "outputs": [
    {
     "data": {
      "text/plain": [
       "tensor([[ 0,  1,  2,  3,  4,  5,  6,  7,  8],\n",
       "        [ 9, 10, 11, 12, 13, 14, 15, 16, 17]])"
      ]
     },
     "execution_count": null,
     "metadata": {},
     "output_type": "execute_result"
    }
   ],
   "source": [
    "#|hide\n",
    "# .view is extremely efficient\n",
    "a.view(2,9)"
   ]
  },
  {
   "cell_type": "code",
   "execution_count": null,
   "id": "5773140d",
   "metadata": {},
   "outputs": [
    {
     "data": {
      "text/plain": [
       "tensor([[[ 0,  1,  2],\n",
       "         [ 3,  4,  5],\n",
       "         [ 6,  7,  8]],\n",
       "\n",
       "        [[ 9, 10, 11],\n",
       "         [12, 13, 14],\n",
       "         [15, 16, 17]]])"
      ]
     },
     "execution_count": null,
     "metadata": {},
     "output_type": "execute_result"
    }
   ],
   "source": [
    "#|hide\n",
    "a.view(2,3,3)"
   ]
  },
  {
   "cell_type": "code",
   "execution_count": null,
   "id": "2dd7c89e",
   "metadata": {},
   "outputs": [
    {
     "data": {
      "text/plain": [
       " 0\n",
       " 1\n",
       " 2\n",
       " 3\n",
       " 4\n",
       " 5\n",
       " 6\n",
       " 7\n",
       " 8\n",
       " 9\n",
       " 10\n",
       " 11\n",
       " 12\n",
       " 13\n",
       " 14\n",
       " 15\n",
       " 16\n",
       " 17\n",
       "[torch.storage.TypedStorage(dtype=torch.int64, device=cpu) of size 18]"
      ]
     },
     "execution_count": null,
     "metadata": {},
     "output_type": "execute_result"
    }
   ],
   "source": [
    "#|hide\n",
    "a.storage()"
   ]
  },
  {
   "cell_type": "code",
   "execution_count": null,
   "id": "753afde1",
   "metadata": {},
   "outputs": [
    {
     "data": {
      "text/plain": [
       "tensor([[True, True, True, True, True, True],\n",
       "        [True, True, True, True, True, True],\n",
       "        [True, True, True, True, True, True],\n",
       "        [True, True, True, True, True, True],\n",
       "        [True, True, True, True, True, True],\n",
       "        [True, True, True, True, True, True],\n",
       "        [True, True, True, True, True, True],\n",
       "        [True, True, True, True, True, True],\n",
       "        [True, True, True, True, True, True],\n",
       "        [True, True, True, True, True, True],\n",
       "        [True, True, True, True, True, True],\n",
       "        [True, True, True, True, True, True],\n",
       "        [True, True, True, True, True, True],\n",
       "        [True, True, True, True, True, True],\n",
       "        [True, True, True, True, True, True],\n",
       "        [True, True, True, True, True, True],\n",
       "        [True, True, True, True, True, True],\n",
       "        [True, True, True, True, True, True],\n",
       "        [True, True, True, True, True, True],\n",
       "        [True, True, True, True, True, True],\n",
       "        [True, True, True, True, True, True],\n",
       "        [True, True, True, True, True, True],\n",
       "        [True, True, True, True, True, True],\n",
       "        [True, True, True, True, True, True],\n",
       "        [True, True, True, True, True, True],\n",
       "        [True, True, True, True, True, True],\n",
       "        [True, True, True, True, True, True],\n",
       "        [True, True, True, True, True, True],\n",
       "        [True, True, True, True, True, True],\n",
       "        [True, True, True, True, True, True],\n",
       "        [True, True, True, True, True, True],\n",
       "        [True, True, True, True, True, True]])"
      ]
     },
     "execution_count": null,
     "metadata": {},
     "output_type": "execute_result"
    }
   ],
   "source": [
    "#|hide\n",
    "emb.view((32,6)) == torch.cat(torch.unbind(emb,dim=1), dim=1)"
   ]
  },
  {
   "cell_type": "code",
   "execution_count": null,
   "id": "233ddbff",
   "metadata": {},
   "outputs": [
    {
     "data": {
      "text/plain": [
       "tensor([[ 0.2321,  0.8842, -0.3949,  ..., -0.9303,  0.9055,  0.9973],\n",
       "        [ 0.8935,  0.9244,  0.4600,  ..., -0.9758,  0.6007,  0.3516],\n",
       "        [-0.1606, -0.2722,  0.9683,  ..., -0.9979,  0.9871,  0.5120],\n",
       "        ...,\n",
       "        [ 0.5043, -0.9989,  0.3366,  ..., -0.9225, -0.9290, -0.8909],\n",
       "        [-0.1081, -0.7365,  0.2289,  ...,  0.7690, -0.9949, -1.0000],\n",
       "        [-0.9999, -0.9561,  0.9999,  ..., -0.9973,  1.0000, -0.9909]])"
      ]
     },
     "execution_count": null,
     "metadata": {},
     "output_type": "execute_result"
    }
   ],
   "source": [
    "#|hide \n",
    "h = torch.tanh(emb.view((-1,6)) @ W1 + b1)\n",
    "h"
   ]
  },
  {
   "cell_type": "code",
   "execution_count": null,
   "id": "a0bbfd7a",
   "metadata": {},
   "outputs": [
    {
     "data": {
      "text/plain": [
       "torch.Size([32, 100])"
      ]
     },
     "execution_count": null,
     "metadata": {},
     "output_type": "execute_result"
    }
   ],
   "source": [
    "#|hide\n",
    "h.shape"
   ]
  },
  {
   "cell_type": "markdown",
   "id": "35387fbb",
   "metadata": {},
   "source": [
    "#|hide\n",
    "03/27/23 Stop at 28:33 / 1:15:39"
   ]
  },
  {
   "cell_type": "code",
   "execution_count": null,
   "id": "1b2b8792",
   "metadata": {},
   "outputs": [],
   "source": [
    "W2 = torch.randn((100,27)) # 27 neurons each taking 100 inputs\n",
    "b2 = torch.randn(27) # the biases for these neurons"
   ]
  },
  {
   "cell_type": "code",
   "execution_count": null,
   "id": "ffd54c3e",
   "metadata": {},
   "outputs": [],
   "source": [
    "logits = h @ W2 + b2"
   ]
  },
  {
   "cell_type": "code",
   "execution_count": null,
   "id": "26b253e7",
   "metadata": {},
   "outputs": [
    {
     "data": {
      "text/plain": [
       "torch.Size([32, 27])"
      ]
     },
     "execution_count": null,
     "metadata": {},
     "output_type": "execute_result"
    }
   ],
   "source": [
    "#|hide\n",
    "logits.shape"
   ]
  },
  {
   "cell_type": "code",
   "execution_count": null,
   "id": "ad03e7da",
   "metadata": {},
   "outputs": [
    {
     "data": {
      "text/plain": [
       "tensor([[ 4.0534e+00,  2.8155e+00,  8.3932e+00, -8.5655e+00, -1.0642e+01,\n",
       "         -3.7789e+00,  1.1983e+01,  1.4416e+01, -1.7913e+00,  1.0491e+01,\n",
       "         -3.8777e+00,  6.2393e+00,  1.4216e+01, -6.1704e+00, -1.2285e+00,\n",
       "          1.7222e+01,  1.3303e+01,  6.6962e+00, -2.1041e+00, -5.3312e+00,\n",
       "         -2.5310e+00,  1.5954e+01,  7.9101e+00,  2.1804e+01, -9.4494e+00,\n",
       "         -5.1376e+00, -3.0385e+00],\n",
       "        [-3.9419e+00, -2.0030e+00,  9.6213e+00, -1.3761e+01, -1.8332e+00,\n",
       "         -4.9217e+00,  1.1379e+01,  8.4836e+00, -1.1214e+01,  9.1936e+00,\n",
       "          1.1317e+00,  1.3088e+00,  1.0536e+01, -2.4659e-01,  2.4150e+00,\n",
       "          3.3822e+00,  2.2016e+00,  7.7727e+00,  9.0946e-01, -4.3787e+00,\n",
       "         -7.3824e+00,  6.2250e+00,  1.2186e+01,  1.4452e+01, -2.0017e+00,\n",
       "         -3.0360e+00, -6.6501e+00],\n",
       "        [-8.2188e-01, -1.7039e+00, -2.0108e+00, -1.1875e+01, -6.8269e+00,\n",
       "          3.0404e+00,  8.1591e-01,  5.7254e+00,  1.3021e+00,  5.8640e+00,\n",
       "          6.3562e+00, -4.3840e+00,  8.0817e+00,  2.5327e+00,  6.9441e+00,\n",
       "         -7.8111e+00,  1.2065e+01, -6.3950e+00,  3.7475e-01,  3.7048e-01,\n",
       "         -9.6707e-01,  1.1837e+00,  1.0680e+01,  1.5605e+01, -5.2727e+00,\n",
       "         -4.6666e+00, -4.2912e+00],\n",
       "        [ 2.8325e-02,  3.5202e+00, -1.0179e+01, -1.5647e+01, -3.3886e+00,\n",
       "          1.7179e+00,  4.2791e+00,  1.1353e+01, -1.1436e+01, -2.3710e-01,\n",
       "          5.4432e+00, -3.3500e+00,  2.8970e+00, -6.5388e-02,  1.1896e+01,\n",
       "         -9.9854e-01,  1.7491e+01, -9.9092e+00, -5.9300e+00,  5.8226e+00,\n",
       "         -1.3586e+01,  5.6399e+00,  1.1274e+01,  1.6478e+01, -3.3186e+00,\n",
       "          1.5310e+01,  5.8771e+00],\n",
       "        [ 1.1692e+00,  3.9163e+00, -6.2414e+00, -6.3646e+00, -1.0250e+00,\n",
       "         -1.9334e+00,  1.7030e+00,  1.2695e+01, -8.1302e+00,  1.1486e+01,\n",
       "          6.6047e+00, -2.7328e+00,  4.3608e+00,  5.3677e+00,  1.1529e+01,\n",
       "         -3.8465e+00,  2.1829e+01, -5.7984e+00, -3.4282e+00, -1.7090e+00,\n",
       "         -6.6479e-01, -1.0941e+00,  9.9409e+00,  1.6152e+01,  3.7762e+00,\n",
       "          1.0995e+01,  5.4551e+00],\n",
       "        [ 4.0534e+00,  2.8155e+00,  8.3932e+00, -8.5655e+00, -1.0642e+01,\n",
       "         -3.7789e+00,  1.1983e+01,  1.4416e+01, -1.7913e+00,  1.0491e+01,\n",
       "         -3.8777e+00,  6.2393e+00,  1.4216e+01, -6.1704e+00, -1.2285e+00,\n",
       "          1.7222e+01,  1.3303e+01,  6.6962e+00, -2.1041e+00, -5.3312e+00,\n",
       "         -2.5310e+00,  1.5954e+01,  7.9101e+00,  2.1804e+01, -9.4494e+00,\n",
       "         -5.1376e+00, -3.0385e+00],\n",
       "        [-5.2070e+00, -2.3115e+00,  1.2558e+01, -1.3518e+01, -5.1697e-01,\n",
       "         -2.8395e+00,  1.2853e+01,  6.2655e+00, -1.8157e+01,  8.5869e-01,\n",
       "         -2.3676e+00, -1.2601e+00,  6.5641e+00, -1.1285e+00,  2.3596e+00,\n",
       "          2.1403e+00,  5.3644e-01,  3.8374e+00,  3.7606e+00, -2.9388e+00,\n",
       "         -9.1523e+00,  7.3074e+00,  1.6628e+01,  1.1271e+01, -8.5792e-02,\n",
       "         -1.2590e+00, -6.0212e+00],\n",
       "        [-7.1282e+00, -7.5433e+00,  7.6913e+00, -2.2512e+01, -1.2856e+01,\n",
       "          1.1550e+01,  1.1719e+01,  1.3647e+00,  8.4247e+00, -1.9699e+01,\n",
       "          8.7730e+00, -8.8626e+00, -2.7021e+00, -7.5495e+00, -6.7097e+00,\n",
       "         -8.2361e+00, -2.1728e+00, -4.1205e+00, -7.7600e+00,  6.0404e+00,\n",
       "         -7.7395e+00,  2.7961e+00,  9.4772e+00,  3.7113e+00, -2.7512e+00,\n",
       "         -1.2138e+01, -1.0625e+01],\n",
       "        [-1.1890e+01,  9.3846e+00,  7.1771e-01, -4.0297e+00, -4.3675e+00,\n",
       "          8.2071e+00,  5.4814e-01, -5.3667e+00, -1.0312e+01, -1.3333e+01,\n",
       "          2.4975e-01,  4.6629e+00, -1.5053e+01, -8.1619e+00,  1.1167e+01,\n",
       "         -8.0779e+00,  1.1699e+00, -1.2363e+01,  2.7098e+00, -1.6375e-01,\n",
       "         -2.0007e+01, -1.0639e+01,  4.2081e+00, -3.4056e+00,  5.9449e+00,\n",
       "          4.6378e+00,  7.6102e+00],\n",
       "        [-2.7467e+00,  5.6768e+00, -6.9148e+00, -1.4234e+01, -1.4100e+00,\n",
       "         -1.6468e-01, -8.0370e+00, -7.6449e+00, -1.3167e+01, -2.0884e+01,\n",
       "          1.3768e+01, -5.5722e+00, -9.1005e+00,  4.4234e+00,  6.7580e+00,\n",
       "         -1.2956e+01,  2.5891e+00, -1.2407e+01,  3.9029e+00,  7.2133e+00,\n",
       "         -1.8108e+01, -1.2120e+01,  4.6032e-01, -9.9358e+00, -3.0745e+00,\n",
       "          7.5113e+00,  6.0514e-01],\n",
       "        [-7.3760e+00,  5.3870e+00, -7.3480e+00, -1.2264e+01, -2.6503e+00,\n",
       "          6.9554e+00,  3.9706e-01, -2.3064e+00, -5.5262e-01, -2.4034e+01,\n",
       "          1.0263e+01, -3.6336e+00, -9.4073e+00,  9.2652e-01,  6.3365e+00,\n",
       "         -1.5798e+01,  1.0672e+01, -1.6686e+01,  4.4959e+00,  1.0528e+01,\n",
       "         -1.4063e+01, -9.6024e+00,  3.6418e+00,  9.6387e-01,  4.4031e+00,\n",
       "          1.0208e+01,  6.2682e+00],\n",
       "        [-3.9431e+00,  6.5622e+00, -1.0706e+01, -3.4974e+00, -6.5005e+00,\n",
       "         -7.6722e-01, -9.6818e+00,  8.2579e+00, -8.1765e+00,  3.3513e+00,\n",
       "          9.3849e+00, -3.6321e+00, -7.9695e+00,  2.3228e+00,  1.7362e+01,\n",
       "         -1.1923e+01,  1.8298e+01, -1.2886e+01, -6.2503e+00,  1.2846e+00,\n",
       "         -9.7367e+00, -8.2501e+00,  7.2665e+00,  4.4992e-01,  9.6002e+00,\n",
       "          1.7910e+01,  9.0986e+00],\n",
       "        [ 4.0534e+00,  2.8155e+00,  8.3932e+00, -8.5655e+00, -1.0642e+01,\n",
       "         -3.7789e+00,  1.1983e+01,  1.4416e+01, -1.7913e+00,  1.0491e+01,\n",
       "         -3.8777e+00,  6.2393e+00,  1.4216e+01, -6.1704e+00, -1.2285e+00,\n",
       "          1.7222e+01,  1.3303e+01,  6.6962e+00, -2.1041e+00, -5.3312e+00,\n",
       "         -2.5310e+00,  1.5954e+01,  7.9101e+00,  2.1804e+01, -9.4494e+00,\n",
       "         -5.1376e+00, -3.0385e+00],\n",
       "        [ 2.6794e+00,  4.5371e+00,  3.5392e+00, -9.9955e+00, -1.0902e+01,\n",
       "         -9.5735e+00,  1.8393e+00,  1.3716e+01,  8.2495e-02,  1.9229e+01,\n",
       "          7.0860e+00, -9.5912e-01,  5.7205e+00, -1.5384e+00,  8.5205e+00,\n",
       "          1.9613e+00,  1.6276e+01,  5.9226e+00,  2.3530e+00,  1.2036e+00,\n",
       "          1.2666e+00, -5.1719e+00,  2.5458e+00,  1.5736e+01, -1.5409e+00,\n",
       "         -2.1005e+00,  4.3426e-01],\n",
       "        [ 3.5115e+00, -7.8380e+00,  1.4427e+00, -2.7322e+01, -1.7524e+00,\n",
       "         -7.6765e+00,  5.2678e+00,  1.1591e+01, -1.9301e+01, -1.6364e+01,\n",
       "          1.7561e+01, -5.4553e+00,  1.1751e+01, -5.5811e+00,  1.5650e+01,\n",
       "         -3.1169e+00,  3.3760e+00, -1.7171e+01,  5.0169e+00,  6.9325e+00,\n",
       "         -1.7591e+01,  1.2665e+01,  2.2902e+01,  1.1739e+01, -5.9900e+00,\n",
       "          1.7254e+01, -3.4324e+00],\n",
       "        [-4.1603e+00,  1.5023e+00,  1.8242e+00, -5.4993e+00, -2.1994e+00,\n",
       "          5.8275e+00, -8.3762e+00,  4.1615e+00,  4.6214e+00,  8.6587e+00,\n",
       "          8.4233e+00, -3.7109e+00, -6.9275e+00,  1.0805e+01,  1.2683e+01,\n",
       "         -2.1133e+01,  1.3972e+01, -1.2902e+01,  7.8609e+00, -3.1904e+00,\n",
       "         -1.2956e+00, -1.0560e+01,  1.0681e+01,  1.4649e+01,  9.5157e+00,\n",
       "          5.1044e+00,  5.4541e+00],\n",
       "        [ 4.0534e+00,  2.8155e+00,  8.3932e+00, -8.5655e+00, -1.0642e+01,\n",
       "         -3.7789e+00,  1.1983e+01,  1.4416e+01, -1.7913e+00,  1.0491e+01,\n",
       "         -3.8777e+00,  6.2393e+00,  1.4216e+01, -6.1704e+00, -1.2285e+00,\n",
       "          1.7222e+01,  1.3303e+01,  6.6962e+00, -2.1041e+00, -5.3312e+00,\n",
       "         -2.5310e+00,  1.5954e+01,  7.9101e+00,  2.1804e+01, -9.4494e+00,\n",
       "         -5.1376e+00, -3.0385e+00],\n",
       "        [-3.8279e+00, -1.6426e+00,  1.0983e+01, -1.3776e+01, -2.2654e-01,\n",
       "         -4.3716e+00,  1.5845e+01,  6.5284e+00, -1.7632e+01, -8.4480e-01,\n",
       "         -3.6534e+00,  1.2372e+00,  7.6076e+00, -6.9260e-01,  9.4538e-01,\n",
       "          6.3241e+00, -3.3670e-01,  5.3600e+00,  8.9794e-01, -2.8708e+00,\n",
       "         -9.4255e+00,  9.3760e+00,  1.4906e+01,  1.3141e+01, -3.0262e+00,\n",
       "         -2.1986e+00, -6.2475e+00],\n",
       "        [-5.2792e+00, -2.9580e+00,  2.9852e+00, -9.2196e+00, -4.8557e+00,\n",
       "          1.4186e+01,  9.5593e+00,  5.2689e+00,  1.2504e+01, -3.7776e+00,\n",
       "         -3.0136e+00,  1.9471e+00,  1.8503e+00, -2.4117e+00, -1.3599e+01,\n",
       "          1.4926e+01,  1.1836e+01,  7.5178e+00, -5.0684e+00,  1.8740e+00,\n",
       "          8.2459e+00,  1.4812e+01,  3.2534e+00,  1.1697e+01, -3.7870e-01,\n",
       "         -1.2000e+01, -8.1786e-01],\n",
       "        [ 2.1617e+00,  5.7180e-01,  4.3135e+00,  6.5818e-01, -1.1192e+01,\n",
       "         -1.4163e+01,  7.1235e+00,  1.9453e+01, -1.2141e+01,  2.4555e+01,\n",
       "          1.9243e+00,  8.0992e+00, -6.0003e+00, -1.8044e-01,  1.3179e+01,\n",
       "         -1.9669e+00,  1.3558e+01,  4.3270e+00,  7.3341e+00, -9.4176e+00,\n",
       "         -1.2114e+01, -4.9867e+00, -2.2402e+00,  1.5772e+00,  6.4901e+00,\n",
       "          3.1357e+00,  4.5293e+00],\n",
       "        [ 6.4372e+00, -3.6708e+00,  3.9565e+00, -1.3804e+01, -5.6838e+00,\n",
       "          1.0185e+00,  1.3651e+01, -5.0049e+00, -1.1782e+01, -2.9323e+01,\n",
       "          7.8792e+00, -9.4418e+00,  6.5221e+00, -7.9663e+00, -7.9162e+00,\n",
       "          6.3724e+00, -1.3792e+01, -5.9369e-01, -7.7877e+00,  4.0527e+00,\n",
       "         -1.2529e+01,  9.5156e+00,  4.8737e+00,  3.4640e+00, -4.7745e+00,\n",
       "         -7.1507e+00, -6.8985e+00],\n",
       "        [-1.2699e+01,  9.3646e+00,  1.0197e+01,  7.0829e+00, -5.1007e+00,\n",
       "          7.8858e+00, -9.6863e+00, -2.6682e+00,  1.2825e+01, -6.3354e+00,\n",
       "         -3.3394e+00,  6.9771e+00, -2.3014e+01,  1.8040e+00,  2.2524e+00,\n",
       "         -1.8204e+01,  9.9749e+00, -9.9945e+00,  1.6022e+01, -6.1108e+00,\n",
       "          2.0617e+00, -1.8582e+01, -2.7736e+00,  3.6458e+00,  1.6245e+01,\n",
       "         -2.2692e+00,  2.6360e+00],\n",
       "        [-1.2202e+00,  1.4708e+00, -1.4568e+01, -8.6527e+00, -1.9046e+00,\n",
       "          5.9147e+00,  4.2186e+00, -4.4984e+00, -1.3643e+01, -1.3622e+01,\n",
       "          9.1015e+00, -4.5665e+00, -3.3401e+00,  8.1188e+00,  1.5133e+00,\n",
       "         -1.1602e+00, -5.6438e+00, -8.4369e+00, -2.8634e+01,  2.1617e-01,\n",
       "         -2.0449e+01, -4.0867e+00, -9.6092e+00, -1.8183e+01, -5.0066e+00,\n",
       "          1.1694e+00,  5.3637e+00],\n",
       "        [-1.3764e+01,  9.4344e-01,  3.8927e+00, -4.4473e+00, -8.9874e+00,\n",
       "          8.6917e+00,  1.4244e+01,  7.3558e-01, -2.8888e+00, -2.0852e+01,\n",
       "         -6.6760e+00,  2.2719e+00, -8.5969e+00, -7.3837e+00,  1.3547e-02,\n",
       "          8.6973e-01,  2.4411e-01, -1.2233e+01, -1.8552e+00, -2.7816e+00,\n",
       "         -9.4266e+00, -1.5913e+00,  4.4237e+00, -3.0193e+00,  5.4916e+00,\n",
       "         -9.0071e+00,  3.1785e+00],\n",
       "        [ 2.8265e-02, -4.1494e+00,  2.7065e-01,  2.6260e+00, -1.5279e+01,\n",
       "         -4.9378e+00, -1.0198e+01,  1.3095e+01, -4.8907e+00,  9.1158e+00,\n",
       "          3.6156e+00,  7.5386e-01, -7.8405e+00, -2.9504e+00,  1.5605e+01,\n",
       "         -1.4383e+01,  1.5424e+01, -5.4321e+00,  4.5570e+00, -8.8819e+00,\n",
       "         -1.0921e+01, -6.9004e+00, -4.5844e+00,  1.3124e+00,  4.3843e+00,\n",
       "         -3.4601e-01,  1.9603e+00],\n",
       "        [ 4.0534e+00,  2.8155e+00,  8.3932e+00, -8.5655e+00, -1.0642e+01,\n",
       "         -3.7789e+00,  1.1983e+01,  1.4416e+01, -1.7913e+00,  1.0491e+01,\n",
       "         -3.8777e+00,  6.2393e+00,  1.4216e+01, -6.1704e+00, -1.2285e+00,\n",
       "          1.7222e+01,  1.3303e+01,  6.6962e+00, -2.1041e+00, -5.3312e+00,\n",
       "         -2.5310e+00,  1.5954e+01,  7.9101e+00,  2.1804e+01, -9.4494e+00,\n",
       "         -5.1376e+00, -3.0385e+00],\n",
       "        [ 3.8683e+00,  2.2657e+00,  8.3098e+00, -5.1211e+00, -1.0635e+01,\n",
       "          5.7956e+00,  1.6645e+01,  1.4740e+01,  4.5864e+00,  6.7276e+00,\n",
       "         -9.0498e+00,  5.1054e+00,  1.5713e+01, -6.5240e+00, -1.1341e+01,\n",
       "          2.0249e+01,  8.9186e+00,  1.0196e+01, -6.8071e+00, -6.1944e+00,\n",
       "          1.2211e+00,  2.0958e+01,  9.0253e+00,  1.8022e+01, -3.7657e+00,\n",
       "         -8.7460e+00, -5.0604e+00],\n",
       "        [-6.1064e+00, -5.8484e-01,  1.7786e+01, -4.0921e+00, -1.3266e+00,\n",
       "         -1.0509e+01,  3.9591e+00,  1.0612e+01, -1.7978e+01,  1.0237e+01,\n",
       "         -4.5348e+00,  1.1506e+01,  8.9455e-01, -8.1947e+00,  5.1029e-01,\n",
       "          1.3822e+01, -4.0817e+00,  7.7509e+00,  5.9888e+00, -7.4349e+00,\n",
       "         -1.2383e+01,  3.7311e+00,  5.8558e+00,  6.0070e+00,  3.1569e+00,\n",
       "         -8.5044e+00, -8.1225e+00],\n",
       "        [-6.0005e+00, -7.1759e+00,  9.1053e+00, -2.0584e+01, -1.0672e+01,\n",
       "          2.5421e+00, -2.3208e+00, -2.0002e+00, -4.3663e+00, -1.7292e+01,\n",
       "          1.1064e+01, -1.3854e+01,  8.0812e+00, -2.1602e+00,  2.5174e+00,\n",
       "         -1.6798e+01, -9.4843e+00, -1.3316e+01,  6.9861e+00,  1.7316e+00,\n",
       "         -1.1953e+01, -4.8748e+00, -3.8207e+00, -2.3328e+00, -3.2607e+00,\n",
       "         -1.4837e+01, -1.5358e+01],\n",
       "        [-6.9660e+00,  3.2172e+00, -8.3115e+00, -6.8034e+00, -7.5459e+00,\n",
       "          7.5412e+00,  2.9363e+00,  5.4304e+00,  1.8683e+00, -2.4166e+01,\n",
       "          1.0186e+01, -5.2210e+00, -1.1646e+01,  9.5065e-01,  4.2200e-01,\n",
       "         -9.7097e+00,  1.0318e+01, -1.4687e+01, -1.1299e+01,  5.5260e+00,\n",
       "         -1.5211e+01,  1.0019e+00, -5.4862e-01,  5.1795e-01,  4.7743e+00,\n",
       "          3.3832e+00,  3.7294e+00],\n",
       "        [-8.8933e+00,  1.2764e+01, -1.9340e+00, -4.1951e+00, -2.8150e-01,\n",
       "          8.2855e+00,  2.5342e+00, -1.3039e+01, -1.6510e+01, -9.0417e+00,\n",
       "          1.0879e+00,  6.3522e+00, -1.5500e+01, -1.9179e+00,  2.3530e+00,\n",
       "          2.2918e+00, -1.9198e+00, -8.7235e+00, -6.1158e+00,  3.6524e+00,\n",
       "         -2.0224e+01, -8.8964e+00, -3.5581e+00, -1.1972e+01,  2.4521e+00,\n",
       "          5.4827e+00,  1.3553e+01],\n",
       "        [ 1.0879e+00,  1.8846e+00, -3.7481e+00, -4.9216e+00, -1.2713e+01,\n",
       "         -3.9464e+00, -9.6263e+00,  8.7186e+00, -1.4786e+00,  7.6607e+00,\n",
       "          6.4145e+00, -7.5876e+00, -2.7671e-01, -2.2041e+00,  8.7403e+00,\n",
       "         -1.6824e+01,  1.5490e+01, -9.9899e+00,  3.0146e+00, -5.0977e+00,\n",
       "         -3.9052e+00, -7.6622e+00, -1.1166e+00,  8.3352e+00, -9.8313e-01,\n",
       "         -3.3495e+00, -3.4701e-01]])"
      ]
     },
     "execution_count": null,
     "metadata": {},
     "output_type": "execute_result"
    }
   ],
   "source": [
    "#hide\n",
    "logits"
   ]
  },
  {
   "cell_type": "code",
   "execution_count": null,
   "id": "2848a532",
   "metadata": {},
   "outputs": [],
   "source": [
    "counts = logits.exp()"
   ]
  },
  {
   "cell_type": "code",
   "execution_count": null,
   "id": "2a9ba089",
   "metadata": {},
   "outputs": [],
   "source": [
    "prob = counts/counts.sum(dim=1,keepdim=True)"
   ]
  },
  {
   "cell_type": "code",
   "execution_count": null,
   "id": "85cf6988",
   "metadata": {},
   "outputs": [
    {
     "data": {
      "text/plain": [
       "torch.Size([32, 27])"
      ]
     },
     "execution_count": null,
     "metadata": {},
     "output_type": "execute_result"
    }
   ],
   "source": [
    "#|hide\n",
    "prob.shape"
   ]
  },
  {
   "cell_type": "code",
   "execution_count": null,
   "id": "a2699468",
   "metadata": {},
   "outputs": [
    {
     "data": {
      "text/plain": [
       "tensor([1.0000, 1.0000, 1.0000, 1.0000, 1.0000, 1.0000, 1.0000, 1.0000, 1.0000,\n",
       "        1.0000, 1.0000, 1.0000, 1.0000, 1.0000, 1.0000, 1.0000, 1.0000, 1.0000,\n",
       "        1.0000, 1.0000, 1.0000, 1.0000, 1.0000, 1.0000, 1.0000, 1.0000, 1.0000,\n",
       "        1.0000, 1.0000, 1.0000, 1.0000, 1.0000])"
      ]
     },
     "execution_count": null,
     "metadata": {},
     "output_type": "execute_result"
    }
   ],
   "source": [
    "#|hide\n",
    "prob.sum(dim=1)"
   ]
  },
  {
   "cell_type": "code",
   "execution_count": null,
   "id": "94d11383",
   "metadata": {},
   "outputs": [
    {
     "data": {
      "text/plain": [
       "tensor([ 0,  1,  2,  3,  4,  5,  6,  7,  8,  9, 10, 11, 12, 13, 14, 15, 16, 17,\n",
       "        18, 19, 20, 21, 22, 23, 24, 25, 26, 27, 28, 29, 30, 31])"
      ]
     },
     "execution_count": null,
     "metadata": {},
     "output_type": "execute_result"
    }
   ],
   "source": [
    "#|hide\n",
    "torch.arange(32)"
   ]
  },
  {
   "cell_type": "code",
   "execution_count": null,
   "id": "fa09cd1e",
   "metadata": {},
   "outputs": [
    {
     "data": {
      "text/plain": [
       "tensor([ 5, 13, 13,  1,  0, 15, 12,  9, 22,  9,  1,  0,  1, 22,  1,  0,  9, 19,\n",
       "         1,  2,  5, 12, 12,  1,  0, 19, 15, 16,  8,  9,  1,  0])"
      ]
     },
     "execution_count": null,
     "metadata": {},
     "output_type": "execute_result"
    }
   ],
   "source": [
    "#|hide\n",
    "Y"
   ]
  },
  {
   "cell_type": "code",
   "execution_count": null,
   "id": "695f5270",
   "metadata": {},
   "outputs": [
    {
     "data": {
      "text/plain": [
       "tensor(17.9215)"
      ]
     },
     "execution_count": null,
     "metadata": {},
     "output_type": "execute_result"
    }
   ],
   "source": [
    "loss = -prob[torch.arange(32),Y].log().mean()\n",
    "loss"
   ]
  },
  {
   "cell_type": "code",
   "execution_count": null,
   "id": "51999ec4",
   "metadata": {},
   "outputs": [],
   "source": [
    "#|hide\n",
    "g = torch.Generator().manual_seed(2147483647)\n",
    "C = torch.randn((27,2), generator=g)\n",
    "\n",
    "W1 = torch.randn((6,100), generator=g) # 100 neurons each taking 6 inputs\n",
    "b1 = torch.randn((100), generator=g) # the bias for each of the 100 neurons\n",
    "\n",
    "W2 = torch.randn((100,27), generator=g) # 27 neurons each taking 100 inputs\n",
    "b2 = torch.randn(27, generator=g) # the biases for these neurons\n",
    "\n",
    "parameters = [C, W1, b1, W2, b2]"
   ]
  },
  {
   "cell_type": "code",
   "execution_count": null,
   "id": "71a8867d",
   "metadata": {},
   "outputs": [
    {
     "data": {
      "text/plain": [
       "3481"
      ]
     },
     "execution_count": null,
     "metadata": {},
     "output_type": "execute_result"
    }
   ],
   "source": [
    "#|hide\n",
    "sum([p.nelement() for p in parameters])"
   ]
  },
  {
   "cell_type": "code",
   "execution_count": null,
   "id": "9ba6168b",
   "metadata": {},
   "outputs": [
    {
     "data": {
      "text/plain": [
       "tensor(17.7697)"
      ]
     },
     "execution_count": null,
     "metadata": {},
     "output_type": "execute_result"
    }
   ],
   "source": [
    "#|hide\n",
    "emb = C[X] #(32,3,2)\n",
    "h = torch.tanh(emb.view((-1,6)) @ W1 + b1)\n",
    "logits = h @ W2 + b2\n",
    "counts = logits.exp()\n",
    "prob = counts/counts.sum(1,keepdims=True)\n",
    "loss = -prob[torch.arange(32),Y].log().mean()\n",
    "loss"
   ]
  },
  {
   "cell_type": "code",
   "execution_count": null,
   "id": "71b878b8",
   "metadata": {},
   "outputs": [
    {
     "data": {
      "text/plain": [
       "tensor(17.7697)"
      ]
     },
     "execution_count": null,
     "metadata": {},
     "output_type": "execute_result"
    }
   ],
   "source": [
    "#|hide\n",
    "# This is to be preferred as it is\n",
    "# numerically more well behaved (uses logsumexp) \n",
    "# and\n",
    "# the forward and backward passes are more efficient\n",
    "# (uses fused kernels)\n",
    "F.cross_entropy(logits, Y)"
   ]
  },
  {
   "cell_type": "code",
   "execution_count": null,
   "id": "9908404e",
   "metadata": {},
   "outputs": [
    {
     "data": {
      "text/plain": [
       "tensor([3.7835e-44, 4.9787e-02, 1.0000e+00,        inf])"
      ]
     },
     "execution_count": null,
     "metadata": {},
     "output_type": "execute_result"
    }
   ],
   "source": [
    "#|hide\n",
    "# large positive logits will get us into\n",
    "# trouble\n",
    "logits = torch.tensor([-100,-3,0,100])\n",
    "counts = logits.exp()\n",
    "counts"
   ]
  },
  {
   "cell_type": "code",
   "execution_count": null,
   "id": "c4509fba",
   "metadata": {},
   "outputs": [
    {
     "data": {
      "text/plain": [
       "tensor([0., 0., 0., nan])"
      ]
     },
     "execution_count": null,
     "metadata": {},
     "output_type": "execute_result"
    }
   ],
   "source": [
    "#hide\n",
    "probs = counts/counts.sum()\n",
    "probs"
   ]
  },
  {
   "cell_type": "markdown",
   "id": "e0642b62",
   "metadata": {},
   "source": [
    "#|hide\n",
    "\n",
    "Adding or subtracting a constant in these calculations\n",
    "don't change the result. Hence we can subtract the maximum\n",
    "of the logits and get an outcome that is numerically stable"
   ]
  },
  {
   "cell_type": "code",
   "execution_count": null,
   "id": "849230a6",
   "metadata": {},
   "outputs": [
    {
     "data": {
      "text/plain": [
       "tensor([0.0000e+00, 1.4013e-45, 3.7835e-44, 1.0000e+00])"
      ]
     },
     "execution_count": null,
     "metadata": {},
     "output_type": "execute_result"
    }
   ],
   "source": [
    "#|hide\n",
    "logits = torch.tensor([-100,-3,0,100])-100\n",
    "counts = logits.exp()\n",
    "probs = counts/counts.sum()\n",
    "probs"
   ]
  },
  {
   "cell_type": "code",
   "execution_count": null,
   "id": "67666f16",
   "metadata": {},
   "outputs": [],
   "source": [
    "g = torch.Generator().manual_seed(2147483647)\n",
    "C = torch.randn((27,2), generator=g)\n",
    "\n",
    "W1 = torch.randn((6,100), generator=g) # 100 neurons each taking 6 inputs\n",
    "b1 = torch.randn((100), generator=g) # the bias for each of the 100 neurons\n",
    "\n",
    "W2 = torch.randn((100,27), generator=g) # 27 neurons each taking 100 inputs\n",
    "b2 = torch.randn(27, generator=g)\n",
    "\n",
    "parameters = [C, W1, b1, W2, b2]"
   ]
  },
  {
   "cell_type": "code",
   "execution_count": null,
   "id": "f055245a",
   "metadata": {},
   "outputs": [
    {
     "data": {
      "text/plain": [
       "3481"
      ]
     },
     "execution_count": null,
     "metadata": {},
     "output_type": "execute_result"
    }
   ],
   "source": [
    "sum([p.nelement() for p in parameters])"
   ]
  },
  {
   "cell_type": "code",
   "execution_count": null,
   "id": "ab4a0547",
   "metadata": {},
   "outputs": [],
   "source": [
    "    for p in parameters:\n",
    "        p.requires_grad = True"
   ]
  },
  {
   "cell_type": "code",
   "execution_count": null,
   "id": "273d9a81",
   "metadata": {},
   "outputs": [
    {
     "name": "stdout",
     "output_type": "stream",
     "text": [
      "0.25614601373672485\n"
     ]
    }
   ],
   "source": [
    "for _ in range(1000):\n",
    "    # forward pass\n",
    "    emb = C[X] #(32,3,2)\n",
    "    h = torch.tanh(emb.view((-1,6)) @ W1 + b1) #(32,100)\n",
    "    logits = h @ W2 + b2 #(32,27)\n",
    "    loss = F.cross_entropy(logits, Y)\n",
    "\n",
    "    #backward pass\n",
    "    for p in parameters:\n",
    "        p.grad = None\n",
    "    loss.backward()  \n",
    "    for p in parameters:\n",
    "        p.data += -0.1 * p.grad\n",
    "\n",
    "print(loss.item())"
   ]
  },
  {
   "cell_type": "markdown",
   "id": "599566dd",
   "metadata": {},
   "source": [
    "#|hide\n",
    "03/28/23 Stop at 39:39 / 1:15:39"
   ]
  },
  {
   "cell_type": "code",
   "execution_count": null,
   "id": "abcbbe7c",
   "metadata": {},
   "outputs": [],
   "source": []
  }
 ],
 "metadata": {
  "kernelspec": {
   "display_name": "python3",
   "language": "python",
   "name": "python3"
  }
 },
 "nbformat": 4,
 "nbformat_minor": 5
}
